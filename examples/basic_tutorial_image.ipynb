{
 "cells": [
  {
   "cell_type": "markdown",
   "metadata": {},
   "source": [
    "# Basic tutorial: image data\n",
    "#### Author: Matteo Caorsi\n",
    "\n",
    "This short tutorial provides you with the basic functioning of *giotto-deep* API.\n",
    "\n",
    "The main steps of the tutorial are the following:\n",
    " 1. creation of a dataset\n",
    " 2. creation of a model\n",
    " 3. define metrics and losses\n",
    " 4. run benchmarks\n",
    " 5. visualise results interactively"
   ]
  },
  {
   "cell_type": "code",
   "execution_count": 1,
   "metadata": {},
   "outputs": [
    {
     "name": "stdout",
     "output_type": "stream",
     "text": [
      "No TPUs...\n",
      "No TPUs...\n"
     ]
    }
   ],
   "source": [
    "%reload_ext autoreload\n",
    "%autoreload 2\n",
    "%matplotlib inline\n",
    "\n",
    "import numpy as np\n",
    "\n",
    "import torch\n",
    "from torch import nn\n",
    "\n",
    "from gdeep.models import FFNet\n",
    "\n",
    "from gdeep.visualisation import  persistence_diagrams_of_activations\n",
    "\n",
    "from torch.utils.tensorboard import SummaryWriter\n",
    "from gdeep.data import TorchDataLoader\n",
    "\n",
    "\n",
    "from gtda.diagrams import BettiCurve\n",
    "\n",
    "from gtda.plotting import plot_betti_surfaces"
   ]
  },
  {
   "cell_type": "markdown",
   "metadata": {},
   "source": [
    "# Initialize the tensorboard writer\n",
    "\n",
    "In order to analyse the reuslts of your models, you need to start tensorboard.\n",
    "On the terminal, move inside the `/example` folder. There run the following command:\n",
    "\n",
    "```\n",
    "tensorboard --logdir=runs\n",
    "```\n",
    "\n",
    "Then go [here](http://localhost:6006/) after the training to see all the visualisation results."
   ]
  },
  {
   "cell_type": "code",
   "execution_count": 2,
   "metadata": {},
   "outputs": [],
   "source": [
    "writer = SummaryWriter()"
   ]
  },
  {
   "cell_type": "markdown",
   "metadata": {},
   "source": [
    "# Create your dataset"
   ]
  },
  {
   "cell_type": "code",
   "execution_count": 3,
   "metadata": {},
   "outputs": [
    {
     "name": "stdout",
     "output_type": "stream",
     "text": [
      "Files already downloaded and verified\n",
      "Files already downloaded and verified\n"
     ]
    }
   ],
   "source": [
    "from torch.utils.data.sampler import SubsetRandomSampler\n",
    "dl = TorchDataLoader(name=\"CIFAR10\")\n",
    "\n",
    "# use only 320 images from cifar10\n",
    "train_indices = list(range(32*10))\n",
    "dl_tr, dl_ts = dl.build_dataloader(batch_size=32, sampler=SubsetRandomSampler(train_indices))"
   ]
  },
  {
   "cell_type": "markdown",
   "metadata": {},
   "source": [
    "## Define and train your model"
   ]
  },
  {
   "cell_type": "code",
   "execution_count": 4,
   "metadata": {},
   "outputs": [
    {
     "name": "stdout",
     "output_type": "stream",
     "text": [
      "No TPUs...\n"
     ]
    }
   ],
   "source": [
    "import torchvision.models as models\n",
    "from gdeep.pipeline import Pipeline\n",
    "\n",
    "model = nn.Sequential(models.resnet18(pretrained=True), nn.Linear(1000,10))"
   ]
  },
  {
   "cell_type": "code",
   "execution_count": 5,
   "metadata": {},
   "outputs": [
    {
     "name": "stdout",
     "output_type": "stream",
     "text": [
      "Epoch 1\n",
      "-------------------------------\n",
      "Training loss:  3.2358405590057373  [ 10 / 10 ]                     \n",
      "Time taken for this epoch: 4s\n",
      "Validation results: \n",
      " Accuracy: 0.2%,                 Avg loss: 0.009600 \n",
      "\n",
      "Epoch 2\n",
      "-------------------------------\n",
      "Training loss:  0.65291827917099  [ 10 / 10 ]                      \n",
      "Time taken for this epoch: 4s\n",
      "Validation results: \n",
      " Accuracy: 0.2%,                 Avg loss: 0.011100 \n",
      "\n"
     ]
    },
    {
     "data": {
      "text/plain": [
       "(0.0111, 0.1894556140899658)"
      ]
     },
     "execution_count": 5,
     "metadata": {},
     "output_type": "execute_result"
    }
   ],
   "source": [
    "from torch.optim import SGD\n",
    "\n",
    "# print(model)\n",
    "loss_fn = nn.CrossEntropyLoss()\n",
    "\n",
    "pipe = Pipeline(model, (dl_tr, dl_ts), loss_fn, writer)\n",
    "\n",
    "# train the model\n",
    "pipe.train(SGD, 2, False, {\"lr\":0.01}, {\"batch_size\":32})\n",
    "\n"
   ]
  },
  {
   "cell_type": "markdown",
   "metadata": {},
   "source": [
    "# Simply use interpretability tools"
   ]
  },
  {
   "cell_type": "code",
   "execution_count": 6,
   "metadata": {},
   "outputs": [
    {
     "name": "stdout",
     "output_type": "stream",
     "text": [
      "No TPUs...\n"
     ]
    }
   ],
   "source": [
    "from gdeep.analysis.interpretability import Interpreter\n",
    "\n",
    "inter = Interpreter(model, method=\"IntegratedGradients\")\n",
    "inter.interpret_image(next(iter(dl_tr))[0][0].reshape(1,3,32,32), 6);\n"
   ]
  },
  {
   "cell_type": "markdown",
   "metadata": {},
   "source": [
    "# Extract inner data from your models"
   ]
  },
  {
   "cell_type": "code",
   "execution_count": 7,
   "metadata": {
    "scrolled": false
   },
   "outputs": [
    {
     "name": "stdout",
     "output_type": "stream",
     "text": [
      "0.conv1.weight torch.Size([64, 3, 7, 7])\n",
      "0.bn1.weight torch.Size([64])\n",
      "0.bn1.bias torch.Size([64])\n",
      "0.bn1.running_mean torch.Size([64])\n",
      "0.bn1.running_var torch.Size([64])\n",
      "0.bn1.num_batches_tracked torch.Size([])\n",
      "0.layer1.0.conv1.weight torch.Size([64, 64, 3, 3])\n",
      "0.layer1.0.bn1.weight torch.Size([64])\n",
      "0.layer1.0.bn1.bias torch.Size([64])\n",
      "0.layer1.0.bn1.running_mean torch.Size([64])\n",
      "0.layer1.0.bn1.running_var torch.Size([64])\n",
      "0.layer1.0.bn1.num_batches_tracked torch.Size([])\n",
      "0.layer1.0.conv2.weight torch.Size([64, 64, 3, 3])\n",
      "0.layer1.0.bn2.weight torch.Size([64])\n",
      "0.layer1.0.bn2.bias torch.Size([64])\n",
      "0.layer1.0.bn2.running_mean torch.Size([64])\n",
      "0.layer1.0.bn2.running_var torch.Size([64])\n",
      "0.layer1.0.bn2.num_batches_tracked torch.Size([])\n",
      "0.layer1.1.conv1.weight torch.Size([64, 64, 3, 3])\n",
      "0.layer1.1.bn1.weight torch.Size([64])\n",
      "0.layer1.1.bn1.bias torch.Size([64])\n",
      "0.layer1.1.bn1.running_mean torch.Size([64])\n",
      "0.layer1.1.bn1.running_var torch.Size([64])\n",
      "0.layer1.1.bn1.num_batches_tracked torch.Size([])\n",
      "0.layer1.1.conv2.weight torch.Size([64, 64, 3, 3])\n",
      "0.layer1.1.bn2.weight torch.Size([64])\n",
      "0.layer1.1.bn2.bias torch.Size([64])\n",
      "0.layer1.1.bn2.running_mean torch.Size([64])\n",
      "0.layer1.1.bn2.running_var torch.Size([64])\n",
      "0.layer1.1.bn2.num_batches_tracked torch.Size([])\n",
      "0.layer2.0.conv1.weight torch.Size([128, 64, 3, 3])\n",
      "0.layer2.0.bn1.weight torch.Size([128])\n",
      "0.layer2.0.bn1.bias torch.Size([128])\n",
      "0.layer2.0.bn1.running_mean torch.Size([128])\n",
      "0.layer2.0.bn1.running_var torch.Size([128])\n",
      "0.layer2.0.bn1.num_batches_tracked torch.Size([])\n",
      "0.layer2.0.conv2.weight torch.Size([128, 128, 3, 3])\n",
      "0.layer2.0.bn2.weight torch.Size([128])\n",
      "0.layer2.0.bn2.bias torch.Size([128])\n",
      "0.layer2.0.bn2.running_mean torch.Size([128])\n",
      "0.layer2.0.bn2.running_var torch.Size([128])\n",
      "0.layer2.0.bn2.num_batches_tracked torch.Size([])\n",
      "0.layer2.0.downsample.0.weight torch.Size([128, 64, 1, 1])\n",
      "0.layer2.0.downsample.1.weight torch.Size([128])\n",
      "0.layer2.0.downsample.1.bias torch.Size([128])\n",
      "0.layer2.0.downsample.1.running_mean torch.Size([128])\n",
      "0.layer2.0.downsample.1.running_var torch.Size([128])\n",
      "0.layer2.0.downsample.1.num_batches_tracked torch.Size([])\n",
      "0.layer2.1.conv1.weight torch.Size([128, 128, 3, 3])\n",
      "0.layer2.1.bn1.weight torch.Size([128])\n",
      "0.layer2.1.bn1.bias torch.Size([128])\n",
      "0.layer2.1.bn1.running_mean torch.Size([128])\n",
      "0.layer2.1.bn1.running_var torch.Size([128])\n",
      "0.layer2.1.bn1.num_batches_tracked torch.Size([])\n",
      "0.layer2.1.conv2.weight torch.Size([128, 128, 3, 3])\n",
      "0.layer2.1.bn2.weight torch.Size([128])\n",
      "0.layer2.1.bn2.bias torch.Size([128])\n",
      "0.layer2.1.bn2.running_mean torch.Size([128])\n",
      "0.layer2.1.bn2.running_var torch.Size([128])\n",
      "0.layer2.1.bn2.num_batches_tracked torch.Size([])\n",
      "0.layer3.0.conv1.weight torch.Size([256, 128, 3, 3])\n",
      "0.layer3.0.bn1.weight torch.Size([256])\n",
      "0.layer3.0.bn1.bias torch.Size([256])\n",
      "0.layer3.0.bn1.running_mean torch.Size([256])\n",
      "0.layer3.0.bn1.running_var torch.Size([256])\n",
      "0.layer3.0.bn1.num_batches_tracked torch.Size([])\n",
      "0.layer3.0.conv2.weight torch.Size([256, 256, 3, 3])\n",
      "0.layer3.0.bn2.weight torch.Size([256])\n",
      "0.layer3.0.bn2.bias torch.Size([256])\n",
      "0.layer3.0.bn2.running_mean torch.Size([256])\n",
      "0.layer3.0.bn2.running_var torch.Size([256])\n",
      "0.layer3.0.bn2.num_batches_tracked torch.Size([])\n",
      "0.layer3.0.downsample.0.weight torch.Size([256, 128, 1, 1])\n",
      "0.layer3.0.downsample.1.weight torch.Size([256])\n",
      "0.layer3.0.downsample.1.bias torch.Size([256])\n",
      "0.layer3.0.downsample.1.running_mean torch.Size([256])\n",
      "0.layer3.0.downsample.1.running_var torch.Size([256])\n",
      "0.layer3.0.downsample.1.num_batches_tracked torch.Size([])\n",
      "0.layer3.1.conv1.weight torch.Size([256, 256, 3, 3])\n",
      "0.layer3.1.bn1.weight torch.Size([256])\n",
      "0.layer3.1.bn1.bias torch.Size([256])\n",
      "0.layer3.1.bn1.running_mean torch.Size([256])\n",
      "0.layer3.1.bn1.running_var torch.Size([256])\n",
      "0.layer3.1.bn1.num_batches_tracked torch.Size([])\n",
      "0.layer3.1.conv2.weight torch.Size([256, 256, 3, 3])\n",
      "0.layer3.1.bn2.weight torch.Size([256])\n",
      "0.layer3.1.bn2.bias torch.Size([256])\n",
      "0.layer3.1.bn2.running_mean torch.Size([256])\n",
      "0.layer3.1.bn2.running_var torch.Size([256])\n",
      "0.layer3.1.bn2.num_batches_tracked torch.Size([])\n",
      "0.layer4.0.conv1.weight torch.Size([512, 256, 3, 3])\n",
      "0.layer4.0.bn1.weight torch.Size([512])\n",
      "0.layer4.0.bn1.bias torch.Size([512])\n",
      "0.layer4.0.bn1.running_mean torch.Size([512])\n",
      "0.layer4.0.bn1.running_var torch.Size([512])\n",
      "0.layer4.0.bn1.num_batches_tracked torch.Size([])\n",
      "0.layer4.0.conv2.weight torch.Size([512, 512, 3, 3])\n",
      "0.layer4.0.bn2.weight torch.Size([512])\n",
      "0.layer4.0.bn2.bias torch.Size([512])\n",
      "0.layer4.0.bn2.running_mean torch.Size([512])\n",
      "0.layer4.0.bn2.running_var torch.Size([512])\n",
      "0.layer4.0.bn2.num_batches_tracked torch.Size([])\n",
      "0.layer4.0.downsample.0.weight torch.Size([512, 256, 1, 1])\n",
      "0.layer4.0.downsample.1.weight torch.Size([512])\n",
      "0.layer4.0.downsample.1.bias torch.Size([512])\n",
      "0.layer4.0.downsample.1.running_mean torch.Size([512])\n",
      "0.layer4.0.downsample.1.running_var torch.Size([512])\n",
      "0.layer4.0.downsample.1.num_batches_tracked torch.Size([])\n",
      "0.layer4.1.conv1.weight torch.Size([512, 512, 3, 3])\n",
      "0.layer4.1.bn1.weight torch.Size([512])\n",
      "0.layer4.1.bn1.bias torch.Size([512])\n",
      "0.layer4.1.bn1.running_mean torch.Size([512])\n",
      "0.layer4.1.bn1.running_var torch.Size([512])\n",
      "0.layer4.1.bn1.num_batches_tracked torch.Size([])\n",
      "0.layer4.1.conv2.weight torch.Size([512, 512, 3, 3])\n",
      "0.layer4.1.bn2.weight torch.Size([512])\n",
      "0.layer4.1.bn2.bias torch.Size([512])\n",
      "0.layer4.1.bn2.running_mean torch.Size([512])\n",
      "0.layer4.1.bn2.running_var torch.Size([512])\n",
      "0.layer4.1.bn2.num_batches_tracked torch.Size([])\n",
      "0.fc.weight torch.Size([1000, 512])\n",
      "0.fc.bias torch.Size([1000])\n",
      "1.weight torch.Size([10, 1000])\n",
      "1.bias torch.Size([10])\n"
     ]
    }
   ],
   "source": [
    "from gdeep.models import ModelExtractor\n",
    "\n",
    "me = ModelExtractor(model, loss_fn)\n",
    "\n",
    "lista = me.get_layers_param()\n",
    "\n",
    "for k, item in lista.items():\n",
    "    print(k,item.shape)\n"
   ]
  },
  {
   "cell_type": "code",
   "execution_count": 8,
   "metadata": {},
   "outputs": [
    {
     "name": "stdout",
     "output_type": "stream",
     "text": [
      "Executing the decision boundary computations:\n",
      "Step: 0/1\r"
     ]
    }
   ],
   "source": [
    "x = next(iter(dl_tr))[0][0]\n",
    "if x.dtype is not torch.int64:\n",
    "    res = me.get_decision_boundary(x, n_epochs=1)\n",
    "    res.shape"
   ]
  },
  {
   "cell_type": "code",
   "execution_count": 9,
   "metadata": {},
   "outputs": [
    {
     "data": {
      "text/plain": [
       "78"
      ]
     },
     "execution_count": 9,
     "metadata": {},
     "output_type": "execute_result"
    }
   ],
   "source": [
    "x = next(iter(dl_tr))[0]\n",
    "list_activations = me.get_activations(x)\n",
    "len(list_activations)\n"
   ]
  },
  {
   "cell_type": "code",
   "execution_count": 10,
   "metadata": {},
   "outputs": [
    {
     "name": "stdout",
     "output_type": "stream",
     "text": [
      "torch.Size([64, 3, 7, 7])\n",
      "torch.Size([64])\n",
      "torch.Size([64])\n",
      "torch.Size([64, 64, 3, 3])\n",
      "torch.Size([64])\n",
      "torch.Size([64])\n",
      "torch.Size([64, 64, 3, 3])\n",
      "torch.Size([64])\n",
      "torch.Size([64])\n",
      "torch.Size([64, 64, 3, 3])\n",
      "torch.Size([64])\n",
      "torch.Size([64])\n",
      "torch.Size([64, 64, 3, 3])\n",
      "torch.Size([64])\n",
      "torch.Size([64])\n",
      "torch.Size([128, 64, 3, 3])\n",
      "torch.Size([128])\n",
      "torch.Size([128])\n",
      "torch.Size([128, 128, 3, 3])\n",
      "torch.Size([128])\n",
      "torch.Size([128])\n",
      "torch.Size([128, 64, 1, 1])\n",
      "torch.Size([128])\n",
      "torch.Size([128])\n",
      "torch.Size([128, 128, 3, 3])\n",
      "torch.Size([128])\n",
      "torch.Size([128])\n",
      "torch.Size([128, 128, 3, 3])\n",
      "torch.Size([128])\n",
      "torch.Size([128])\n",
      "torch.Size([256, 128, 3, 3])\n",
      "torch.Size([256])\n",
      "torch.Size([256])\n",
      "torch.Size([256, 256, 3, 3])\n",
      "torch.Size([256])\n",
      "torch.Size([256])\n",
      "torch.Size([256, 128, 1, 1])\n",
      "torch.Size([256])\n",
      "torch.Size([256])\n",
      "torch.Size([256, 256, 3, 3])\n",
      "torch.Size([256])\n",
      "torch.Size([256])\n",
      "torch.Size([256, 256, 3, 3])\n",
      "torch.Size([256])\n",
      "torch.Size([256])\n",
      "torch.Size([512, 256, 3, 3])\n",
      "torch.Size([512])\n",
      "torch.Size([512])\n",
      "torch.Size([512, 512, 3, 3])\n",
      "torch.Size([512])\n",
      "torch.Size([512])\n",
      "torch.Size([512, 256, 1, 1])\n",
      "torch.Size([512])\n",
      "torch.Size([512])\n",
      "torch.Size([512, 512, 3, 3])\n",
      "torch.Size([512])\n",
      "torch.Size([512])\n",
      "torch.Size([512, 512, 3, 3])\n",
      "torch.Size([512])\n",
      "torch.Size([512])\n",
      "torch.Size([1000, 512])\n",
      "torch.Size([1000])\n",
      "torch.Size([10, 1000])\n",
      "torch.Size([10])\n"
     ]
    }
   ],
   "source": [
    "x, target = next(iter(dl_tr))\n",
    "if x.dtype is torch.float:\n",
    "    for gradient in me.get_gradients(x, target=target)[1]:\n",
    "        print(gradient.shape)"
   ]
  },
  {
   "cell_type": "markdown",
   "metadata": {},
   "source": [
    "# Visualise activations and other topological aspects of your model"
   ]
  },
  {
   "cell_type": "code",
   "execution_count": 11,
   "metadata": {
    "scrolled": false
   },
   "outputs": [],
   "source": [
    "from gdeep.visualisation import Visualiser\n",
    "\n",
    "vs = Visualiser(pipe)\n",
    "\n",
    "# vs.plot_data_model()\n",
    "# vs.plot_activations(x)\n",
    "vs.plot_persistence_diagrams(x)\n"
   ]
  },
  {
   "cell_type": "code",
   "execution_count": 12,
   "metadata": {},
   "outputs": [
    {
     "data": {
      "image/png": "[encoded data removed]",
      "text/plain": [
       "<Figure size 576x432 with 4 Axes>"
      ]
     },
     "metadata": {
      "needs_background": "light"
     },
     "output_type": "display_data"
    }
   ],
   "source": [
    "vs.plot_interpreter_image(inter);"
   ]
  },
  {
   "cell_type": "code",
   "execution_count": null,
   "metadata": {},
   "outputs": [],
   "source": []
  }
 ],
 "metadata": {
  "kernelspec": {
   "display_name": "Python 3",
   "language": "python",
   "name": "python3"
  },
  "language_info": {
   "codemirror_mode": {
    "name": "ipython",
    "version": 3
   },
   "file_extension": ".py",
   "mimetype": "text/x-python",
   "name": "python",
   "nbconvert_exporter": "python",
   "pygments_lexer": "ipython3",
   "version": "3.6.8"
  }
 },
 "nbformat": 4,
 "nbformat_minor": 2
}
