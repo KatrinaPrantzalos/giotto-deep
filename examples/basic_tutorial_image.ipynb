{
 "cells": [
  {
   "cell_type": "markdown",
   "metadata": {},
   "source": [
    "# Basic tutorial: image data\n",
    "#### Author: Matteo Caorsi\n",
    "\n",
    "This short tutorial provides you with the basic functioning of *giotto-deep* API.\n",
    "\n",
    "The main steps of the tutorial are the following:\n",
    " 1. creation of a dataset\n",
    " 2. creation of a model\n",
    " 3. define metrics and losses\n",
    " 4. run benchmarks\n",
    " 5. visualise results interactively"
   ]
  },
  {
   "cell_type": "code",
   "execution_count": 1,
   "metadata": {},
   "outputs": [],
   "source": [
    "%reload_ext autoreload\n",
    "%autoreload 2\n",
    "%matplotlib inline\n",
    "\n",
    "import numpy as np\n",
    "\n",
    "import torch\n",
    "from torch import nn\n",
    "\n",
    "from gdeep.models import FFNet\n",
    "\n",
    "from gdeep.visualisation import  persistence_diagrams_of_activations\n",
    "\n",
    "from torch.utils.tensorboard import SummaryWriter\n",
    "from gdeep.data import TorchDataLoader\n",
    "\n",
    "\n",
    "from gtda.diagrams import BettiCurve\n",
    "\n",
    "from gtda.plotting import plot_betti_surfaces\n",
    "\n",
    "import optuna"
   ]
  },
  {
   "cell_type": "markdown",
   "metadata": {},
   "source": [
    "# Initialize the tensorboard writer\n",
    "\n",
    "In order to analyse the reuslts of your models, you need to start tensorboard.\n",
    "On the terminal, move inside the `/example` folder. There run the following command:\n",
    "\n",
    "```\n",
    "tensorboard --logdir=runs\n",
    "```\n",
    "\n",
    "Then go [here](http://localhost:6006/) after the training to see all the visualisation results."
   ]
  },
  {
   "cell_type": "code",
   "execution_count": 21,
   "metadata": {},
   "outputs": [],
   "source": [
    "writer = SummaryWriter()"
   ]
  },
  {
   "cell_type": "markdown",
   "metadata": {},
   "source": [
    "# Create your dataset"
   ]
  },
  {
   "cell_type": "code",
   "execution_count": 3,
   "metadata": {},
   "outputs": [
    {
     "name": "stdout",
     "output_type": "stream",
     "text": [
      "10240\n",
      "Files already downloaded and verified\n",
      "Files already downloaded and verified\n",
      "20\n",
      "Files already downloaded and verified\n",
      "Files already downloaded and verified\n",
      "6\n"
     ]
    }
   ],
   "source": [
    "from torch.utils.data.sampler import SubsetRandomSampler\n",
    "\n",
    "dl = TorchDataLoader(name=\"CIFAR10\")\n",
    "train_indices = []\n",
    "for i in range(10240):\n",
    "    train_indices.append(i)\n",
    "\n",
    "print(len(train_indices))\n",
    "dl_tr, dl_temp = dl.build_dataloader(batch_size=512, sampler=SubsetRandomSampler(train_indices))\n",
    "\n",
    "print(len(dl_tr))\n",
    "\n",
    "test_indices = []\n",
    "for i in range(3072):\n",
    "    test_indices.append(i)\n",
    "\n",
    "dl_ts, dl_temp = dl.build_dataloader(batch_size=512, sampler=SubsetRandomSampler(test_indices))\n",
    "\n",
    "dl_val = dl_ts\n",
    "\n",
    "print(len(dl_ts))"
   ]
  },
  {
   "cell_type": "markdown",
   "metadata": {},
   "source": [
    "## Define and train your model"
   ]
  },
  {
   "cell_type": "code",
   "execution_count": 4,
   "metadata": {},
   "outputs": [],
   "source": [
    "import torchvision.models as models\n",
    "from gdeep.pipeline import Pipeline\n",
    "\n",
    "model = nn.Sequential(models.resnet18(pretrained=True), nn.Linear(1000,10))"
   ]
  },
  {
   "cell_type": "code",
   "execution_count": 6,
   "metadata": {},
   "outputs": [
    {
     "name": "stdout",
     "output_type": "stream",
     "text": [
      "TOTAL EPOCHS  2\n",
      "Epoch 1\n",
      "-------------------------------\n"
     ]
    },
    {
     "name": "stderr",
     "output_type": "stream",
     "text": [
      "d:\\anaconda3\\envs\\giotto-deep2\\lib\\site-packages\\torch\\nn\\functional.py:718: UserWarning: Named tensors and all their associated APIs are an experimental feature and subject to change. Please do not use them for anything important until they are released as stable. (Triggered internally at  ..\\c10/core/TensorImpl.h:1156.)\n",
      "  return torch.max_pool2d(input, kernel_size, stride, padding, dilation, ceil_mode)\n"
     ]
    },
    {
     "name": "stdout",
     "output_type": "stream",
     "text": [
      "Training loss: 1.585377  [20/20]\n",
      "Time taken for this epoch: 7s\n",
      "Validation results: \n",
      " Accuracy: 3.3%,                 Avg loss: 0.000161 \n",
      "\n",
      "Epoch 2\n",
      "-------------------------------\n",
      "Training loss: 1.291306  [20/20]\n",
      "Time taken for this epoch: 5s\n",
      "Validation results: \n",
      " Accuracy: 4.0%,                 Avg loss: 0.000122 \n",
      "\n",
      "Test results: \n",
      " Accuracy: 4.0%,                 Avg loss: 0.000122 \n",
      "\n",
      "Done!\n"
     ]
    }
   ],
   "source": [
    "from torch.optim import SGD, Adam, RMSprop\n",
    "from gdeep.search import gridsearch\n",
    "\n",
    "# print(model)\n",
    "loss_fn = nn.CrossEntropyLoss()\n",
    "\n",
    "# pipe = Pipeline(model, (dl_tr, dl_ts), loss_fn, writer)\n",
    "# pipe = Pipeline(model, (dl_tr, dl_ts), loss_fn, writer, True, \"loss\", 5)\n",
    "pipe = Pipeline(model, [dl_tr, dl_val, dl_ts], loss_fn, writer)\n",
    "# pipe = Pipeline(model, [dl_tr, dl_ts], loss_fn, writer)\n",
    "\n",
    "# search = gridsearch.Gridsearch(pipe, \"loss\", 5)\n",
    "# search.search([SGD, Adam], 1, lr=[0.001, 0.01])\n",
    "\n",
    "# train the model\n",
    "pipe.train(SGD, 2, cross_validation = True, batch_size = 512, lr=0.01)\n",
    "# pipe.train([SGD, Adam], 1, lr=[0.001, 0.01])\n",
    "# pipe.train([SGD, Adam], 1, lr=0.01)\n",
    "\n"
   ]
  },
  {
   "cell_type": "markdown",
   "metadata": {},
   "source": [
    "# Gridsearch"
   ]
  },
  {
   "cell_type": "code",
   "execution_count": 12,
   "metadata": {},
   "outputs": [
    {
     "name": "stderr",
     "output_type": "stream",
     "text": [
      "\u001b[32m[I 2021-07-24 14:13:41,543]\u001b[0m A new study created in memory with name: no-name-2b6f1334-f317-41ff-8917-24a73a8db370\u001b[0m\n"
     ]
    },
    {
     "name": "stdout",
     "output_type": "stream",
     "text": [
      "Epoch 1\n",
      "-------------------------------\n",
      "Training loss: 0.857715  [20/20]\n",
      "Time taken for this epoch: 5s\n"
     ]
    },
    {
     "name": "stderr",
     "output_type": "stream",
     "text": [
      "\u001b[32m[I 2021-07-24 14:13:47,424]\u001b[0m Trial 0 finished with value: 0.8577152490615845 and parameters: {'optimizer': <class 'torch.optim.sgd.SGD'>, 'lr': 0.0012334050172083419}. Best is trial 0 with value: 0.8577152490615845.\u001b[0m\n"
     ]
    },
    {
     "name": "stdout",
     "output_type": "stream",
     "text": [
      "Validation results: \n",
      " Accuracy: 4.3%,                 Avg loss: 0.000128 \n",
      "\n",
      "Done!\n",
      "Epoch 1\n",
      "-------------------------------\n",
      "Training loss: 0.892298  [20/20]\n",
      "Time taken for this epoch: 5s\n"
     ]
    },
    {
     "name": "stderr",
     "output_type": "stream",
     "text": [
      "\u001b[32m[I 2021-07-24 14:13:53,290]\u001b[0m Trial 1 finished with value: 0.8922978043556213 and parameters: {'optimizer': <class 'torch.optim.sgd.SGD'>, 'lr': 0.004655486428508404}. Best is trial 0 with value: 0.8577152490615845.\u001b[0m\n"
     ]
    },
    {
     "name": "stdout",
     "output_type": "stream",
     "text": [
      "Validation results: \n",
      " Accuracy: 4.4%,                 Avg loss: 0.000101 \n",
      "\n",
      "Done!\n",
      "Epoch 1\n",
      "-------------------------------\n",
      "Training loss: 0.815692  [20/20]\n",
      "Time taken for this epoch: 5s\n"
     ]
    },
    {
     "name": "stderr",
     "output_type": "stream",
     "text": [
      "\u001b[32m[I 2021-07-24 14:13:59,167]\u001b[0m Trial 2 finished with value: 0.8156918287277222 and parameters: {'optimizer': <class 'torch.optim.sgd.SGD'>, 'lr': 0.0032357676030599115}. Best is trial 2 with value: 0.8156918287277222.\u001b[0m\n"
     ]
    },
    {
     "name": "stdout",
     "output_type": "stream",
     "text": [
      "Validation results: \n",
      " Accuracy: 4.5%,                 Avg loss: 0.000100 \n",
      "\n",
      "Done!\n",
      "Epoch 1\n",
      "-------------------------------\n",
      "Training loss: 0.898230  [20/20]\n",
      "Time taken for this epoch: 5s\n"
     ]
    },
    {
     "name": "stderr",
     "output_type": "stream",
     "text": [
      "\u001b[32m[I 2021-07-24 14:14:05,154]\u001b[0m Trial 3 finished with value: 0.898230254650116 and parameters: {'optimizer': <class 'torch.optim.sgd.SGD'>, 'lr': 0.007297608780769489}. Best is trial 2 with value: 0.8156918287277222.\u001b[0m\n"
     ]
    },
    {
     "name": "stdout",
     "output_type": "stream",
     "text": [
      "Validation results: \n",
      " Accuracy: 4.5%,                 Avg loss: 0.000095 \n",
      "\n",
      "Done!\n",
      "Epoch 1\n",
      "-------------------------------\n",
      "Training loss: 0.781645  [20/20]\n",
      "Time taken for this epoch: 5s\n"
     ]
    },
    {
     "name": "stderr",
     "output_type": "stream",
     "text": [
      "\u001b[32m[I 2021-07-24 14:14:11,029]\u001b[0m Trial 4 finished with value: 0.7816447019577026 and parameters: {'optimizer': <class 'torch.optim.sgd.SGD'>, 'lr': 0.006913700491819268}. Best is trial 4 with value: 0.7816447019577026.\u001b[0m\n"
     ]
    },
    {
     "name": "stdout",
     "output_type": "stream",
     "text": [
      "Validation results: \n",
      " Accuracy: 4.5%,                 Avg loss: 0.000093 \n",
      "\n",
      "Done!\n",
      "Epoch 1\n",
      "-------------------------------\n",
      "Training loss: 0.804680  [20/20]\n",
      "Time taken for this epoch: 5s\n"
     ]
    },
    {
     "name": "stderr",
     "output_type": "stream",
     "text": [
      "\u001b[32m[I 2021-07-24 14:14:16,894]\u001b[0m Trial 5 finished with value: 0.8046799302101135 and parameters: {'optimizer': <class 'torch.optim.sgd.SGD'>, 'lr': 0.0013663290932437893}. Best is trial 4 with value: 0.7816447019577026.\u001b[0m\n"
     ]
    },
    {
     "name": "stdout",
     "output_type": "stream",
     "text": [
      "Validation results: \n",
      " Accuracy: 4.5%,                 Avg loss: 0.000093 \n",
      "\n",
      "Done!\n",
      "Epoch 1\n",
      "-------------------------------\n",
      "Training loss: 0.875911  [20/20]\n",
      "Time taken for this epoch: 5s\n"
     ]
    },
    {
     "name": "stderr",
     "output_type": "stream",
     "text": [
      "\u001b[32m[I 2021-07-24 14:14:22,767]\u001b[0m Trial 6 pruned. \u001b[0m\n"
     ]
    },
    {
     "name": "stdout",
     "output_type": "stream",
     "text": [
      "Validation results: \n",
      " Accuracy: 4.5%,                 Avg loss: 0.000091 \n",
      "\n",
      "Epoch 1\n",
      "-------------------------------\n",
      "Training loss: 1.179461  [20/20]\n",
      "Time taken for this epoch: 5s\n"
     ]
    },
    {
     "name": "stderr",
     "output_type": "stream",
     "text": [
      "\u001b[32m[I 2021-07-24 14:14:28,717]\u001b[0m Trial 7 pruned. \u001b[0m\n"
     ]
    },
    {
     "name": "stdout",
     "output_type": "stream",
     "text": [
      "Validation results: \n",
      " Accuracy: 4.1%,                 Avg loss: 0.000125 \n",
      "\n",
      "Epoch 1\n",
      "-------------------------------\n",
      "Training loss: 0.915362  [20/20]\n",
      "Time taken for this epoch: 5s\n"
     ]
    },
    {
     "name": "stderr",
     "output_type": "stream",
     "text": [
      "\u001b[32m[I 2021-07-24 14:14:34,583]\u001b[0m Trial 8 pruned. \u001b[0m\n"
     ]
    },
    {
     "name": "stdout",
     "output_type": "stream",
     "text": [
      "Validation results: \n",
      " Accuracy: 4.2%,                 Avg loss: 0.000115 \n",
      "\n",
      "Epoch 1\n",
      "-------------------------------\n",
      "Training loss: 0.893122  [20/20]\n",
      "Time taken for this epoch: 5s\n"
     ]
    },
    {
     "name": "stderr",
     "output_type": "stream",
     "text": [
      "\u001b[32m[I 2021-07-24 14:14:40,469]\u001b[0m Trial 9 pruned. \u001b[0m\n"
     ]
    },
    {
     "name": "stdout",
     "output_type": "stream",
     "text": [
      "Validation results: \n",
      " Accuracy: 4.2%,                 Avg loss: 0.000111 \n",
      "\n",
      "Study statistics: \n",
      "  Number of finished trials:  10\n",
      "  Number of pruned trials:  4\n",
      "  Number of complete trials:  6\n",
      "Best trial:\n",
      "  Value:  0.7816447019577026\n",
      "  Params: \n",
      "    optimizer: <class 'torch.optim.sgd.SGD'>\n",
      "    lr: 0.006913700491819268\n"
     ]
    }
   ],
   "source": [
    "from gdeep.search.gridsearch import Gridsearch\n",
    "from torch.optim import SGD, Adam, RMSprop\n",
    "\n",
    "loss_fn = nn.CrossEntropyLoss()\n",
    "\n",
    "pipe = Pipeline(model, [dl_tr, dl_val, dl_ts], loss_fn, writer)\n",
    "# pipe = Pipeline([model1, model2, ...], [[dl_tr, dl_val, dl_ts], [dl_tr2, dl_val2, dl_ts2], ...], loss_fn, writer)\n",
    "\n",
    "search = Gridsearch(pipe, \"loss\", 10)\n",
    "search.start([SGD, Adam], 1, lr=[0.001, 0.01])"
   ]
  },
  {
   "cell_type": "markdown",
   "metadata": {},
   "source": [
    "# Gridsearch with multiple pipelines (models/datasets)"
   ]
  },
  {
   "cell_type": "code",
   "execution_count": 27,
   "metadata": {},
   "outputs": [
    {
     "ename": "NameError",
     "evalue": "name 'model1' is not defined",
     "output_type": "error",
     "traceback": [
      "\u001b[1;31m---------------------------------------------------------------------------\u001b[0m",
      "\u001b[1;31mNameError\u001b[0m                                 Traceback (most recent call last)",
      "\u001b[1;32m<ipython-input-27-22823f6408a0>\u001b[0m in \u001b[0;36m<module>\u001b[1;34m\u001b[0m\n\u001b[0;32m      1\u001b[0m \u001b[1;32mfrom\u001b[0m \u001b[0mgdeep\u001b[0m\u001b[1;33m.\u001b[0m\u001b[0msearch\u001b[0m\u001b[1;33m.\u001b[0m\u001b[0mgridsearch\u001b[0m \u001b[1;32mimport\u001b[0m \u001b[0mGridsearch\u001b[0m\u001b[1;33m\u001b[0m\u001b[1;33m\u001b[0m\u001b[0m\n\u001b[0;32m      2\u001b[0m \u001b[1;33m\u001b[0m\u001b[0m\n\u001b[1;32m----> 3\u001b[1;33m \u001b[0mpipe1\u001b[0m \u001b[1;33m=\u001b[0m \u001b[0mPipeline\u001b[0m\u001b[1;33m(\u001b[0m\u001b[0mmodel1\u001b[0m\u001b[1;33m,\u001b[0m \u001b[1;33m[\u001b[0m\u001b[0mdl_tr\u001b[0m\u001b[1;33m,\u001b[0m \u001b[0mdl_ts\u001b[0m\u001b[1;33m,\u001b[0m \u001b[0mdl_ts\u001b[0m\u001b[1;33m]\u001b[0m\u001b[1;33m,\u001b[0m \u001b[0mloss_fn\u001b[0m\u001b[1;33m,\u001b[0m \u001b[0mwriter\u001b[0m\u001b[1;33m)\u001b[0m\u001b[1;33m\u001b[0m\u001b[1;33m\u001b[0m\u001b[0m\n\u001b[0m\u001b[0;32m      4\u001b[0m \u001b[0mpipe2\u001b[0m \u001b[1;33m=\u001b[0m \u001b[0mPipeline\u001b[0m\u001b[1;33m(\u001b[0m\u001b[0mmodel2\u001b[0m\u001b[1;33m,\u001b[0m \u001b[1;33m[\u001b[0m\u001b[0mdl_tr\u001b[0m\u001b[1;33m,\u001b[0m \u001b[0mdl_ts\u001b[0m\u001b[1;33m,\u001b[0m \u001b[0mdl_ts\u001b[0m\u001b[1;33m]\u001b[0m\u001b[1;33m,\u001b[0m \u001b[0mloss_fn\u001b[0m\u001b[1;33m,\u001b[0m \u001b[0mwriter\u001b[0m\u001b[1;33m)\u001b[0m\u001b[1;33m\u001b[0m\u001b[1;33m\u001b[0m\u001b[0m\n\u001b[0;32m      5\u001b[0m \u001b[1;33m\u001b[0m\u001b[0m\n",
      "\u001b[1;31mNameError\u001b[0m: name 'model1' is not defined"
     ]
    }
   ],
   "source": [
    "from gdeep.search.gridsearch import Gridsearch\n",
    "\n",
    "pipe1 = Pipeline(model1, [dl_tr, dl_ts, dl_ts], loss_fn, writer)\n",
    "pipe2 = Pipeline(model2, [dl_tr, dl_ts, dl_ts], loss_fn, writer)\n",
    "\n",
    "search1 = Gridsearch(pipe1, \"loss\", 2)\n",
    "search1.search([SGD, Adam], 1, lr=[0.001, 0.01])\n",
    "\n",
    "search2 = Gridsearch(pipe1, \"loss\", 2)\n",
    "search2.search([SGD, Adam], 1, lr=[0.001, 0.01])"
   ]
  },
  {
   "cell_type": "markdown",
   "metadata": {},
   "source": [
    "# Benchmarking a single model on multiple datasets"
   ]
  },
  {
   "cell_type": "markdown",
   "metadata": {},
   "source": [
    "## Preparing multiple datasets"
   ]
  },
  {
   "cell_type": "code",
   "execution_count": 13,
   "metadata": {},
   "outputs": [
    {
     "name": "stdout",
     "output_type": "stream",
     "text": [
      "Files already downloaded and verified\n",
      "Files already downloaded and verified\n",
      "Files already downloaded and verified\n",
      "Files already downloaded and verified\n",
      "Files already downloaded and verified\n",
      "Files already downloaded and verified\n",
      "Files already downloaded and verified\n",
      "Files already downloaded and verified\n",
      "CIFAR10_10000\n"
     ]
    }
   ],
   "source": [
    "dataloaders_dicts = []\n",
    "dl = TorchDataLoader(name=\"CIFAR10\")\n",
    "train_indices = []\n",
    "for i in range(5120):\n",
    "    train_indices.append(i)\n",
    "\n",
    "dl_tr, dl_temp = dl.build_dataloader(batch_size=1024, sampler=SubsetRandomSampler(train_indices))\n",
    "\n",
    "test_indices = []\n",
    "for i in range(1024):\n",
    "    test_indices.append(i)\n",
    "\n",
    "dl_ts, dl_temp = dl.build_dataloader(batch_size=1024, sampler=SubsetRandomSampler(test_indices))\n",
    "\n",
    "temp_dict = {}\n",
    "temp_dict[\"name\"] = \"CIFAR10_5000\"\n",
    "temp_dict[\"dataloaders\"] = (dl_tr, dl_ts)\n",
    "\n",
    "dataloaders_dicts.append(temp_dict)\n",
    "\n",
    "\n",
    "train_indices = []\n",
    "for i in range(10240):\n",
    "    train_indices.append(i)\n",
    "\n",
    "dl_tr, dl_temp = dl.build_dataloader(batch_size=1024, sampler=SubsetRandomSampler(train_indices))\n",
    "\n",
    "test_indices = []\n",
    "for i in range(2048):\n",
    "    test_indices.append(i)\n",
    "\n",
    "dl_ts, dl_temp = dl.build_dataloader(batch_size=1024, sampler=SubsetRandomSampler(test_indices))\n",
    "\n",
    "temp_dict = {}\n",
    "temp_dict[\"name\"] = \"CIFAR10_10000\"\n",
    "temp_dict[\"dataloaders\"] = (dl_tr, dl_ts)\n",
    "\n",
    "dataloaders_dicts.append(temp_dict)\n",
    "\n",
    "print(dataloaders_dicts[1][\"name\"])\n"
   ]
  },
  {
   "cell_type": "markdown",
   "metadata": {},
   "source": [
    "## Benchmarking model"
   ]
  },
  {
   "cell_type": "code",
   "execution_count": null,
   "metadata": {},
   "outputs": [],
   "source": [
    "from gdeep.pipeline import benchmark\n",
    "\n",
    "bench = benchmark.Benchmark(writer)\n",
    "\n",
    "bench.benchmark_model(model, dataloaders_dicts, loss_fn, SGD, 1, 0.01)  "
   ]
  },
  {
   "cell_type": "markdown",
   "metadata": {},
   "source": [
    "# Benchmarking a single dataset on multiple models"
   ]
  },
  {
   "cell_type": "markdown",
   "metadata": {},
   "source": [
    "## Preparing multiple models"
   ]
  },
  {
   "cell_type": "code",
   "execution_count": 14,
   "metadata": {},
   "outputs": [],
   "source": [
    "models_dicts = []\n",
    "\n",
    "model = nn.Sequential(models.resnet18(pretrained=True), nn.Linear(1000,10))\n",
    "temp_dict = {}\n",
    "temp_dict[\"name\"] = \"resnet18\"\n",
    "temp_dict[\"model\"] = model\n",
    "\n",
    "models_dicts.append(temp_dict)\n",
    "\n",
    "model = nn.Sequential(models.vgg16(pretrained=True), nn.Linear(1000,10))\n",
    "temp_dict = {}\n",
    "temp_dict[\"name\"] = \"vgg16\"\n",
    "temp_dict[\"model\"] = model\n",
    "\n",
    "models_dicts.append(temp_dict)"
   ]
  },
  {
   "cell_type": "markdown",
   "metadata": {},
   "source": [
    "## Benchmarking data"
   ]
  },
  {
   "cell_type": "code",
   "execution_count": null,
   "metadata": {},
   "outputs": [],
   "source": [
    "bench = benchmark.Benchmark(writer)\n",
    "\n",
    "bench.benchmark_data(model_dicts, (dl_tr, dl_ts), loss_fn, SGD, 1, 0.001)"
   ]
  },
  {
   "cell_type": "markdown",
   "metadata": {},
   "source": [
    "## Benchmarking both"
   ]
  },
  {
   "cell_type": "code",
   "execution_count": null,
   "metadata": {},
   "outputs": [],
   "source": [
    "from gdeep.search.benchmark import Benchmark\n",
    "from torch.optim import SGD, Adam, RMSprop\n",
    "\n",
    "loss_fn = nn.CrossEntropyLoss()\n",
    "\n",
    "bench = Benchmark(writer)\n",
    "\n",
    "bench.benchmark(models_dicts, dataloaders_dicts, loss_fn, optimizer = SGD, epochs = 1, learning_rate = 0.01, batch_size = 1024)"
   ]
  },
  {
   "cell_type": "markdown",
   "metadata": {},
   "source": [
    "## Benchmarking + Gridsearch"
   ]
  },
  {
   "cell_type": "code",
   "execution_count": 46,
   "metadata": {},
   "outputs": [
    {
     "name": "stderr",
     "output_type": "stream",
     "text": [
      "\u001b[32m[I 2021-07-24 15:42:56,194]\u001b[0m A new study created in memory with name: no-name-d2768e24-3448-42e6-a904-043015ebff0d\u001b[0m\n"
     ]
    },
    {
     "name": "stdout",
     "output_type": "stream",
     "text": [
      "****************************************\n",
      "Performing Gridsearch on Dataset: CIFAR10_5000, Model: resnet18\n",
      "Epoch 1\n",
      "-------------------------------\n",
      "Training loss: 1.662961  [ 4/ 4]\n",
      "Time taken for this epoch: 1s\n",
      "Validation results: \n",
      " Accuracy: 0.4%,                 Avg loss: 0.000034 \n",
      "\n",
      "Epoch 2\n",
      "-------------------------------\n",
      "Training loss: 1.632034  [ 4/ 4]\n",
      "Time taken for this epoch: 1s\n",
      "Validation results: \n",
      " Accuracy: 0.4%,                 Avg loss: 0.000034 \n",
      "\n",
      "Epoch 3\n",
      "-------------------------------\n",
      "Training loss: 1.599710  [ 4/ 4]\n",
      "Time taken for this epoch: 1s\n",
      "Validation results: \n",
      " Accuracy: 0.4%,                 Avg loss: 0.000033 \n",
      "\n",
      "Epoch 4\n",
      "-------------------------------\n",
      "Training loss: 1.571644  [ 4/ 4]\n",
      "Time taken for this epoch: 1s\n",
      "Validation results: \n",
      " Accuracy: 0.4%,                 Avg loss: 0.000033 \n",
      "\n",
      "Epoch 5\n",
      "-------------------------------\n",
      "Training loss: 1.598091  [ 4/ 4]\n",
      "Time taken for this epoch: 1s\n",
      "Validation results: \n",
      " Accuracy: 0.4%,                 Avg loss: 0.000033 \n",
      "\n",
      "Epoch 6\n",
      "-------------------------------\n",
      "Training loss: 1.580598  [ 4/ 4]\n",
      "Time taken for this epoch: 1s\n",
      "Validation results: \n",
      " Accuracy: 0.4%,                 Avg loss: 0.000033 \n",
      "\n",
      "Epoch 7\n",
      "-------------------------------\n",
      "Training loss: 1.606091  [ 4/ 4]\n",
      "Time taken for this epoch: 1s\n",
      "Validation results: \n",
      " Accuracy: 0.4%,                 Avg loss: 0.000033 \n",
      "\n",
      "Epoch 8\n",
      "-------------------------------\n",
      "Training loss: 1.772073  [ 4/ 4]\n",
      "Time taken for this epoch: 1s\n",
      "Validation results: \n",
      " Accuracy: 0.4%,                 Avg loss: 0.000033 \n",
      "\n",
      "Epoch 9\n",
      "-------------------------------\n",
      "Training loss: 1.536722  [ 4/ 4]\n",
      "Time taken for this epoch: 1s\n",
      "Validation results: \n",
      " Accuracy: 0.4%,                 Avg loss: 0.000033 \n",
      "\n",
      "Epoch 10\n",
      "-------------------------------\n",
      "Training loss: 1.603949  [ 3/ 4]\r"
     ]
    },
    {
     "name": "stderr",
     "output_type": "stream",
     "text": [
      "\u001b[32m[I 2021-07-24 15:43:08,520]\u001b[0m Trial 0 finished with value: 1.6274811029434204 and parameters: {'optimizer': <class 'torch.optim.sgd.SGD'>, 'lr': 0.001095467238703449}. Best is trial 0 with value: 1.6274811029434204.\u001b[0m\n"
     ]
    },
    {
     "name": "stdout",
     "output_type": "stream",
     "text": [
      "Training loss: 1.627481  [ 4/ 4]\n",
      "Time taken for this epoch: 1s\n",
      "Validation results: \n",
      " Accuracy: 0.4%,                 Avg loss: 0.000033 \n",
      "\n",
      "Done!\n",
      "Epoch 1\n",
      "-------------------------------\n",
      "Training loss: 1.559724  [ 4/ 4]\n",
      "Time taken for this epoch: 1s\n",
      "Validation results: \n",
      " Accuracy: 0.4%,                 Avg loss: 0.000033 \n",
      "\n",
      "Epoch 2\n",
      "-------------------------------\n",
      "Training loss: 1.577237  [ 4/ 4]\n",
      "Time taken for this epoch: 1s\n",
      "Validation results: \n",
      " Accuracy: 0.4%,                 Avg loss: 0.000033 \n",
      "\n",
      "Epoch 3\n",
      "-------------------------------\n",
      "Training loss: 1.579534  [ 4/ 4]\n",
      "Time taken for this epoch: 1s\n",
      "Validation results: \n",
      " Accuracy: 0.4%,                 Avg loss: 0.000033 \n",
      "\n",
      "Epoch 4\n",
      "-------------------------------\n",
      "Training loss: 1.573544  [ 4/ 4]\n",
      "Time taken for this epoch: 1s\n",
      "Validation results: \n",
      " Accuracy: 0.4%,                 Avg loss: 0.000033 \n",
      "\n",
      "Epoch 5\n",
      "-------------------------------\n",
      "Training loss: 1.575348  [ 4/ 4]\n",
      "Time taken for this epoch: 1s\n",
      "Validation results: \n",
      " Accuracy: 0.4%,                 Avg loss: 0.000032 \n",
      "\n",
      "Epoch 6\n",
      "-------------------------------\n",
      "Training loss: 1.558533  [ 4/ 4]\n",
      "Time taken for this epoch: 1s\n",
      "Validation results: \n",
      " Accuracy: 0.4%,                 Avg loss: 0.000032 \n",
      "\n",
      "Epoch 7\n",
      "-------------------------------\n",
      "Training loss: 1.579763  [ 4/ 4]\n",
      "Time taken for this epoch: 1s\n",
      "Validation results: \n",
      " Accuracy: 0.4%,                 Avg loss: 0.000032 \n",
      "\n",
      "Epoch 8\n",
      "-------------------------------\n",
      "Training loss: 1.616846  [ 4/ 4]\n",
      "Time taken for this epoch: 1s\n",
      "Validation results: \n",
      " Accuracy: 0.4%,                 Avg loss: 0.000032 \n",
      "\n",
      "Epoch 9\n",
      "-------------------------------\n",
      "Training loss: 1.565619  [ 4/ 4]\n",
      "Time taken for this epoch: 1s\n",
      "Validation results: \n",
      " Accuracy: 0.4%,                 Avg loss: 0.000032 \n",
      "\n",
      "Epoch 10\n",
      "-------------------------------\n",
      "Training loss: 1.593579  [ 3/ 4]\r"
     ]
    },
    {
     "name": "stderr",
     "output_type": "stream",
     "text": [
      "\u001b[32m[I 2021-07-24 15:43:20,765]\u001b[0m Trial 1 finished with value: 1.5839738845825195 and parameters: {'optimizer': <class 'torch.optim.sgd.SGD'>, 'lr': 0.0017754543788838376}. Best is trial 1 with value: 1.5839738845825195.\u001b[0m\n",
      "\u001b[32m[I 2021-07-24 15:43:20,765]\u001b[0m A new study created in memory with name: no-name-1ce0d042-6dcc-4d1c-bf25-4d6390963e20\u001b[0m\n"
     ]
    },
    {
     "name": "stdout",
     "output_type": "stream",
     "text": [
      "Training loss: 1.583974  [ 4/ 4]\n",
      "Time taken for this epoch: 1s\n",
      "Validation results: \n",
      " Accuracy: 0.4%,                 Avg loss: 0.000032 \n",
      "\n",
      "Done!\n",
      "Study statistics: \n",
      "  Number of finished trials:  2\n",
      "  Number of pruned trials:  0\n",
      "  Number of complete trials:  2\n",
      "Best trial:\n",
      "  Value:  1.5839738845825195\n",
      "  Params: \n",
      "    optimizer: <class 'torch.optim.sgd.SGD'>\n",
      "    lr: 0.0017754543788838376\n",
      "****************************************\n",
      "Performing Gridsearch on Dataset: CIFAR10_5000, Model: vgg16\n",
      "Epoch 1\n",
      "-------------------------------\n",
      "Training loss: 2.307335  [ 4/ 4]\n",
      "Time taken for this epoch: 2s\n",
      "Validation results: \n",
      " Accuracy: 0.1%,                 Avg loss: 0.000046 \n",
      "\n",
      "Epoch 2\n",
      "-------------------------------\n",
      "Training loss: 2.308909  [ 4/ 4]\n",
      "Time taken for this epoch: 2s\n",
      "Validation results: \n",
      " Accuracy: 0.1%,                 Avg loss: 0.000046 \n",
      "\n",
      "Epoch 3\n",
      "-------------------------------\n",
      "Training loss: 2.304369  [ 4/ 4]\n",
      "Time taken for this epoch: 2s\n",
      "Validation results: \n",
      " Accuracy: 0.1%,                 Avg loss: 0.000046 \n",
      "\n",
      "Epoch 4\n",
      "-------------------------------\n",
      "Training loss: 2.321929  [ 4/ 4]\n",
      "Time taken for this epoch: 2s\n",
      "Validation results: \n",
      " Accuracy: 0.1%,                 Avg loss: 0.000046 \n",
      "\n",
      "Epoch 5\n",
      "-------------------------------\n",
      "Training loss: 2.311941  [ 4/ 4]\n",
      "Time taken for this epoch: 2s\n",
      "Validation results: \n",
      " Accuracy: 0.1%,                 Avg loss: 0.000046 \n",
      "\n",
      "Epoch 6\n",
      "-------------------------------\n",
      "Training loss: 2.310787  [ 4/ 4]\n",
      "Time taken for this epoch: 2s\n",
      "Validation results: \n",
      " Accuracy: 0.1%,                 Avg loss: 0.000046 \n",
      "\n",
      "Epoch 7\n",
      "-------------------------------\n",
      "Training loss: 2.301744  [ 4/ 4]\n",
      "Time taken for this epoch: 2s\n",
      "Validation results: \n",
      " Accuracy: 0.1%,                 Avg loss: 0.000046 \n",
      "\n",
      "Epoch 8\n",
      "-------------------------------\n",
      "Training loss: 2.311187  [ 4/ 4]\n",
      "Time taken for this epoch: 2s\n",
      "Validation results: \n",
      " Accuracy: 0.1%,                 Avg loss: 0.000046 \n",
      "\n",
      "Epoch 9\n",
      "-------------------------------\n",
      "Training loss: 2.302904  [ 4/ 4]\n",
      "Time taken for this epoch: 2s\n",
      "Validation results: \n",
      " Accuracy: 0.1%,                 Avg loss: 0.000046 \n",
      "\n",
      "Epoch 10\n",
      "-------------------------------\n",
      "Training loss: 2.305644  [ 4/ 4]\n",
      "Time taken for this epoch: 2s\n",
      "Validation results: \n",
      " Accuracy: 0.1%,                 Avg loss: 0.000046 \n"
     ]
    },
    {
     "name": "stderr",
     "output_type": "stream",
     "text": [
      "\u001b[32m[I 2021-07-24 15:43:41,455]\u001b[0m Trial 0 finished with value: 2.3056442737579346 and parameters: {'optimizer': <class 'torch.optim.adam.Adam'>, 'lr': 0.00680649260836834}. Best is trial 0 with value: 2.3056442737579346.\u001b[0m\n"
     ]
    },
    {
     "name": "stdout",
     "output_type": "stream",
     "text": [
      "\n",
      "Done!\n",
      "Epoch 1\n",
      "-------------------------------\n",
      "Training loss: 2.303670  [ 4/ 4]\n",
      "Time taken for this epoch: 2s\n",
      "Validation results: \n",
      " Accuracy: 0.1%,                 Avg loss: 0.000046 \n",
      "\n",
      "Epoch 2\n",
      "-------------------------------\n",
      "Training loss: 2.307086  [ 4/ 4]\n",
      "Time taken for this epoch: 2s\n",
      "Validation results: \n",
      " Accuracy: 0.1%,                 Avg loss: 0.000046 \n",
      "\n",
      "Epoch 3\n",
      "-------------------------------\n",
      "Training loss: 2.303847  [ 4/ 4]\n",
      "Time taken for this epoch: 2s\n",
      "Validation results: \n",
      " Accuracy: 0.1%,                 Avg loss: 0.000046 \n",
      "\n",
      "Epoch 4\n",
      "-------------------------------\n",
      "Training loss: 2.307024  [ 4/ 4]\n",
      "Time taken for this epoch: 2s\n",
      "Validation results: \n",
      " Accuracy: 0.1%,                 Avg loss: 0.000046 \n",
      "\n",
      "Epoch 5\n",
      "-------------------------------\n",
      "Training loss: 2.303663  [ 4/ 4]\n",
      "Time taken for this epoch: 2s\n",
      "Validation results: \n",
      " Accuracy: 0.1%,                 Avg loss: 0.000046 \n",
      "\n",
      "Epoch 6\n",
      "-------------------------------\n",
      "Training loss: 2.304975  [ 4/ 4]\n",
      "Time taken for this epoch: 2s\n",
      "Validation results: \n",
      " Accuracy: 0.1%,                 Avg loss: 0.000046 \n",
      "\n",
      "Epoch 7\n",
      "-------------------------------\n",
      "Training loss: 2.296892  [ 4/ 4]\n",
      "Time taken for this epoch: 2s\n",
      "Validation results: \n",
      " Accuracy: 0.1%,                 Avg loss: 0.000046 \n",
      "\n",
      "Epoch 8\n",
      "-------------------------------\n",
      "Training loss: 2.301895  [ 4/ 4]\n",
      "Time taken for this epoch: 2s\n",
      "Validation results: \n",
      " Accuracy: 0.1%,                 Avg loss: 0.000046 \n",
      "\n",
      "Epoch 9\n",
      "-------------------------------\n",
      "Training loss: 2.297872  [ 4/ 4]\n",
      "Time taken for this epoch: 2s\n",
      "Validation results: \n",
      " Accuracy: 0.1%,                 Avg loss: 0.000046 \n",
      "\n",
      "Epoch 10\n",
      "-------------------------------\n",
      "Training loss: 2.304398  [ 4/ 4]\n",
      "Time taken for this epoch: 2s\n",
      "Validation results: \n",
      " Accuracy: 0.1%,                 Avg loss: 0.000046 \n"
     ]
    },
    {
     "name": "stderr",
     "output_type": "stream",
     "text": [
      "\u001b[32m[I 2021-07-24 15:44:01,485]\u001b[0m Trial 1 finished with value: 2.3043975830078125 and parameters: {'optimizer': <class 'torch.optim.sgd.SGD'>, 'lr': 0.004506575463969238}. Best is trial 1 with value: 2.3043975830078125.\u001b[0m\n",
      "\u001b[32m[I 2021-07-24 15:44:01,486]\u001b[0m A new study created in memory with name: no-name-9ff81592-4b21-48aa-bc94-2aef9c2da8b9\u001b[0m\n"
     ]
    },
    {
     "name": "stdout",
     "output_type": "stream",
     "text": [
      "\n",
      "Done!\n",
      "Study statistics: \n",
      "  Number of finished trials:  2\n",
      "  Number of pruned trials:  0\n",
      "  Number of complete trials:  2\n",
      "Best trial:\n",
      "  Value:  2.3043975830078125\n",
      "  Params: \n",
      "    optimizer: <class 'torch.optim.sgd.SGD'>\n",
      "    lr: 0.004506575463969238\n",
      "****************************************\n",
      "Performing Gridsearch on Dataset: CIFAR10_10000, Model: resnet18\n",
      "Epoch 1\n",
      "-------------------------------\n",
      "Training loss: 1.733587  [ 8/ 8]\n",
      "Time taken for this epoch: 2s\n",
      "Validation results: \n",
      " Accuracy: 0.8%,                 Avg loss: 0.000076 \n",
      "\n",
      "Epoch 2\n",
      "-------------------------------\n",
      "Training loss: 1.658724  [ 8/ 8]\n",
      "Time taken for this epoch: 2s\n",
      "Validation results: \n",
      " Accuracy: 0.9%,                 Avg loss: 0.000065 \n",
      "\n",
      "Epoch 3\n",
      "-------------------------------\n",
      "Training loss: 1.558529  [ 8/ 8]\n",
      "Time taken for this epoch: 2s\n",
      "Validation results: \n",
      " Accuracy: 0.9%,                 Avg loss: 0.000062 \n",
      "\n",
      "Epoch 4\n",
      "-------------------------------\n",
      "Training loss: 1.409806  [ 8/ 8]\n",
      "Time taken for this epoch: 2s\n",
      "Validation results: \n",
      " Accuracy: 0.9%,                 Avg loss: 0.000063 \n",
      "\n",
      "Epoch 5\n",
      "-------------------------------\n",
      "Training loss: 1.462471  [ 8/ 8]\n",
      "Time taken for this epoch: 2s\n",
      "Validation results: \n",
      " Accuracy: 0.9%,                 Avg loss: 0.000061 \n",
      "\n",
      "Epoch 6\n",
      "-------------------------------\n",
      "Training loss: 1.464441  [ 8/ 8]\n",
      "Time taken for this epoch: 2s\n",
      "Validation results: \n",
      " Accuracy: 0.9%,                 Avg loss: 0.000061 \n",
      "\n",
      "Epoch 7\n",
      "-------------------------------\n",
      "Training loss: 1.430243  [ 8/ 8]\n",
      "Time taken for this epoch: 2s\n",
      "Validation results: \n",
      " Accuracy: 0.9%,                 Avg loss: 0.000060 \n",
      "\n",
      "Epoch 8\n",
      "-------------------------------\n",
      "Training loss: 1.406667  [ 8/ 8]\n",
      "Time taken for this epoch: 2s\n",
      "Validation results: \n",
      " Accuracy: 0.9%,                 Avg loss: 0.000062 \n",
      "\n",
      "Epoch 9\n",
      "-------------------------------\n",
      "Training loss: 1.330960  [ 8/ 8]\n",
      "Time taken for this epoch: 2s\n",
      "Validation results: \n",
      " Accuracy: 0.9%,                 Avg loss: 0.000060 \n",
      "\n",
      "Epoch 10\n",
      "-------------------------------\n",
      "Training loss: 1.325549  [ 8/ 8]\n",
      "Time taken for this epoch: 2s\n",
      "Validation results: \n",
      " Accuracy: 1.0%,                 Avg loss: 0.000058 \n"
     ]
    },
    {
     "name": "stderr",
     "output_type": "stream",
     "text": [
      "\u001b[32m[I 2021-07-24 15:44:25,489]\u001b[0m Trial 0 finished with value: 1.3255490064620972 and parameters: {'optimizer': <class 'torch.optim.adam.Adam'>, 'lr': 0.0017463618621380585}. Best is trial 0 with value: 1.3255490064620972.\u001b[0m\n"
     ]
    },
    {
     "name": "stdout",
     "output_type": "stream",
     "text": [
      "\n",
      "Done!\n",
      "Epoch 1\n",
      "-------------------------------\n",
      "Training loss: 1.349249  [ 8/ 8]\n",
      "Time taken for this epoch: 2s\n",
      "Validation results: \n",
      " Accuracy: 0.9%,                 Avg loss: 0.000065 \n",
      "\n",
      "Epoch 2\n",
      "-------------------------------\n",
      "Training loss: 1.265792  [ 8/ 8]\n",
      "Time taken for this epoch: 2s\n",
      "Validation results: \n",
      " Accuracy: 0.9%,                 Avg loss: 0.000059 \n",
      "\n",
      "Epoch 3\n",
      "-------------------------------\n",
      "Training loss: 1.278160  [ 8/ 8]\n",
      "Time taken for this epoch: 2s\n",
      "Validation results: \n",
      " Accuracy: 1.0%,                 Avg loss: 0.000059 \n",
      "\n",
      "Epoch 4\n",
      "-------------------------------\n",
      "Training loss: 1.173229  [ 8/ 8]\n",
      "Time taken for this epoch: 2s\n",
      "Validation results: \n",
      " Accuracy: 1.0%,                 Avg loss: 0.000060 \n",
      "\n",
      "Epoch 5\n",
      "-------------------------------\n",
      "Training loss: 1.160730  [ 8/ 8]\n",
      "Time taken for this epoch: 2s\n",
      "Validation results: \n",
      " Accuracy: 0.9%,                 Avg loss: 0.000060 \n",
      "\n",
      "Epoch 6\n",
      "-------------------------------\n",
      "Training loss: 1.105246  [ 8/ 8]\n",
      "Time taken for this epoch: 2s\n",
      "Validation results: \n",
      " Accuracy: 1.0%,                 Avg loss: 0.000060 \n",
      "\n",
      "Epoch 7\n",
      "-------------------------------\n",
      "Training loss: 1.066074  [ 8/ 8]\n",
      "Time taken for this epoch: 2s\n",
      "Validation results: \n",
      " Accuracy: 1.0%,                 Avg loss: 0.000062 \n",
      "\n",
      "Epoch 8\n",
      "-------------------------------\n",
      "Training loss: 0.937041  [ 8/ 8]\n",
      "Time taken for this epoch: 2s\n",
      "Validation results: \n",
      " Accuracy: 1.0%,                 Avg loss: 0.000064 \n",
      "\n",
      "Epoch 9\n",
      "-------------------------------\n",
      "Training loss: 0.997284  [ 8/ 8]\n",
      "Time taken for this epoch: 2s\n",
      "Validation results: \n",
      " Accuracy: 1.0%,                 Avg loss: 0.000067 \n",
      "\n",
      "Epoch 10\n",
      "-------------------------------\n",
      "Training loss: 1.176834  [ 8/ 8]\n",
      "Time taken for this epoch: 2s\n"
     ]
    },
    {
     "name": "stderr",
     "output_type": "stream",
     "text": [
      "\u001b[32m[I 2021-07-24 15:44:49,324]\u001b[0m Trial 1 finished with value: 1.1768337488174438 and parameters: {'optimizer': <class 'torch.optim.adam.Adam'>, 'lr': 0.0019087573872860533}. Best is trial 1 with value: 1.1768337488174438.\u001b[0m\n",
      "\u001b[32m[I 2021-07-24 15:44:49,329]\u001b[0m A new study created in memory with name: no-name-4028d591-9c64-4f49-96b9-710403e1b99f\u001b[0m\n"
     ]
    },
    {
     "name": "stdout",
     "output_type": "stream",
     "text": [
      "Validation results: \n",
      " Accuracy: 1.0%,                 Avg loss: 0.000065 \n",
      "\n",
      "Done!\n",
      "Study statistics: \n",
      "  Number of finished trials:  2\n",
      "  Number of pruned trials:  0\n",
      "  Number of complete trials:  2\n",
      "Best trial:\n",
      "  Value:  1.1768337488174438\n",
      "  Params: \n",
      "    optimizer: <class 'torch.optim.adam.Adam'>\n",
      "    lr: 0.0019087573872860533\n",
      "****************************************\n",
      "Performing Gridsearch on Dataset: CIFAR10_10000, Model: vgg16\n",
      "Epoch 1\n",
      "-------------------------------\n",
      "Training loss: 2.309373  [ 8/ 8]\n",
      "Time taken for this epoch: 4s\n",
      "Validation results: \n",
      " Accuracy: 0.2%,                 Avg loss: 0.000092 \n",
      "\n",
      "Epoch 2\n",
      "-------------------------------\n",
      "Training loss: 2.302215  [ 8/ 8]\n",
      "Time taken for this epoch: 4s\n",
      "Validation results: \n",
      " Accuracy: 0.2%,                 Avg loss: 0.000092 \n",
      "\n",
      "Epoch 3\n",
      "-------------------------------\n",
      "Training loss: 2.302715  [ 8/ 8]\n",
      "Time taken for this epoch: 4s\n",
      "Validation results: \n",
      " Accuracy: 0.2%,                 Avg loss: 0.000092 \n",
      "\n",
      "Epoch 4\n",
      "-------------------------------\n",
      "Training loss: 2.300709  [ 8/ 8]\n",
      "Time taken for this epoch: 4s\n",
      "Validation results: \n",
      " Accuracy: 0.2%,                 Avg loss: 0.000092 \n",
      "\n",
      "Epoch 5\n",
      "-------------------------------\n",
      "Training loss: 2.299557  [ 8/ 8]\n",
      "Time taken for this epoch: 4s\n",
      "Validation results: \n",
      " Accuracy: 0.2%,                 Avg loss: 0.000092 \n",
      "\n",
      "Epoch 6\n",
      "-------------------------------\n",
      "Training loss: 2.301419  [ 8/ 8]\n",
      "Time taken for this epoch: 4s\n",
      "Validation results: \n",
      " Accuracy: 0.2%,                 Avg loss: 0.000092 \n",
      "\n",
      "Epoch 7\n",
      "-------------------------------\n",
      "Training loss: 2.304363  [ 8/ 8]\n",
      "Time taken for this epoch: 4s\n",
      "Validation results: \n",
      " Accuracy: 0.2%,                 Avg loss: 0.000092 \n",
      "\n",
      "Epoch 8\n",
      "-------------------------------\n",
      "Training loss: 2.306767  [ 8/ 8]\n",
      "Time taken for this epoch: 4s\n",
      "Validation results: \n",
      " Accuracy: 0.2%,                 Avg loss: 0.000092 \n",
      "\n",
      "Epoch 9\n",
      "-------------------------------\n",
      "Training loss: 2.302669  [ 8/ 8]\n",
      "Time taken for this epoch: 4s\n",
      "Validation results: \n",
      " Accuracy: 0.2%,                 Avg loss: 0.000092 \n",
      "\n",
      "Epoch 10\n",
      "-------------------------------\n",
      "Training loss: 2.300737  [ 8/ 8]\n",
      "Time taken for this epoch: 4s\n"
     ]
    },
    {
     "name": "stderr",
     "output_type": "stream",
     "text": [
      "\u001b[32m[I 2021-07-24 15:45:30,252]\u001b[0m Trial 0 finished with value: 2.3007373809814453 and parameters: {'optimizer': <class 'torch.optim.adam.Adam'>, 'lr': 0.004386187859870586}. Best is trial 0 with value: 2.3007373809814453.\u001b[0m\n"
     ]
    },
    {
     "name": "stdout",
     "output_type": "stream",
     "text": [
      "Validation results: \n",
      " Accuracy: 0.2%,                 Avg loss: 0.000092 \n",
      "\n",
      "Done!\n",
      "Epoch 1\n",
      "-------------------------------\n",
      "Training loss: 2.304669  [ 8/ 8]\n",
      "Time taken for this epoch: 4s\n",
      "Validation results: \n",
      " Accuracy: 0.2%,                 Avg loss: 0.000092 \n",
      "\n",
      "Epoch 2\n",
      "-------------------------------\n",
      "Training loss: 2.303228  [ 8/ 8]\n",
      "Time taken for this epoch: 4s\n",
      "Validation results: \n",
      " Accuracy: 0.2%,                 Avg loss: 0.000092 \n",
      "\n",
      "Epoch 3\n",
      "-------------------------------\n",
      "Training loss: 2.305750  [ 8/ 8]\n",
      "Time taken for this epoch: 4s\n",
      "Validation results: \n",
      " Accuracy: 0.2%,                 Avg loss: 0.000092 \n",
      "\n",
      "Epoch 4\n",
      "-------------------------------\n",
      "Training loss: 2.297784  [ 8/ 8]\n",
      "Time taken for this epoch: 4s\n",
      "Validation results: \n",
      " Accuracy: 0.2%,                 Avg loss: 0.000092 \n",
      "\n",
      "Epoch 5\n",
      "-------------------------------\n",
      "Training loss: 2.302551  [ 8/ 8]\n",
      "Time taken for this epoch: 4s\n",
      "Validation results: \n",
      " Accuracy: 0.2%,                 Avg loss: 0.000092 \n",
      "\n",
      "Epoch 6\n",
      "-------------------------------\n",
      "Training loss: 2.300132  [ 8/ 8]\n",
      "Time taken for this epoch: 4s\n",
      "Validation results: \n",
      " Accuracy: 0.2%,                 Avg loss: 0.000092 \n",
      "\n",
      "Epoch 7\n",
      "-------------------------------\n",
      "Training loss: 2.300567  [ 8/ 8]\n",
      "Time taken for this epoch: 4s\n",
      "Validation results: \n",
      " Accuracy: 0.2%,                 Avg loss: 0.000092 \n",
      "\n",
      "Epoch 8\n",
      "-------------------------------\n",
      "Training loss: 2.300844  [ 8/ 8]\n",
      "Time taken for this epoch: 4s\n",
      "Validation results: \n",
      " Accuracy: 0.2%,                 Avg loss: 0.000092 \n",
      "\n",
      "Epoch 9\n",
      "-------------------------------\n",
      "Training loss: 2.301284  [ 8/ 8]\n",
      "Time taken for this epoch: 4s\n",
      "Validation results: \n",
      " Accuracy: 0.2%,                 Avg loss: 0.000092 \n",
      "\n",
      "Epoch 10\n",
      "-------------------------------\n",
      "Training loss: 2.302552  [ 8/ 8]\n",
      "Time taken for this epoch: 4s\n"
     ]
    },
    {
     "name": "stderr",
     "output_type": "stream",
     "text": [
      "\u001b[32m[I 2021-07-24 15:46:11,493]\u001b[0m Trial 1 finished with value: 2.3025522232055664 and parameters: {'optimizer': <class 'torch.optim.adam.Adam'>, 'lr': 0.0031264922643608408}. Best is trial 0 with value: 2.3007373809814453.\u001b[0m\n"
     ]
    },
    {
     "name": "stdout",
     "output_type": "stream",
     "text": [
      "Validation results: \n",
      " Accuracy: 0.2%,                 Avg loss: 0.000092 \n",
      "\n",
      "Done!\n",
      "Study statistics: \n",
      "  Number of finished trials:  2\n",
      "  Number of pruned trials:  0\n",
      "  Number of complete trials:  2\n",
      "Best trial:\n",
      "  Value:  2.3007373809814453\n",
      "  Params: \n",
      "    optimizer: <class 'torch.optim.adam.Adam'>\n",
      "    lr: 0.004386187859870586\n"
     ]
    }
   ],
   "source": [
    "from gdeep.search.benchmark import Benchmark\n",
    "from gdeep.search.gridsearch import Gridsearch\n",
    "from torch.optim import SGD, Adam, RMSprop\n",
    "\n",
    "loss_fn = nn.CrossEntropyLoss()\n",
    "\n",
    "bench = Benchmark(models_dicts, dataloaders_dicts, loss_fn, writer)\n",
    "\n",
    "search = Gridsearch(bench, \"loss\", 2)\n",
    "search.start([SGD, Adam], 10, 512, lr=[0.001, 0.01])\n",
    "\n",
    "# bench.benchmark(optimizer = [SGD,Adam], epochs = 1, learning_rate = [0.001,0.01], batch_size = 1024)"
   ]
  },
  {
   "cell_type": "markdown",
   "metadata": {},
   "source": [
    "# Simply use interpretability tools"
   ]
  },
  {
   "cell_type": "code",
   "execution_count": null,
   "metadata": {},
   "outputs": [],
   "source": [
    "from gdeep.analysis.interpretability import Interpreter\n",
    "\n",
    "inter = Interpreter(model, method=\"IntegratedGradients\")\n",
    "inter.interpret_image(next(iter(dl_tr))[0][0].reshape(1,3,32,32), 6);\n"
   ]
  },
  {
   "cell_type": "markdown",
   "metadata": {},
   "source": [
    "# Extract inner data from your models"
   ]
  },
  {
   "cell_type": "code",
   "execution_count": null,
   "metadata": {
    "scrolled": false
   },
   "outputs": [],
   "source": [
    "from gdeep.models import ModelExtractor\n",
    "\n",
    "me = ModelExtractor(model, loss_fn)\n",
    "\n",
    "lista = me.get_layers_param()\n",
    "\n",
    "for k, item in lista.items():\n",
    "    print(k,item.shape)\n"
   ]
  },
  {
   "cell_type": "code",
   "execution_count": null,
   "metadata": {},
   "outputs": [],
   "source": [
    "x = next(iter(dl_tr))[0][0]\n",
    "if x.dtype is not torch.int64:\n",
    "    res = me.get_decision_boundary(x, n_epochs=1)\n",
    "    res.shape"
   ]
  },
  {
   "cell_type": "code",
   "execution_count": null,
   "metadata": {},
   "outputs": [],
   "source": [
    "x = next(iter(dl_tr))[0]\n",
    "list_activations = me.get_activations(x)\n",
    "len(list_activations)\n"
   ]
  },
  {
   "cell_type": "code",
   "execution_count": null,
   "metadata": {},
   "outputs": [],
   "source": [
    "x, target = next(iter(dl_tr))\n",
    "if x.dtype is torch.float:\n",
    "    for gradient in me.get_gradients(x, target=target)[1]:\n",
    "        print(gradient.shape)"
   ]
  },
  {
   "cell_type": "markdown",
   "metadata": {},
   "source": [
    "# Visualise activations and other topological aspects of your model"
   ]
  },
  {
   "cell_type": "code",
   "execution_count": null,
   "metadata": {
    "scrolled": false
   },
   "outputs": [],
   "source": [
    "from gdeep.visualisation import Visualiser\n",
    "\n",
    "vs = Visualiser(pipe)\n",
    "\n",
    "vs.plot_data_model()\n",
    "vs.plot_activations(x)\n",
    "vs.plot_persistence_diagrams(x)\n"
   ]
  },
  {
   "cell_type": "code",
   "execution_count": null,
   "metadata": {},
   "outputs": [],
   "source": [
    "vs.plot_interpreter_image(inter);"
   ]
  },
  {
   "cell_type": "code",
   "execution_count": null,
   "metadata": {},
   "outputs": [],
   "source": []
  }
 ],
 "metadata": {
  "kernelspec": {
   "display_name": "Python 3",
   "language": "python",
   "name": "python3"
  },
  "language_info": {
   "codemirror_mode": {
    "name": "ipython",
    "version": 3
   },
   "file_extension": ".py",
   "mimetype": "text/x-python",
   "name": "python",
   "nbconvert_exporter": "python",
   "pygments_lexer": "ipython3",
   "version": "3.8.10"
  }
 },
 "nbformat": 4,
 "nbformat_minor": 2
}
