{
 "cells": [
  {
   "cell_type": "markdown",
   "metadata": {},
   "source": [
    "# Basic tutorial: gridsearch and benchmarking\n",
    "#### Author: Matteo Caorsi\n",
    "\n",
    "This short tutorial provides you with the basic functioning of *giotto-deep* API.\n",
    "\n",
    "The main steps of the tutorial are the following:\n",
    " 1. creation of a dataset\n",
    " 2. creation of a model\n",
    " 3. define metrics and losses\n",
    " 4. run benchmarks\n",
    " 5. visualise results interactively"
   ]
  },
  {
   "cell_type": "code",
   "execution_count": 1,
   "metadata": {},
   "outputs": [],
   "source": [
    "%reload_ext autoreload\n",
    "%autoreload 2\n",
    "%matplotlib inline\n",
    "\n",
    "import numpy as np\n",
    "\n",
    "import torch\n",
    "from torch import nn\n",
    "\n",
    "from gdeep.models import FFNet\n",
    "\n",
    "from gdeep.visualisation import  persistence_diagrams_of_activations\n",
    "\n",
    "from torch.utils.tensorboard import SummaryWriter\n",
    "from gdeep.data import TorchDataLoader\n",
    "\n",
    "\n",
    "from gtda.diagrams import BettiCurve\n",
    "\n",
    "from gtda.plotting import plot_betti_surfaces\n",
    "\n",
    "import optuna"
   ]
  },
  {
   "cell_type": "markdown",
   "metadata": {},
   "source": [
    "# Initialize the tensorboard writer\n",
    "\n",
    "In order to analyse the reuslts of your models, you need to start tensorboard.\n",
    "On the terminal, move inside the `/example` folder. There run the following command:\n",
    "\n",
    "```\n",
    "tensorboard --logdir=runs\n",
    "```\n",
    "\n",
    "Then go [here](http://localhost:6006/) after the training to see all the visualisation results."
   ]
  },
  {
   "cell_type": "code",
   "execution_count": 2,
   "metadata": {},
   "outputs": [],
   "source": [
    "writer = SummaryWriter()"
   ]
  },
  {
   "cell_type": "markdown",
   "metadata": {},
   "source": [
    "# Create your dataset"
   ]
  },
  {
   "cell_type": "code",
   "execution_count": 3,
   "metadata": {},
   "outputs": [
    {
     "name": "stdout",
     "output_type": "stream",
     "text": [
      "320\n",
      "Downloading https://www.cs.toronto.edu/~kriz/cifar-10-python.tar.gz to data/cifar-10-python.tar.gz\n"
     ]
    },
    {
     "data": {
      "application/vnd.jupyter.widget-view+json": {
       "model_id": "02237c50612045fda693fadfc24a5c47",
       "version_major": 2,
       "version_minor": 0
      },
      "text/plain": [
       "HBox(children=(FloatProgress(value=0.0, max=170498071.0), HTML(value='')))"
      ]
     },
     "metadata": {},
     "output_type": "display_data"
    },
    {
     "name": "stdout",
     "output_type": "stream",
     "text": [
      "\n",
      "Extracting data/cifar-10-python.tar.gz to data\n",
      "Files already downloaded and verified\n",
      "10\n",
      "Files already downloaded and verified\n",
      "Files already downloaded and verified\n",
      "2\n"
     ]
    }
   ],
   "source": [
    "from torch.utils.data.sampler import SubsetRandomSampler\n",
    "\n",
    "dl = TorchDataLoader(name=\"CIFAR10\")\n",
    "train_indices = list(range(32*10))\n",
    "\n",
    "print(len(train_indices))\n",
    "\n",
    "dl_tr, dl_temp = dl.build_dataloader(batch_size=32, \n",
    "                                     sampler=SubsetRandomSampler(train_indices))\n",
    "\n",
    "print(len(dl_tr))\n",
    "\n",
    "test_indices = [32*10 + x for x in list(range(32*2))]\n",
    "\n",
    "dl_ts, dl_temp = dl.build_dataloader(batch_size=32, sampler=SubsetRandomSampler(test_indices))\n",
    "\n",
    "dl_val = dl_ts\n",
    "\n",
    "print(len(dl_ts))"
   ]
  },
  {
   "cell_type": "markdown",
   "metadata": {},
   "source": [
    "## Define and train your model"
   ]
  },
  {
   "cell_type": "code",
   "execution_count": 4,
   "metadata": {},
   "outputs": [],
   "source": [
    "import torchvision.models as models\n",
    "from gdeep.pipeline import Pipeline\n",
    "\n",
    "model = nn.Sequential(models.resnet18(pretrained=True), nn.Linear(1000,10))"
   ]
  },
  {
   "cell_type": "code",
   "execution_count": 5,
   "metadata": {},
   "outputs": [
    {
     "name": "stdout",
     "output_type": "stream",
     "text": [
      "Dataset CIFAR10\n",
      "    Number of datapoints: 50000\n",
      "    Root location: data\n",
      "    Split: Train\n",
      "    StandardTransform\n",
      "Transform: ToTensor()\n",
      "TOTAL EPOCHS  1\n",
      "Epoch 1\n",
      "-------------------------------\n",
      "Training loss: 2.423478  [10/10]\n",
      "Time taken for this epoch: 3s\n",
      "Validation results: \n",
      " Accuracy: 0.0%,                 Avg loss: 0.000094 \n",
      "\n",
      "Test results: \n",
      " Accuracy: 0.0%,                 Avg loss: 0.000097 \n",
      "\n",
      "Done!\n"
     ]
    }
   ],
   "source": [
    "from torch.optim import SGD, Adam, RMSprop\n",
    "from gdeep.search import gridsearch\n",
    "\n",
    "\n",
    "loss_fn = nn.CrossEntropyLoss()\n",
    "\n",
    "pipe = Pipeline(model, [dl_tr, dl_val, dl_ts], loss_fn, writer)\n",
    "\n",
    "# train the model\n",
    "pipe.train(SGD, 1, cross_validation = True, batch_size = 512, lr=0.01)\n",
    "\n"
   ]
  },
  {
   "cell_type": "markdown",
   "metadata": {},
   "source": [
    "# Gridsearch"
   ]
  },
  {
   "cell_type": "code",
   "execution_count": 6,
   "metadata": {},
   "outputs": [
    {
     "name": "stderr",
     "output_type": "stream",
     "text": [
      "\u001b[32m[I 2021-10-04 01:14:31,328]\u001b[0m A new study created in memory with name: no-name-fb95ce46-e507-47ec-b63a-77d109334a47\u001b[0m\n"
     ]
    },
    {
     "name": "stdout",
     "output_type": "stream",
     "text": [
      "Epoch 1\n",
      "-------------------------------\n",
      "Training loss: 39.277275  [ 9/10]\r"
     ]
    },
    {
     "name": "stderr",
     "output_type": "stream",
     "text": [
      "\u001b[32m[I 2021-10-04 01:14:35,838]\u001b[0m Trial 0 finished with value: 19.257434844970703 and parameters: {'optimizer': 'Adam', 'lr': 0.009843888435088329}. Best is trial 0 with value: 19.257434844970703.\u001b[0m\n"
     ]
    },
    {
     "name": "stdout",
     "output_type": "stream",
     "text": [
      "Training loss: 19.257435  [10/10]\n",
      "Time taken for this epoch: 4s\n",
      "Validation results: \n",
      " Accuracy: 0.0%,                 Avg loss: 0.001017 \n",
      "\n",
      "Done!\n",
      "Epoch 1\n",
      "-------------------------------\n",
      "Training loss: 15.517584  [ 9/10]\r"
     ]
    },
    {
     "name": "stderr",
     "output_type": "stream",
     "text": [
      "\u001b[32m[I 2021-10-04 01:14:39,472]\u001b[0m Trial 1 finished with value: 5.438361644744873 and parameters: {'optimizer': 'SGD', 'lr': 0.007229603306934275}. Best is trial 1 with value: 5.438361644744873.\u001b[0m\n"
     ]
    },
    {
     "name": "stdout",
     "output_type": "stream",
     "text": [
      "Training loss: 5.438362  [10/10]\r\n",
      "Time taken for this epoch: 3s\n",
      "Validation results: \n",
      " Accuracy: 0.0%,                 Avg loss: 0.000586 \n",
      "\n",
      "Done!\n",
      "Study statistics: \n",
      "Number of finished trials:  2\n",
      "Number of pruned trials:  0\n",
      "Number of complete trials:  2\n",
      "Best trial:\n",
      "Metric Value for best trial:  5.438361644744873\n"
     ]
    }
   ],
   "source": [
    "from gdeep.search.gridsearch import Gridsearch\n",
    "from torch.optim import SGD, Adam, RMSprop\n",
    "\n",
    "loss_fn = nn.CrossEntropyLoss()\n",
    "\n",
    "pipe = Pipeline(model, [dl_tr, dl_val, dl_ts], loss_fn, writer)\n",
    "\n",
    "search = Gridsearch(pipe, \"loss\", 2)\n",
    "search.start([SGD, Adam], 1, lr=(0.001, 0.01))"
   ]
  },
  {
   "cell_type": "code",
   "execution_count": 7,
   "metadata": {},
   "outputs": [
    {
     "name": "stdout",
     "output_type": "stream",
     "text": [
      "Study statistics: \n",
      "Number of finished trials:  2\n",
      "Number of pruned trials:  0\n",
      "Number of complete trials:  2\n",
      "Best trial:\n",
      "Metric Value for best trial:  5.438361644744873\n"
     ]
    },
    {
     "data": {
      "text/html": [
       "<div>\n",
       "<style scoped>\n",
       "    .dataframe tbody tr th:only-of-type {\n",
       "        vertical-align: middle;\n",
       "    }\n",
       "\n",
       "    .dataframe tbody tr th {\n",
       "        vertical-align: top;\n",
       "    }\n",
       "\n",
       "    .dataframe thead th {\n",
       "        text-align: right;\n",
       "    }\n",
       "</style>\n",
       "<table border=\"1\" class=\"dataframe\">\n",
       "  <thead>\n",
       "    <tr style=\"text-align: right;\">\n",
       "      <th></th>\n",
       "      <th>model</th>\n",
       "      <th>dataset</th>\n",
       "      <th>optimizer</th>\n",
       "      <th>lr</th>\n",
       "      <th>Metric value</th>\n",
       "    </tr>\n",
       "  </thead>\n",
       "  <tbody>\n",
       "    <tr>\n",
       "      <th>0</th>\n",
       "      <td>model</td>\n",
       "      <td>dataset</td>\n",
       "      <td>Adam</td>\n",
       "      <td>19.257435</td>\n",
       "      <td>NaN</td>\n",
       "    </tr>\n",
       "    <tr>\n",
       "      <th>1</th>\n",
       "      <td>model</td>\n",
       "      <td>dataset</td>\n",
       "      <td>Adam</td>\n",
       "      <td>0.009844</td>\n",
       "      <td>19.257435</td>\n",
       "    </tr>\n",
       "    <tr>\n",
       "      <th>2</th>\n",
       "      <td>model</td>\n",
       "      <td>dataset</td>\n",
       "      <td>SGD</td>\n",
       "      <td>5.438362</td>\n",
       "      <td>NaN</td>\n",
       "    </tr>\n",
       "    <tr>\n",
       "      <th>3</th>\n",
       "      <td>model</td>\n",
       "      <td>dataset</td>\n",
       "      <td>SGD</td>\n",
       "      <td>0.007230</td>\n",
       "      <td>5.438362</td>\n",
       "    </tr>\n",
       "    <tr>\n",
       "      <th>4</th>\n",
       "      <td>model</td>\n",
       "      <td>dataset</td>\n",
       "      <td>Adam</td>\n",
       "      <td>19.257435</td>\n",
       "      <td>NaN</td>\n",
       "    </tr>\n",
       "    <tr>\n",
       "      <th>5</th>\n",
       "      <td>model</td>\n",
       "      <td>dataset</td>\n",
       "      <td>Adam</td>\n",
       "      <td>0.009844</td>\n",
       "      <td>19.257435</td>\n",
       "    </tr>\n",
       "    <tr>\n",
       "      <th>6</th>\n",
       "      <td>model</td>\n",
       "      <td>dataset</td>\n",
       "      <td>SGD</td>\n",
       "      <td>5.438362</td>\n",
       "      <td>NaN</td>\n",
       "    </tr>\n",
       "    <tr>\n",
       "      <th>7</th>\n",
       "      <td>model</td>\n",
       "      <td>dataset</td>\n",
       "      <td>SGD</td>\n",
       "      <td>0.007230</td>\n",
       "      <td>5.438362</td>\n",
       "    </tr>\n",
       "  </tbody>\n",
       "</table>\n",
       "</div>"
      ],
      "text/plain": [
       "   model  dataset optimizer         lr  Metric value\n",
       "0  model  dataset      Adam  19.257435           NaN\n",
       "1  model  dataset      Adam   0.009844     19.257435\n",
       "2  model  dataset       SGD   5.438362           NaN\n",
       "3  model  dataset       SGD   0.007230      5.438362\n",
       "4  model  dataset      Adam  19.257435           NaN\n",
       "5  model  dataset      Adam   0.009844     19.257435\n",
       "6  model  dataset       SGD   5.438362           NaN\n",
       "7  model  dataset       SGD   0.007230      5.438362"
      ]
     },
     "execution_count": 7,
     "metadata": {},
     "output_type": "execute_result"
    }
   ],
   "source": [
    "df_res = search.results()\n",
    "df_res"
   ]
  },
  {
   "cell_type": "markdown",
   "metadata": {},
   "source": [
    "# Benchmarking a single model on multiple datasets"
   ]
  },
  {
   "cell_type": "markdown",
   "metadata": {},
   "source": [
    "## Preparing multiple datasets"
   ]
  },
  {
   "cell_type": "code",
   "execution_count": 8,
   "metadata": {},
   "outputs": [
    {
     "name": "stdout",
     "output_type": "stream",
     "text": [
      "Files already downloaded and verified\n",
      "Files already downloaded and verified\n",
      "Files already downloaded and verified\n",
      "Files already downloaded and verified\n",
      "Files already downloaded and verified\n",
      "Files already downloaded and verified\n",
      "Files already downloaded and verified\n",
      "Files already downloaded and verified\n"
     ]
    }
   ],
   "source": [
    "dataloaders_dicts = []\n",
    "dl = TorchDataLoader(name=\"CIFAR10\")\n",
    "\n",
    "train_indices = list(range(64*10))\n",
    "\n",
    "dl_tr, dl_temp = dl.build_dataloader(batch_size=32, sampler=SubsetRandomSampler(train_indices))\n",
    "\n",
    "test_indices = [64*10 + x for x in list(range(64*2))]\n",
    "\n",
    "dl_ts, dl_temp = dl.build_dataloader(batch_size=32, sampler=SubsetRandomSampler(test_indices))\n",
    "\n",
    "temp_dict = {}\n",
    "temp_dict[\"name\"] = \"CIFAR10_500\"\n",
    "temp_dict[\"dataloaders\"] = (dl_tr, dl_ts)\n",
    "\n",
    "dataloaders_dicts.append(temp_dict)\n",
    "\n",
    "train_indices = list(range(64*5))\n",
    "\n",
    "dl_tr, dl_temp = dl.build_dataloader(batch_size=32, sampler=SubsetRandomSampler(train_indices))\n",
    "\n",
    "test_indices = [64*5 + x for x in list(range(64))]\n",
    "\n",
    "dl_ts, dl_temp = dl.build_dataloader(batch_size=32, sampler=SubsetRandomSampler(test_indices))\n",
    "\n",
    "temp_dict = {}\n",
    "temp_dict[\"name\"] = \"CIFAR10_1000\"\n",
    "temp_dict[\"dataloaders\"] = (dl_tr, dl_ts)\n",
    "\n",
    "dataloaders_dicts.append(temp_dict)\n",
    "\n"
   ]
  },
  {
   "cell_type": "markdown",
   "metadata": {},
   "source": [
    "# Benchmarking a single dataset on multiple models"
   ]
  },
  {
   "cell_type": "markdown",
   "metadata": {},
   "source": [
    "## Preparing multiple models"
   ]
  },
  {
   "cell_type": "code",
   "execution_count": 9,
   "metadata": {},
   "outputs": [],
   "source": [
    "models_dicts = []\n",
    "\n",
    "model = nn.Sequential(models.resnet18(pretrained=True), nn.Linear(1000,10))\n",
    "temp_dict = {}\n",
    "temp_dict[\"name\"] = \"resnet18\"\n",
    "temp_dict[\"model\"] = model\n",
    "\n",
    "models_dicts.append(temp_dict)\n",
    "\n",
    "model = nn.Sequential(models.vgg16(pretrained=True), nn.Linear(1000,10))\n",
    "temp_dict = {}\n",
    "temp_dict[\"name\"] = \"vgg16\"\n",
    "temp_dict[\"model\"] = model\n",
    "\n",
    "models_dicts.append(temp_dict)"
   ]
  },
  {
   "cell_type": "markdown",
   "metadata": {},
   "source": [
    "## Benchmarking both"
   ]
  },
  {
   "cell_type": "code",
   "execution_count": 10,
   "metadata": {},
   "outputs": [
    {
     "name": "stdout",
     "output_type": "stream",
     "text": [
      "Benchmarking Started\n",
      "******************************\n",
      "Training on Dataset: CIFAR10_500, Model: resnet18\n",
      "Dataset CIFAR10\n",
      "    Number of datapoints: 50000\n",
      "    Root location: data\n",
      "    Split: Train\n",
      "    StandardTransform\n",
      "Transform: ToTensor()\n",
      "TOTAL EPOCHS  1\n",
      "Epoch 1\n",
      "-------------------------------\n",
      "Training loss: 2.382942  [16/16]\n",
      "Time taken for this epoch: 5s\n",
      "Validation results: \n",
      " Accuracy: 0.1%,                 Avg loss: 0.000199 \n",
      "\n",
      "Test results: \n",
      " Accuracy: 0.1%,                 Avg loss: 0.000185 \n",
      "\n",
      "Done!\n",
      "******************************\n",
      "Training on Dataset: CIFAR10_500, Model: vgg16\n",
      "Dataset CIFAR10\n",
      "    Number of datapoints: 50000\n",
      "    Root location: data\n",
      "    Split: Train\n",
      "    StandardTransform\n",
      "Transform: ToTensor()\n",
      "TOTAL EPOCHS  1\n",
      "Epoch 1\n",
      "-------------------------------\n",
      "Training loss: 2.155665  [16/16]\n",
      "Time taken for this epoch: 29s\n",
      "Validation results: \n",
      " Accuracy: 0.0%,                 Avg loss: 0.000181 \n",
      "\n",
      "Test results: \n",
      " Accuracy: 0.0%,                 Avg loss: 0.000170 \n",
      "\n",
      "Done!\n",
      "******************************\n",
      "Training on Dataset: CIFAR10_1000, Model: resnet18\n",
      "Dataset CIFAR10\n",
      "    Number of datapoints: 50000\n",
      "    Root location: data\n",
      "    Split: Train\n",
      "    StandardTransform\n",
      "Transform: ToTensor()\n",
      "TOTAL EPOCHS  1\n",
      "Epoch 1\n",
      "-------------------------------\n",
      "Training loss: 1.245067  [ 8/ 8]\n",
      "Time taken for this epoch: 4s\n",
      "Validation results: \n",
      " Accuracy: 0.1%,                 Avg loss: 0.000082 \n",
      "\n",
      "Test results: \n",
      " Accuracy: 0.1%,                 Avg loss: 0.000059 \n",
      "\n",
      "Done!\n",
      "******************************\n",
      "Training on Dataset: CIFAR10_1000, Model: vgg16\n",
      "Dataset CIFAR10\n",
      "    Number of datapoints: 50000\n",
      "    Root location: data\n",
      "    Split: Train\n",
      "    StandardTransform\n",
      "Transform: ToTensor()\n",
      "TOTAL EPOCHS  1\n",
      "Epoch 1\n",
      "-------------------------------\n",
      "Training loss: 2.088445  [ 8/ 8]\n",
      "Time taken for this epoch: 15s\n",
      "Validation results: \n",
      " Accuracy: 0.0%,                 Avg loss: 0.000085 \n",
      "\n",
      "Test results: \n",
      " Accuracy: 0.0%,                 Avg loss: 0.000079 \n",
      "\n",
      "Done!\n"
     ]
    }
   ],
   "source": [
    "from gdeep.search.benchmark import Benchmark\n",
    "\n",
    "bench = Benchmark(models_dicts, dataloaders_dicts, loss_fn, writer)\n",
    "\n",
    "bench.start(optimizer = SGD, epochs = 1, batch_size = 32, lr = 0.01)"
   ]
  },
  {
   "cell_type": "markdown",
   "metadata": {},
   "source": [
    "## Benchmarking + Gridsearch"
   ]
  },
  {
   "cell_type": "code",
   "execution_count": 11,
   "metadata": {
    "scrolled": false
   },
   "outputs": [
    {
     "name": "stderr",
     "output_type": "stream",
     "text": [
      "\u001b[32m[I 2021-10-04 01:15:50,145]\u001b[0m A new study created in memory with name: no-name-21c96d88-e66a-4a2e-bf8d-ea45175a9498\u001b[0m\n"
     ]
    },
    {
     "name": "stdout",
     "output_type": "stream",
     "text": [
      "****************************************\n",
      "Performing Gridsearch on Dataset: CIFAR10_500, Model: resnet18\n",
      "Epoch 1\n",
      "-------------------------------\n",
      "Training loss: 3.132328  [16/16]\n",
      "Time taken for this epoch: 10s\n"
     ]
    },
    {
     "name": "stderr",
     "output_type": "stream",
     "text": [
      "\u001b[32m[I 2021-10-04 01:16:00,506]\u001b[0m Trial 0 finished with value: 3.1323282718658447 and parameters: {'optimizer': 'Adam', 'lr': 0.002504190727127988}. Best is trial 0 with value: 3.1323282718658447.\u001b[0m\n"
     ]
    },
    {
     "name": "stdout",
     "output_type": "stream",
     "text": [
      "Validation results: \n",
      " Accuracy: 0.1%,                 Avg loss: 0.000255 \n",
      "\n",
      "Done!\n",
      "Epoch 1\n",
      "-------------------------------\n",
      "Training loss: 2.073715  [16/16]\n",
      "Time taken for this epoch: 9s\n"
     ]
    },
    {
     "name": "stderr",
     "output_type": "stream",
     "text": [
      "\u001b[32m[I 2021-10-04 01:16:10,188]\u001b[0m Trial 1 finished with value: 2.0737147331237793 and parameters: {'optimizer': 'SGD', 'lr': 0.00955426690355359}. Best is trial 1 with value: 2.0737147331237793.\u001b[0m\n",
      "\u001b[32m[I 2021-10-04 01:16:10,359]\u001b[0m A new study created in memory with name: no-name-f4804cb1-a6c4-4ab5-b523-9fc4907ec480\u001b[0m\n"
     ]
    },
    {
     "name": "stdout",
     "output_type": "stream",
     "text": [
      "Validation results: \n",
      " Accuracy: 0.1%,                 Avg loss: 0.000167 \n",
      "\n",
      "Done!\n",
      "Study statistics: \n",
      "Number of finished trials:  2\n",
      "Number of pruned trials:  0\n",
      "Number of complete trials:  2\n",
      "Best trial:\n",
      "Metric Value for best trial:  2.0737147331237793\n",
      "****************************************\n",
      "Performing Gridsearch on Dataset: CIFAR10_500, Model: vgg16\n",
      "Epoch 1\n",
      "-------------------------------\n",
      "Training loss: 1.731036  [16/16]\n",
      "Time taken for this epoch: 47s\n"
     ]
    },
    {
     "name": "stderr",
     "output_type": "stream",
     "text": [
      "\u001b[32m[I 2021-10-04 01:17:00,964]\u001b[0m Trial 0 finished with value: 1.7310364246368408 and parameters: {'optimizer': 'SGD', 'lr': 0.0020176149818730837}. Best is trial 0 with value: 1.7310364246368408.\u001b[0m\n"
     ]
    },
    {
     "name": "stdout",
     "output_type": "stream",
     "text": [
      "Validation results: \n",
      " Accuracy: 0.2%,                 Avg loss: 0.000142 \n",
      "\n",
      "Done!\n",
      "Epoch 1\n",
      "-------------------------------\n",
      "Training loss: 2.352016  [16/16]6]\n",
      "Time taken for this epoch: 56s\n"
     ]
    },
    {
     "name": "stderr",
     "output_type": "stream",
     "text": [
      "\u001b[32m[I 2021-10-04 01:17:59,726]\u001b[0m Trial 1 finished with value: 2.352015733718872 and parameters: {'optimizer': 'Adam', 'lr': 0.0014788205112112622}. Best is trial 0 with value: 1.7310364246368408.\u001b[0m\n",
      "\u001b[32m[I 2021-10-04 01:17:59,895]\u001b[0m A new study created in memory with name: no-name-eb035ef3-eb3d-4980-bbc2-d0e695737471\u001b[0m\n"
     ]
    },
    {
     "name": "stdout",
     "output_type": "stream",
     "text": [
      "Validation results: \n",
      " Accuracy: 0.0%,                 Avg loss: 0.000277 \n",
      "\n",
      "Done!\n",
      "Study statistics: \n",
      "Number of finished trials:  2\n",
      "Number of pruned trials:  0\n",
      "Number of complete trials:  2\n",
      "Best trial:\n",
      "Metric Value for best trial:  1.7310364246368408\n",
      "****************************************\n",
      "Performing Gridsearch on Dataset: CIFAR10_1000, Model: resnet18\n",
      "Epoch 1\n",
      "-------------------------------\n",
      "Training loss: 4.986741  [ 8/ 8]]\n",
      "Time taken for this epoch: 5s\n"
     ]
    },
    {
     "name": "stderr",
     "output_type": "stream",
     "text": [
      "\u001b[32m[I 2021-10-04 01:18:04,954]\u001b[0m Trial 0 finished with value: 4.986740589141846 and parameters: {'optimizer': 'Adam', 'lr': 0.006156067536648929}. Best is trial 0 with value: 4.986740589141846.\u001b[0m\n"
     ]
    },
    {
     "name": "stdout",
     "output_type": "stream",
     "text": [
      "Validation results: \n",
      " Accuracy: 0.0%,                 Avg loss: 0.000386 \n",
      "\n",
      "Done!\n",
      "Epoch 1\n",
      "-------------------------------\n",
      "Training loss: 6.622722  [ 8/ 8]]\n",
      "Time taken for this epoch: 5s\n"
     ]
    },
    {
     "name": "stderr",
     "output_type": "stream",
     "text": [
      "\u001b[32m[I 2021-10-04 01:18:10,021]\u001b[0m Trial 1 finished with value: 6.6227216720581055 and parameters: {'optimizer': 'Adam', 'lr': 0.0015249001567833671}. Best is trial 0 with value: 4.986740589141846.\u001b[0m\n",
      "\u001b[32m[I 2021-10-04 01:18:10,185]\u001b[0m A new study created in memory with name: no-name-8154ac41-2953-47f5-a403-24e607c9863b\u001b[0m\n"
     ]
    },
    {
     "name": "stdout",
     "output_type": "stream",
     "text": [
      "Validation results: \n",
      " Accuracy: 0.0%,                 Avg loss: 0.000190 \n",
      "\n",
      "Done!\n",
      "Study statistics: \n",
      "Number of finished trials:  2\n",
      "Number of pruned trials:  0\n",
      "Number of complete trials:  2\n",
      "Best trial:\n",
      "Metric Value for best trial:  4.986740589141846\n",
      "****************************************\n",
      "Performing Gridsearch on Dataset: CIFAR10_1000, Model: vgg16\n",
      "Epoch 1\n",
      "-------------------------------\n",
      "Training loss: 2.377026  [ 8/ 8]\n",
      "Time taken for this epoch: 29s\n"
     ]
    },
    {
     "name": "stderr",
     "output_type": "stream",
     "text": [
      "\u001b[32m[I 2021-10-04 01:18:41,129]\u001b[0m Trial 0 finished with value: 2.377025842666626 and parameters: {'optimizer': 'Adam', 'lr': 0.0018690598238489402}. Best is trial 0 with value: 2.377025842666626.\u001b[0m\n"
     ]
    },
    {
     "name": "stdout",
     "output_type": "stream",
     "text": [
      "Validation results: \n",
      " Accuracy: 0.0%,                 Avg loss: 0.000093 \n",
      "\n",
      "Done!\n",
      "Epoch 1\n",
      "-------------------------------\n",
      "Training loss: 2.328606  [ 8/ 8]\n",
      "Time taken for this epoch: 29s\n"
     ]
    },
    {
     "name": "stderr",
     "output_type": "stream",
     "text": [
      "\u001b[32m[I 2021-10-04 01:19:12,281]\u001b[0m Trial 1 finished with value: 2.328605890274048 and parameters: {'optimizer': 'Adam', 'lr': 0.0018118381281911327}. Best is trial 1 with value: 2.328605890274048.\u001b[0m\n"
     ]
    },
    {
     "name": "stdout",
     "output_type": "stream",
     "text": [
      "Validation results: \n",
      " Accuracy: 0.0%,                 Avg loss: 0.000095 \n",
      "\n",
      "Done!\n",
      "Study statistics: \n",
      "Number of finished trials:  2\n",
      "Number of pruned trials:  0\n",
      "Number of complete trials:  2\n",
      "Best trial:\n",
      "Metric Value for best trial:  2.328605890274048\n"
     ]
    }
   ],
   "source": [
    "from gdeep.search.benchmark import Benchmark\n",
    "from gdeep.search.gridsearch import Gridsearch\n",
    "from torch.optim import SGD, Adam, RMSprop\n",
    "\n",
    "loss_fn = nn.CrossEntropyLoss()\n",
    "\n",
    "bench = Benchmark(models_dicts, dataloaders_dicts, loss_fn, writer)\n",
    "\n",
    "search = Gridsearch(bench, \"loss\", 2)\n",
    "search.start((SGD, Adam), 1, 64, lr=(0.001, 0.01))\n",
    "\n"
   ]
  },
  {
   "cell_type": "code",
   "execution_count": null,
   "metadata": {},
   "outputs": [],
   "source": []
  }
 ],
 "metadata": {
  "kernelspec": {
   "display_name": "Python 3",
   "language": "python",
   "name": "python3"
  },
  "language_info": {
   "codemirror_mode": {
    "name": "ipython",
    "version": 3
   },
   "file_extension": ".py",
   "mimetype": "text/x-python",
   "name": "python",
   "nbconvert_exporter": "python",
   "pygments_lexer": "ipython3",
   "version": "3.6.8"
  }
 },
 "nbformat": 4,
 "nbformat_minor": 2
}
