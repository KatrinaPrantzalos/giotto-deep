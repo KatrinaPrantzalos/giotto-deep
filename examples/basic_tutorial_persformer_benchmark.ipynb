{
 "cells": [
  {
   "cell_type": "markdown",
   "metadata": {},
   "source": [
    "# Basic tutorial: Training a topological model\n",
    "### Author: Raphael Reinauer\n",
    "### Date: 2022-04-05\n",
    " This short tutorial shows how to use the GDeep framework to train topological\n",
    " models using the topological datasets provided by the GDeep dataset cloud.\n",
    " The main steps of the tutorial are the following:\n",
    " 1. Specify the dataset you want to use.\n",
    " 2. Specify the model and the hyperparameter space you want to use.\n",
    " 3. Run a large scale hyperparameter search to find the good hyperparameters."
   ]
  },
  {
   "cell_type": "code",
   "execution_count": 1,
   "metadata": {},
   "outputs": [
    {
     "name": "stdout",
     "output_type": "stream",
     "text": [
      "No TPUs...\n"
     ]
    }
   ],
   "source": [
    "# This snippet will deactivate autoreload if this file\n",
    "# is run as a script and activate it if it is run as a notebook.\n",
    "from gdeep.utility.utils import autoreload_if_notebook\n",
    "\n",
    "autoreload_if_notebook()\n",
    "# Include necessary imports\n",
    "from os.path import join\n",
    "\n",
    "# Import the GDeep hpo module\n",
    "from gdeep.search import PersformerHyperparameterSearch\n"
   ]
  },
  {
   "cell_type": "markdown",
   "metadata": {},
   "source": [
    " ## Training a topological model with the Dataset Cloud\n",
    " In this tutorial we will use the our custom datasets storage\n",
    " on [Google Cloud Datastore](https://cloud.google.com/datastore/) to\n",
    " load datasets and train a topological model.\n",
    " The dataset cloud storage contain a variety of topological datasets\n",
    " that can be easily used in GDeep.\n",
    " We will use the Mutag dataset from the\n",
    " [Mutagenicity Benchmark](https://www.ncbi.nlm.nih.gov/pmc/articles/PMC5276825/)\n",
    " to do performance benchmarking for the Persformer model.\n",
    " For this benchmark we will use the GDeep\n",
    " [Persformer](https://doi.org/10.48550/arXiv.2112.15210) model,\n",
    " the GDeep pipeline and the GDeep hyperparameter search.\n",
    " With only a few lines of code we can train multiple topological models\n",
    " with different hyperparameters and evaluate the performance of the model."
   ]
  },
  {
   "cell_type": "code",
   "execution_count": 2,
   "metadata": {},
   "outputs": [
    {
     "name": "stderr",
     "output_type": "stream",
     "text": [
      "\u001b[32m[I 2022-04-07 22:49:18,459]\u001b[0m A new study created in memory with name: 8ZWH7AMFDC6BDV6WXS4F\u001b[0m\n"
     ]
    },
    {
     "name": "stdout",
     "output_type": "stream",
     "text": [
      "Dataset 'MutagDataset' already downloaded\n",
      "\n",
      "\n",
      "********** Fold  1 **************\n",
      "Epoch 1\n",
      "-------------------------------\n",
      "Epoch training loss: 0.738036 \tEpoch training accuracy: 39.36%                                                      \n",
      "Time taken for this epoch: 0.00s\n",
      "Learning rate value: 0.00000000\n",
      "Validation results: \n",
      " Accuracy: 32.98%,                 Avg loss: 0.739053 \n",
      "\n",
      "Epoch 2\n",
      "-------------------------------\n",
      "Epoch training loss: 0.731717 \tEpoch training accuracy: 38.30%                                               \n",
      "Time taken for this epoch: 0.00s\n",
      "Learning rate value: 0.00023108\n",
      "Validation results: \n",
      " Accuracy: 32.98%,                 Avg loss: 0.734509 \n",
      "\n",
      "Epoch 3\n",
      "-------------------------------\n",
      "Epoch training loss: 0.730505 \tEpoch training accuracy: 39.36%                                                        \n",
      "Time taken for this epoch: 0.00s\n",
      "Learning rate value: 0.00046216\n",
      "Validation results: \n",
      " Accuracy: 32.98%,                 Avg loss: 0.724120 \n",
      "\n",
      "Epoch 4\n",
      "-------------------------------\n",
      "Epoch training loss: 0.725159 \tEpoch training accuracy: 43.62%                                                         \n",
      "Time taken for this epoch: 0.00s\n",
      "Learning rate value: 0.00069324\n",
      "Validation results: \n",
      " Accuracy: 32.98%,                 Avg loss: 0.710173 \n",
      "\n",
      "Epoch 5\n",
      "-------------------------------\n",
      "Epoch training loss: 0.714809 \tEpoch training accuracy: 47.87%                                               \n",
      "Time taken for this epoch: 0.00s\n",
      "Learning rate value: 0.00092432\n",
      "Validation results: \n",
      " Accuracy: 35.11%,                 Avg loss: 0.693021 \n",
      "\n",
      "\n",
      "\n",
      "********** Fold  2 **************\n",
      "Epoch 1\n",
      "-------------------------------\n",
      "Epoch training loss: 0.753950 \tEpoch training accuracy: 34.04%                                                        \n",
      "Time taken for this epoch: 0.00s\n",
      "Learning rate value: 0.00000000\n",
      "Validation results: \n",
      " Accuracy: 34.04%,                 Avg loss: 0.736751 \n",
      "\n",
      "Epoch 2\n",
      "-------------------------------\n",
      "Epoch training loss: 0.745715 \tEpoch training accuracy: 36.17%                                                         \n",
      "Time taken for this epoch: 0.00s\n",
      "Learning rate value: 0.00023108\n",
      "Validation results: \n",
      " Accuracy: 34.04%,                 Avg loss: 0.731561 \n",
      "\n",
      "Epoch 3\n",
      "-------------------------------\n",
      "Batch training loss:  0.7421621680259705  \tBatch training accuracy:  43.75  \t[ 1 / 3 ]                     \r"
     ]
    },
    {
     "name": "stderr",
     "output_type": "stream",
     "text": [
      "\u001b[32m[I 2022-04-07 22:49:18,732]\u001b[0m Trial 0 finished with value: 0.5159574468085106 and parameters: {'optimizer': 'AdamW', 'lr': 0.001386483068271907, 'weight_decay': 0.000572819104521056, 'batch_size': 32, 'dropout_dec': 0.45, 'dropout_enc': 0.25, 'dim_input': 6, 'n_layer_dec': 1, 'n_layer_enc': 2, 'dim_output': 2, 'activation': 'gelu', 'bias_attention': 'False', 'hidden_dim': '16', 'num_inds': '16', 'layer_norm': 'False', 'layer_norm_pooling': 'False', 'num_heads': '2', 'attention_type': 'self_attention', 'num_cycles': 1, 'num_training_steps': 5, 'num_warmup_steps': 6}. Best is trial 0 with value: 0.5159574468085106.\u001b[0m\n"
     ]
    },
    {
     "name": "stdout",
     "output_type": "stream",
     "text": [
      "Epoch training loss: 0.741594 \tEpoch training accuracy: 37.23%                                                         \n",
      "Time taken for this epoch: 0.00s\n",
      "Learning rate value: 0.00046216\n",
      "Validation results: \n",
      " Accuracy: 34.04%,                 Avg loss: 0.721423 \n",
      "\n",
      "Epoch 4\n",
      "-------------------------------\n",
      "Epoch training loss: 0.711724 \tEpoch training accuracy: 51.06%                                               \n",
      "Time taken for this epoch: 0.00s\n",
      "Learning rate value: 0.00069324\n",
      "Validation results: \n",
      " Accuracy: 34.04%,                 Avg loss: 0.706615 \n",
      "\n",
      "Epoch 5\n",
      "-------------------------------\n",
      "Epoch training loss: 0.701514 \tEpoch training accuracy: 50.00%                                                         \n",
      "Time taken for this epoch: 0.00s\n",
      "Learning rate value: 0.00092432\n",
      "Validation results: \n",
      " Accuracy: 68.09%,                 Avg loss: 0.689084 \n",
      "\n",
      "******************** RESULTS ********************\n",
      " \n",
      "Model:  Persformer \n",
      "Model Hyperparameters: {'activation': 'gelu', 'bias_attention': 'False', 'hidden_dim': '16', 'num_inds': '16', 'layer_norm': 'False', 'layer_norm_pooling': 'False', 'num_heads': '2', 'attention_type': 'self_attention', 'dropout_dec': 0.45, 'dropout_enc': 0.25, 'dim_input': 6, 'n_layer_dec': 1, 'n_layer_enc': 2, 'dim_output': 2}\n",
      "Optimizer: AdamW (\n",
      "Parameter Group 0\n",
      "    amsgrad: False\n",
      "    betas: (0.9, 0.999)\n",
      "    eps: 1e-08\n",
      "    initial_lr: 0.001386483068271907\n",
      "    lr: 0.001155402556893256\n",
      "    weight_decay: 0.000572819104521056\n",
      ")\n",
      "Optimizer parameters: {'lr': 0.001386483068271907, 'weight_decay': 0.000572819104521056}\n",
      "Dataloader parameters: {'batch_size': 32}\n",
      "LR-scheduler parameters: {'num_cycles': 1, 'num_training_steps': 5, 'num_warmup_steps': 6}\n",
      "Best Validation accuracy: 68.08510638297872\n",
      "\n",
      "\n",
      "********** Fold  1 **************\n",
      "Epoch 1\n",
      "-------------------------------\n",
      "Epoch training loss: 0.650495 \tEpoch training accuracy: 65.96%                                                          \n",
      "Time taken for this epoch: 0.00s\n",
      "Learning rate value: 0.00000000\n",
      "Validation results: \n",
      " Accuracy: 67.02%,                 Avg loss: 0.634885 \n",
      "\n",
      "Epoch 2\n",
      "-------------------------------\n",
      "Epoch training loss: 0.648268 \tEpoch training accuracy: 65.96%                                                          \n",
      "Time taken for this epoch: 0.00s\n",
      "Learning rate value: 0.00355469\n",
      "Validation results: \n",
      " Accuracy: 67.02%,                 Avg loss: 0.577594 \n",
      "\n",
      "Epoch 3\n",
      "-------------------------------\n",
      "Epoch training loss: 0.593193 \tEpoch training accuracy: 65.96%                                                          \n",
      "Time taken for this epoch: 0.00s\n",
      "Learning rate value: 0.00710937\n",
      "Validation results: \n",
      " Accuracy: 67.02%,                 Avg loss: 0.564831 \n",
      "\n",
      "Epoch 4\n",
      "-------------------------------\n",
      "Epoch training loss: 0.624670 \tEpoch training accuracy: 65.96%                                                          \n",
      "Time taken for this epoch: 0.00s\n",
      "Learning rate value: 0.01066406\n",
      "Validation results: \n",
      " Accuracy: 70.21%,                 Avg loss: 0.497704 \n",
      "\n",
      "Epoch 5\n",
      "-------------------------------\n",
      "Epoch training loss: 0.488667 \tEpoch training accuracy: 84.04%                                                          \n",
      "Time taken for this epoch: 0.00s\n",
      "Learning rate value: 0.01421875\n",
      "Validation results: \n",
      " Accuracy: 80.85%,                 Avg loss: 0.478981 \n",
      "\n",
      "\n",
      "\n",
      "********** Fold  2 **************\n",
      "Epoch 1\n",
      "-------------------------------\n",
      "Epoch training loss: 0.635759 \tEpoch training accuracy: 67.02%                                                          \n",
      "Time taken for this epoch: 0.00s\n",
      "Learning rate value: 0.00000000\n",
      "Validation results: \n",
      " Accuracy: 65.96%,                 Avg loss: 0.636050 \n",
      "\n",
      "Epoch 2\n",
      "-------------------------------\n",
      "Epoch training loss: 0.667778 \tEpoch training accuracy: 67.02%                                                         \n",
      "Time taken for this epoch: 0.00s\n",
      "Learning rate value: 0.00355469\n",
      "Validation results: \n",
      " Accuracy: 65.96%,                 Avg loss: 0.651248 \n",
      "\n",
      "Epoch 3\n",
      "-------------------------------\n",
      "Epoch training loss: 0.631209 \tEpoch training accuracy: 67.02%                                                          \n",
      "Time taken for this epoch: 0.00s\n",
      "Learning rate value: 0.00710937\n",
      "Validation results: \n",
      " Accuracy: 65.96%,                 Avg loss: 0.586093 \n",
      "\n",
      "Epoch 4\n",
      "-------------------------------\n",
      "Epoch training loss: 0.571713 \tEpoch training accuracy: 67.02%                                                         \n",
      "Time taken for this epoch: 0.00s\n",
      "Learning rate value: 0.01066406\n",
      "Validation results: \n",
      " Accuracy: 65.96%,                 Avg loss: 0.549206 \n",
      "\n",
      "Epoch 5\n",
      "-------------------------------\n",
      "Epoch training loss: 0.603219 \tEpoch training accuracy: 67.02%                                                          \n",
      "Time taken for this epoch: 0.00s\n",
      "Learning rate value: 0.01421875\n"
     ]
    },
    {
     "name": "stderr",
     "output_type": "stream",
     "text": [
      "\u001b[32m[I 2022-04-07 22:49:19,114]\u001b[0m Trial 1 finished with value: 0.803191489361702 and parameters: {'optimizer': 'AdamW', 'lr': 0.021328120249251462, 'weight_decay': 6.698381865621247e-06, 'batch_size': 18, 'dropout_dec': 0.25, 'dropout_enc': 0.5, 'dim_input': 6, 'n_layer_dec': 1, 'n_layer_enc': 2, 'dim_output': 2, 'activation': 'gelu', 'bias_attention': 'False', 'hidden_dim': '16', 'num_inds': '16', 'layer_norm': 'False', 'layer_norm_pooling': 'False', 'num_heads': '2', 'attention_type': 'self_attention', 'num_cycles': 1, 'num_training_steps': 5, 'num_warmup_steps': 6}. Best is trial 1 with value: 0.803191489361702.\u001b[0m\n"
     ]
    },
    {
     "name": "stdout",
     "output_type": "stream",
     "text": [
      "Validation results: \n",
      " Accuracy: 79.79%,                 Avg loss: 0.460437 \n",
      "\n",
      "******************** RESULTS ********************\n",
      " \n",
      "Model:  Persformer \n",
      "Model Hyperparameters: {'activation': 'gelu', 'bias_attention': 'False', 'hidden_dim': '16', 'num_inds': '16', 'layer_norm': 'False', 'layer_norm_pooling': 'False', 'num_heads': '2', 'attention_type': 'self_attention', 'dropout_dec': 0.25, 'dropout_enc': 0.5, 'dim_input': 6, 'n_layer_dec': 1, 'n_layer_enc': 2, 'dim_output': 2}\n",
      "Optimizer: AdamW (\n",
      "Parameter Group 0\n",
      "    amsgrad: False\n",
      "    betas: (0.9, 0.999)\n",
      "    eps: 1e-08\n",
      "    initial_lr: 0.021328120249251462\n",
      "    lr: 0.017773433541042886\n",
      "    weight_decay: 6.698381865621247e-06\n",
      ")\n",
      "Optimizer parameters: {'lr': 0.021328120249251462, 'weight_decay': 6.698381865621247e-06}\n",
      "Dataloader parameters: {'batch_size': 18}\n",
      "LR-scheduler parameters: {'num_cycles': 1, 'num_training_steps': 5, 'num_warmup_steps': 6}\n",
      "Best Validation accuracy: 80.85106382978722\n",
      "\n",
      "\n",
      "********** Fold  1 **************\n",
      "Epoch 1\n",
      "-------------------------------\n",
      "Epoch training loss: 0.681180 \tEpoch training accuracy: 60.64%                                                          \n",
      "Time taken for this epoch: 0.00s\n",
      "Learning rate value: 0.00000000\n",
      "Validation results: \n",
      " Accuracy: 67.02%,                 Avg loss: 0.683621 \n",
      "\n",
      "Epoch 2\n",
      "-------------------------------\n",
      "Epoch training loss: 0.682775 \tEpoch training accuracy: 59.57%                                                          \n",
      "Time taken for this epoch: 0.00s\n",
      "Learning rate value: 0.00011343\n",
      "Validation results: \n",
      " Accuracy: 67.02%,                 Avg loss: 0.676619 \n",
      "\n",
      "Epoch 3\n",
      "-------------------------------\n",
      "Epoch training loss: 0.691805 \tEpoch training accuracy: 60.64%                                                         \n",
      "Time taken for this epoch: 0.00s\n",
      "Learning rate value: 0.00022687\n",
      "Validation results: \n",
      " Accuracy: 67.02%,                 Avg loss: 0.675839 \n",
      "\n",
      "Epoch 4\n",
      "-------------------------------\n",
      "Epoch training loss: 0.679415 \tEpoch training accuracy: 64.89%                                                         \n",
      "Time taken for this epoch: 0.00s\n",
      "Learning rate value: 0.00034030\n",
      "Validation results: \n",
      " Accuracy: 67.02%,                 Avg loss: 0.663030 \n",
      "\n",
      "Epoch 5\n",
      "-------------------------------\n",
      "Epoch training loss: 0.656498 \tEpoch training accuracy: 65.96%                                                         \n",
      "Time taken for this epoch: 0.00s\n",
      "Learning rate value: 0.00045373\n",
      "Validation results: \n",
      " Accuracy: 67.02%,                 Avg loss: 0.657197 \n",
      "\n",
      "\n",
      "\n",
      "********** Fold  2 **************\n",
      "Epoch 1\n",
      "-------------------------------\n",
      "Epoch training loss: 0.680617 \tEpoch training accuracy: 57.45%                                                         \n",
      "Time taken for this epoch: 0.00s\n",
      "Learning rate value: 0.00000000\n",
      "Validation results: \n",
      " Accuracy: 65.96%,                 Avg loss: 0.675489 \n",
      "\n",
      "Epoch 2\n",
      "-------------------------------\n",
      "Batch training loss:  0.6864773432413737  \tBatch training accuracy:  54.761904761904766  \t[ 3 / 4 ]                     \r"
     ]
    },
    {
     "name": "stderr",
     "output_type": "stream",
     "text": [
      "\u001b[32m[I 2022-04-07 22:49:19,416]\u001b[0m Trial 2 finished with value: 0.6648936170212766 and parameters: {'optimizer': 'AdamW', 'lr': 0.0006805966602922728, 'weight_decay': 2.665630155107317e-06, 'batch_size': 28, 'dropout_dec': 0.25, 'dropout_enc': 0.5, 'dim_input': 6, 'n_layer_dec': 1, 'n_layer_enc': 2, 'dim_output': 2, 'activation': 'gelu', 'bias_attention': 'False', 'hidden_dim': '16', 'num_inds': '16', 'layer_norm': 'False', 'layer_norm_pooling': 'False', 'num_heads': '2', 'attention_type': 'self_attention', 'num_cycles': 1, 'num_training_steps': 5, 'num_warmup_steps': 6}. Best is trial 1 with value: 0.803191489361702.\u001b[0m\n"
     ]
    },
    {
     "name": "stdout",
     "output_type": "stream",
     "text": [
      "Epoch training loss: 0.682123 \tEpoch training accuracy: 58.51%                                                          \n",
      "Time taken for this epoch: 0.00s\n",
      "Learning rate value: 0.00011343\n",
      "Validation results: \n",
      " Accuracy: 65.96%,                 Avg loss: 0.685542 \n",
      "\n",
      "Epoch 3\n",
      "-------------------------------\n",
      "Epoch training loss: 0.675436 \tEpoch training accuracy: 59.57%                                                         \n",
      "Time taken for this epoch: 0.00s\n",
      "Learning rate value: 0.00022687\n",
      "Validation results: \n",
      " Accuracy: 65.96%,                 Avg loss: 0.673456 \n",
      "\n",
      "Epoch 4\n",
      "-------------------------------\n",
      "Epoch training loss: 0.671396 \tEpoch training accuracy: 65.96%                                                         \n",
      "Time taken for this epoch: 0.00s\n",
      "Learning rate value: 0.00034030\n",
      "Validation results: \n",
      " Accuracy: 65.96%,                 Avg loss: 0.659428 \n",
      "\n",
      "Epoch 5\n",
      "-------------------------------\n",
      "Epoch training loss: 0.657742 \tEpoch training accuracy: 64.89%                                                          \n",
      "Time taken for this epoch: 0.00s\n",
      "Learning rate value: 0.00045373\n",
      "Validation results: \n",
      " Accuracy: 65.96%,                 Avg loss: 0.663249 \n",
      "\n",
      "******************** RESULTS ********************\n",
      " \n",
      "Model:  Persformer \n",
      "Model Hyperparameters: {'activation': 'gelu', 'bias_attention': 'False', 'hidden_dim': '16', 'num_inds': '16', 'layer_norm': 'False', 'layer_norm_pooling': 'False', 'num_heads': '2', 'attention_type': 'self_attention', 'dropout_dec': 0.25, 'dropout_enc': 0.5, 'dim_input': 6, 'n_layer_dec': 1, 'n_layer_enc': 2, 'dim_output': 2}\n",
      "Optimizer: AdamW (\n",
      "Parameter Group 0\n",
      "    amsgrad: False\n",
      "    betas: (0.9, 0.999)\n",
      "    eps: 1e-08\n",
      "    initial_lr: 0.0006805966602922728\n",
      "    lr: 0.000567163883576894\n",
      "    weight_decay: 2.665630155107317e-06\n",
      ")\n",
      "Optimizer parameters: {'lr': 0.0006805966602922728, 'weight_decay': 2.665630155107317e-06}\n",
      "Dataloader parameters: {'batch_size': 28}\n",
      "LR-scheduler parameters: {'num_cycles': 1, 'num_training_steps': 5, 'num_warmup_steps': 6}\n",
      "Best Validation accuracy: 67.02127659574468\n",
      "\n",
      "\n",
      "********** Fold  1 **************\n",
      "Epoch 1\n",
      "-------------------------------\n",
      "Epoch training loss: 0.661724 \tEpoch training accuracy: 65.96%                                                         \n",
      "Time taken for this epoch: 0.00s\n",
      "Learning rate value: 0.00000000\n",
      "Validation results: \n",
      " Accuracy: 67.02%,                 Avg loss: 0.654491 \n",
      "\n",
      "Epoch 2\n",
      "-------------------------------\n",
      "Epoch training loss: 0.653155 \tEpoch training accuracy: 65.96%                                                          \n",
      "Time taken for this epoch: 0.00s\n",
      "Learning rate value: 0.00233171\n",
      "Validation results: \n",
      " Accuracy: 67.02%,                 Avg loss: 0.638362 \n",
      "\n",
      "Epoch 3\n",
      "-------------------------------\n",
      "Epoch training loss: 0.637165 \tEpoch training accuracy: 65.96%                                                          \n",
      "Time taken for this epoch: 0.00s\n",
      "Learning rate value: 0.00466342\n",
      "Validation results: \n",
      " Accuracy: 67.02%,                 Avg loss: 0.618891 \n",
      "\n",
      "Epoch 4\n",
      "-------------------------------\n",
      "Batch training loss:  0.635441243648529  \tBatch training accuracy:  62.5  \t[ 1 / 4 ]                     \r"
     ]
    },
    {
     "name": "stderr",
     "output_type": "stream",
     "text": [
      "\u001b[32m[I 2022-04-07 22:49:19,736]\u001b[0m Trial 3 finished with value: 0.6648936170212766 and parameters: {'optimizer': 'AdamW', 'lr': 0.013990246774215506, 'weight_decay': 0.0007125969353362155, 'batch_size': 24, 'dropout_dec': 0.25, 'dropout_enc': 0.0, 'dim_input': 6, 'n_layer_dec': 1, 'n_layer_enc': 2, 'dim_output': 2, 'activation': 'gelu', 'bias_attention': 'False', 'hidden_dim': '16', 'num_inds': '16', 'layer_norm': 'False', 'layer_norm_pooling': 'False', 'num_heads': '2', 'attention_type': 'self_attention', 'num_cycles': 1, 'num_training_steps': 5, 'num_warmup_steps': 6}. Best is trial 1 with value: 0.803191489361702.\u001b[0m\n"
     ]
    },
    {
     "name": "stdout",
     "output_type": "stream",
     "text": [
      "Epoch training loss: 0.616164 \tEpoch training accuracy: 65.96%                                                         \n",
      "Time taken for this epoch: 0.00s\n",
      "Learning rate value: 0.00699512\n",
      "Validation results: \n",
      " Accuracy: 67.02%,                 Avg loss: 0.608612 \n",
      "\n",
      "Epoch 5\n",
      "-------------------------------\n",
      "Epoch training loss: 0.643349 \tEpoch training accuracy: 65.96%                                                         \n",
      "Time taken for this epoch: 0.00s\n",
      "Learning rate value: 0.00932683\n",
      "Validation results: \n",
      " Accuracy: 67.02%,                 Avg loss: 0.595521 \n",
      "\n",
      "\n",
      "\n",
      "********** Fold  2 **************\n",
      "Epoch 1\n",
      "-------------------------------\n",
      "Epoch training loss: 0.653356 \tEpoch training accuracy: 67.02%                                                         \n",
      "Time taken for this epoch: 0.00s\n",
      "Learning rate value: 0.00000000\n",
      "Validation results: \n",
      " Accuracy: 65.96%,                 Avg loss: 0.658232 \n",
      "\n",
      "Epoch 2\n",
      "-------------------------------\n",
      "Epoch training loss: 0.640760 \tEpoch training accuracy: 67.02%                                                          \n",
      "Time taken for this epoch: 0.00s\n",
      "Learning rate value: 0.00233171\n",
      "Validation results: \n",
      " Accuracy: 65.96%,                 Avg loss: 0.640699 \n",
      "\n",
      "Epoch 3\n",
      "-------------------------------\n",
      "Epoch training loss: 0.634969 \tEpoch training accuracy: 67.02%                                                         \n",
      "Time taken for this epoch: 0.00s\n",
      "Learning rate value: 0.00466342\n",
      "Validation results: \n",
      " Accuracy: 65.96%,                 Avg loss: 0.629857 \n",
      "\n",
      "Epoch 4\n",
      "-------------------------------\n",
      "Epoch training loss: 0.624469 \tEpoch training accuracy: 67.02%                                                         \n",
      "Time taken for this epoch: 0.00s\n",
      "Learning rate value: 0.00699512\n",
      "Validation results: \n",
      " Accuracy: 65.96%,                 Avg loss: 0.630891 \n",
      "\n",
      "Epoch 5\n",
      "-------------------------------\n",
      "Epoch training loss: 0.603027 \tEpoch training accuracy: 67.02%                                                         \n",
      "Time taken for this epoch: 0.00s\n",
      "Learning rate value: 0.00932683\n",
      "Validation results: \n",
      " Accuracy: 65.96%,                 Avg loss: 0.608115 \n",
      "\n",
      "******************** RESULTS ********************\n",
      " \n",
      "Model:  Persformer \n",
      "Model Hyperparameters: {'activation': 'gelu', 'bias_attention': 'False', 'hidden_dim': '16', 'num_inds': '16', 'layer_norm': 'False', 'layer_norm_pooling': 'False', 'num_heads': '2', 'attention_type': 'self_attention', 'dropout_dec': 0.25, 'dropout_enc': 0.0, 'dim_input': 6, 'n_layer_dec': 1, 'n_layer_enc': 2, 'dim_output': 2}\n",
      "Optimizer: AdamW (\n",
      "Parameter Group 0\n",
      "    amsgrad: False\n",
      "    betas: (0.9, 0.999)\n",
      "    eps: 1e-08\n",
      "    initial_lr: 0.013990246774215506\n",
      "    lr: 0.011658538978512921\n",
      "    weight_decay: 0.0007125969353362155\n",
      ")\n",
      "Optimizer parameters: {'lr': 0.013990246774215506, 'weight_decay': 0.0007125969353362155}\n",
      "Dataloader parameters: {'batch_size': 24}\n",
      "LR-scheduler parameters: {'num_cycles': 1, 'num_training_steps': 5, 'num_warmup_steps': 6}\n",
      "Best Validation accuracy: 67.02127659574468\n"
     ]
    },
    {
     "name": "stderr",
     "output_type": "stream",
     "text": [
      "c:\\Users\\Raphael\\Documents\\GitHub\\giotto-deep-new\\venv\\lib\\site-packages\\numpy\\lib\\function_base.py:2674: RuntimeWarning:\n",
      "\n",
      "invalid value encountered in subtract\n",
      "\n",
      "c:\\Users\\Raphael\\Documents\\GitHub\\giotto-deep-new\\venv\\lib\\site-packages\\numpy\\lib\\function_base.py:2829: RuntimeWarning:\n",
      "\n",
      "invalid value encountered in true_divide\n",
      "\n",
      "c:\\Users\\Raphael\\Documents\\GitHub\\giotto-deep-new\\venv\\lib\\site-packages\\numpy\\lib\\function_base.py:2830: RuntimeWarning:\n",
      "\n",
      "invalid value encountered in true_divide\n",
      "\n"
     ]
    },
    {
     "name": "stdout",
     "output_type": "stream",
     "text": [
      "Study statistics: \n",
      "Number of pruned trials:  0\n",
      "Number of complete trials:  4\n",
      "******************** BEST TRIAL: ********************\n",
      "Metric Value for best trial:  0.803191489361702\n",
      "Parameters Values for best trial:  {'optimizer': 'AdamW', 'lr': 0.021328120249251462, 'weight_decay': 6.698381865621247e-06, 'batch_size': 18, 'dropout_dec': 0.25, 'dropout_enc': 0.5, 'dim_input': 6, 'n_layer_dec': 1, 'n_layer_enc': 2, 'dim_output': 2, 'activation': 'gelu', 'bias_attention': 'False', 'hidden_dim': '16', 'num_inds': '16', 'layer_norm': 'False', 'layer_norm_pooling': 'False', 'num_heads': '2', 'attention_type': 'self_attention', 'num_cycles': 1, 'num_training_steps': 5, 'num_warmup_steps': 6}\n",
      "DateTime start of the best trial:  2022-04-07 22:49:18.732499\n"
     ]
    },
    {
     "data": {
      "application/vnd.plotly.v1+json": {
       "config": {
        "plotlyServerURL": "https://plot.ly"
       },
       "data": [
        {
         "coloraxis": "coloraxis",
         "hovertemplate": "Parameters: %{x}<br>Parameters: %{y}<br>Correlation: %{z}<extra></extra>",
         "name": "0",
         "type": "heatmap",
         "x": [
          "lr",
          "weight_decay",
          "batch_size",
          "dropout_dec",
          "dropout_enc",
          "dim_input",
          "n_layer_dec",
          "n_layer_enc",
          "dim_output",
          "num_cycles",
          "num_training_steps",
          "num_warmup_steps",
          "loss",
          "accuracy"
         ],
         "xaxis": "x",
         "y": [
          "lr",
          "weight_decay",
          "batch_size",
          "dropout_dec",
          "dropout_enc",
          "dim_input",
          "n_layer_dec",
          "n_layer_enc",
          "dim_output",
          "num_cycles",
          "num_training_steps",
          "num_warmup_steps",
          "loss",
          "accuracy"
         ],
         "yaxis": "y",
         "z": [
          [
           1,
           -0.10606688562077779,
           -0.9445217569554879,
           -0.5275174534010999,
           -0.0459575936613349,
           null,
           null,
           null,
           null,
           null,
           null,
           null,
           null,
           0.8029744227168237
          ],
          [
           -0.10606688562077779,
           1,
           0.39092977251949845,
           0.44554644323260895,
           -0.9591389025635859,
           null,
           null,
           null,
           null,
           null,
           null,
           null,
           null,
           -0.6170499528884288
          ],
          [
           -0.9445217569554878,
           0.3909297725194985,
           1,
           0.7255892438417318,
           -0.20403741306518114,
           null,
           null,
           null,
           null,
           null,
           null,
           null,
           null,
           -0.9541613383700538
          ],
          [
           -0.5275174534010999,
           0.44554644323260895,
           0.7255892438417318,
           0.9999999999999999,
           -0.17407765595569782,
           null,
           null,
           null,
           null,
           null,
           null,
           null,
           null,
           -0.8313318436246472
          ],
          [
           -0.04595759366133491,
           -0.9591389025635859,
           -0.20403741306518114,
           -0.17407765595569782,
           1,
           null,
           null,
           null,
           null,
           null,
           null,
           null,
           null,
           0.41836166339748476
          ],
          [
           null,
           null,
           null,
           null,
           null,
           null,
           null,
           null,
           null,
           null,
           null,
           null,
           null,
           null
          ],
          [
           null,
           null,
           null,
           null,
           null,
           null,
           null,
           null,
           null,
           null,
           null,
           null,
           null,
           null
          ],
          [
           null,
           null,
           null,
           null,
           null,
           null,
           null,
           null,
           null,
           null,
           null,
           null,
           null,
           null
          ],
          [
           null,
           null,
           null,
           null,
           null,
           null,
           null,
           null,
           null,
           null,
           null,
           null,
           null,
           null
          ],
          [
           null,
           null,
           null,
           null,
           null,
           null,
           null,
           null,
           null,
           null,
           null,
           null,
           null,
           null
          ],
          [
           null,
           null,
           null,
           null,
           null,
           null,
           null,
           null,
           null,
           null,
           null,
           null,
           null,
           null
          ],
          [
           null,
           null,
           null,
           null,
           null,
           null,
           null,
           null,
           null,
           null,
           null,
           null,
           null,
           null
          ],
          [
           null,
           null,
           null,
           null,
           null,
           null,
           null,
           null,
           null,
           null,
           null,
           null,
           null,
           null
          ],
          [
           0.8029744227168237,
           -0.6170499528884288,
           -0.9541613383700538,
           -0.8313318436246472,
           0.4183616633974847,
           null,
           null,
           null,
           null,
           null,
           null,
           null,
           null,
           1
          ]
         ]
        }
       ],
       "layout": {
        "coloraxis": {
         "colorbar": {
          "title": {
           "text": "Correlation"
          }
         },
         "colorscale": [
          [
           0,
           "#0d0887"
          ],
          [
           0.1111111111111111,
           "#46039f"
          ],
          [
           0.2222222222222222,
           "#7201a8"
          ],
          [
           0.3333333333333333,
           "#9c179e"
          ],
          [
           0.4444444444444444,
           "#bd3786"
          ],
          [
           0.5555555555555556,
           "#d8576b"
          ],
          [
           0.6666666666666666,
           "#ed7953"
          ],
          [
           0.7777777777777778,
           "#fb9f3a"
          ],
          [
           0.8888888888888888,
           "#fdca26"
          ],
          [
           1,
           "#f0f921"
          ]
         ]
        },
        "margin": {
         "t": 60
        },
        "template": {
         "data": {
          "bar": [
           {
            "error_x": {
             "color": "#2a3f5f"
            },
            "error_y": {
             "color": "#2a3f5f"
            },
            "marker": {
             "line": {
              "color": "#E5ECF6",
              "width": 0.5
             },
             "pattern": {
              "fillmode": "overlay",
              "size": 10,
              "solidity": 0.2
             }
            },
            "type": "bar"
           }
          ],
          "barpolar": [
           {
            "marker": {
             "line": {
              "color": "#E5ECF6",
              "width": 0.5
             },
             "pattern": {
              "fillmode": "overlay",
              "size": 10,
              "solidity": 0.2
             }
            },
            "type": "barpolar"
           }
          ],
          "carpet": [
           {
            "aaxis": {
             "endlinecolor": "#2a3f5f",
             "gridcolor": "white",
             "linecolor": "white",
             "minorgridcolor": "white",
             "startlinecolor": "#2a3f5f"
            },
            "baxis": {
             "endlinecolor": "#2a3f5f",
             "gridcolor": "white",
             "linecolor": "white",
             "minorgridcolor": "white",
             "startlinecolor": "#2a3f5f"
            },
            "type": "carpet"
           }
          ],
          "choropleth": [
           {
            "colorbar": {
             "outlinewidth": 0,
             "ticks": ""
            },
            "type": "choropleth"
           }
          ],
          "contour": [
           {
            "colorbar": {
             "outlinewidth": 0,
             "ticks": ""
            },
            "colorscale": [
             [
              0,
              "#0d0887"
             ],
             [
              0.1111111111111111,
              "#46039f"
             ],
             [
              0.2222222222222222,
              "#7201a8"
             ],
             [
              0.3333333333333333,
              "#9c179e"
             ],
             [
              0.4444444444444444,
              "#bd3786"
             ],
             [
              0.5555555555555556,
              "#d8576b"
             ],
             [
              0.6666666666666666,
              "#ed7953"
             ],
             [
              0.7777777777777778,
              "#fb9f3a"
             ],
             [
              0.8888888888888888,
              "#fdca26"
             ],
             [
              1,
              "#f0f921"
             ]
            ],
            "type": "contour"
           }
          ],
          "contourcarpet": [
           {
            "colorbar": {
             "outlinewidth": 0,
             "ticks": ""
            },
            "type": "contourcarpet"
           }
          ],
          "heatmap": [
           {
            "colorbar": {
             "outlinewidth": 0,
             "ticks": ""
            },
            "colorscale": [
             [
              0,
              "#0d0887"
             ],
             [
              0.1111111111111111,
              "#46039f"
             ],
             [
              0.2222222222222222,
              "#7201a8"
             ],
             [
              0.3333333333333333,
              "#9c179e"
             ],
             [
              0.4444444444444444,
              "#bd3786"
             ],
             [
              0.5555555555555556,
              "#d8576b"
             ],
             [
              0.6666666666666666,
              "#ed7953"
             ],
             [
              0.7777777777777778,
              "#fb9f3a"
             ],
             [
              0.8888888888888888,
              "#fdca26"
             ],
             [
              1,
              "#f0f921"
             ]
            ],
            "type": "heatmap"
           }
          ],
          "heatmapgl": [
           {
            "colorbar": {
             "outlinewidth": 0,
             "ticks": ""
            },
            "colorscale": [
             [
              0,
              "#0d0887"
             ],
             [
              0.1111111111111111,
              "#46039f"
             ],
             [
              0.2222222222222222,
              "#7201a8"
             ],
             [
              0.3333333333333333,
              "#9c179e"
             ],
             [
              0.4444444444444444,
              "#bd3786"
             ],
             [
              0.5555555555555556,
              "#d8576b"
             ],
             [
              0.6666666666666666,
              "#ed7953"
             ],
             [
              0.7777777777777778,
              "#fb9f3a"
             ],
             [
              0.8888888888888888,
              "#fdca26"
             ],
             [
              1,
              "#f0f921"
             ]
            ],
            "type": "heatmapgl"
           }
          ],
          "histogram": [
           {
            "marker": {
             "pattern": {
              "fillmode": "overlay",
              "size": 10,
              "solidity": 0.2
             }
            },
            "type": "histogram"
           }
          ],
          "histogram2d": [
           {
            "colorbar": {
             "outlinewidth": 0,
             "ticks": ""
            },
            "colorscale": [
             [
              0,
              "#0d0887"
             ],
             [
              0.1111111111111111,
              "#46039f"
             ],
             [
              0.2222222222222222,
              "#7201a8"
             ],
             [
              0.3333333333333333,
              "#9c179e"
             ],
             [
              0.4444444444444444,
              "#bd3786"
             ],
             [
              0.5555555555555556,
              "#d8576b"
             ],
             [
              0.6666666666666666,
              "#ed7953"
             ],
             [
              0.7777777777777778,
              "#fb9f3a"
             ],
             [
              0.8888888888888888,
              "#fdca26"
             ],
             [
              1,
              "#f0f921"
             ]
            ],
            "type": "histogram2d"
           }
          ],
          "histogram2dcontour": [
           {
            "colorbar": {
             "outlinewidth": 0,
             "ticks": ""
            },
            "colorscale": [
             [
              0,
              "#0d0887"
             ],
             [
              0.1111111111111111,
              "#46039f"
             ],
             [
              0.2222222222222222,
              "#7201a8"
             ],
             [
              0.3333333333333333,
              "#9c179e"
             ],
             [
              0.4444444444444444,
              "#bd3786"
             ],
             [
              0.5555555555555556,
              "#d8576b"
             ],
             [
              0.6666666666666666,
              "#ed7953"
             ],
             [
              0.7777777777777778,
              "#fb9f3a"
             ],
             [
              0.8888888888888888,
              "#fdca26"
             ],
             [
              1,
              "#f0f921"
             ]
            ],
            "type": "histogram2dcontour"
           }
          ],
          "mesh3d": [
           {
            "colorbar": {
             "outlinewidth": 0,
             "ticks": ""
            },
            "type": "mesh3d"
           }
          ],
          "parcoords": [
           {
            "line": {
             "colorbar": {
              "outlinewidth": 0,
              "ticks": ""
             }
            },
            "type": "parcoords"
           }
          ],
          "pie": [
           {
            "automargin": true,
            "type": "pie"
           }
          ],
          "scatter": [
           {
            "fillpattern": {
             "fillmode": "overlay",
             "size": 10,
             "solidity": 0.2
            },
            "type": "scatter"
           }
          ],
          "scatter3d": [
           {
            "line": {
             "colorbar": {
              "outlinewidth": 0,
              "ticks": ""
             }
            },
            "marker": {
             "colorbar": {
              "outlinewidth": 0,
              "ticks": ""
             }
            },
            "type": "scatter3d"
           }
          ],
          "scattercarpet": [
           {
            "marker": {
             "colorbar": {
              "outlinewidth": 0,
              "ticks": ""
             }
            },
            "type": "scattercarpet"
           }
          ],
          "scattergeo": [
           {
            "marker": {
             "colorbar": {
              "outlinewidth": 0,
              "ticks": ""
             }
            },
            "type": "scattergeo"
           }
          ],
          "scattergl": [
           {
            "marker": {
             "colorbar": {
              "outlinewidth": 0,
              "ticks": ""
             }
            },
            "type": "scattergl"
           }
          ],
          "scattermapbox": [
           {
            "marker": {
             "colorbar": {
              "outlinewidth": 0,
              "ticks": ""
             }
            },
            "type": "scattermapbox"
           }
          ],
          "scatterpolar": [
           {
            "marker": {
             "colorbar": {
              "outlinewidth": 0,
              "ticks": ""
             }
            },
            "type": "scatterpolar"
           }
          ],
          "scatterpolargl": [
           {
            "marker": {
             "colorbar": {
              "outlinewidth": 0,
              "ticks": ""
             }
            },
            "type": "scatterpolargl"
           }
          ],
          "scatterternary": [
           {
            "marker": {
             "colorbar": {
              "outlinewidth": 0,
              "ticks": ""
             }
            },
            "type": "scatterternary"
           }
          ],
          "surface": [
           {
            "colorbar": {
             "outlinewidth": 0,
             "ticks": ""
            },
            "colorscale": [
             [
              0,
              "#0d0887"
             ],
             [
              0.1111111111111111,
              "#46039f"
             ],
             [
              0.2222222222222222,
              "#7201a8"
             ],
             [
              0.3333333333333333,
              "#9c179e"
             ],
             [
              0.4444444444444444,
              "#bd3786"
             ],
             [
              0.5555555555555556,
              "#d8576b"
             ],
             [
              0.6666666666666666,
              "#ed7953"
             ],
             [
              0.7777777777777778,
              "#fb9f3a"
             ],
             [
              0.8888888888888888,
              "#fdca26"
             ],
             [
              1,
              "#f0f921"
             ]
            ],
            "type": "surface"
           }
          ],
          "table": [
           {
            "cells": {
             "fill": {
              "color": "#EBF0F8"
             },
             "line": {
              "color": "white"
             }
            },
            "header": {
             "fill": {
              "color": "#C8D4E3"
             },
             "line": {
              "color": "white"
             }
            },
            "type": "table"
           }
          ]
         },
         "layout": {
          "annotationdefaults": {
           "arrowcolor": "#2a3f5f",
           "arrowhead": 0,
           "arrowwidth": 1
          },
          "autotypenumbers": "strict",
          "coloraxis": {
           "colorbar": {
            "outlinewidth": 0,
            "ticks": ""
           }
          },
          "colorscale": {
           "diverging": [
            [
             0,
             "#8e0152"
            ],
            [
             0.1,
             "#c51b7d"
            ],
            [
             0.2,
             "#de77ae"
            ],
            [
             0.3,
             "#f1b6da"
            ],
            [
             0.4,
             "#fde0ef"
            ],
            [
             0.5,
             "#f7f7f7"
            ],
            [
             0.6,
             "#e6f5d0"
            ],
            [
             0.7,
             "#b8e186"
            ],
            [
             0.8,
             "#7fbc41"
            ],
            [
             0.9,
             "#4d9221"
            ],
            [
             1,
             "#276419"
            ]
           ],
           "sequential": [
            [
             0,
             "#0d0887"
            ],
            [
             0.1111111111111111,
             "#46039f"
            ],
            [
             0.2222222222222222,
             "#7201a8"
            ],
            [
             0.3333333333333333,
             "#9c179e"
            ],
            [
             0.4444444444444444,
             "#bd3786"
            ],
            [
             0.5555555555555556,
             "#d8576b"
            ],
            [
             0.6666666666666666,
             "#ed7953"
            ],
            [
             0.7777777777777778,
             "#fb9f3a"
            ],
            [
             0.8888888888888888,
             "#fdca26"
            ],
            [
             1,
             "#f0f921"
            ]
           ],
           "sequentialminus": [
            [
             0,
             "#0d0887"
            ],
            [
             0.1111111111111111,
             "#46039f"
            ],
            [
             0.2222222222222222,
             "#7201a8"
            ],
            [
             0.3333333333333333,
             "#9c179e"
            ],
            [
             0.4444444444444444,
             "#bd3786"
            ],
            [
             0.5555555555555556,
             "#d8576b"
            ],
            [
             0.6666666666666666,
             "#ed7953"
            ],
            [
             0.7777777777777778,
             "#fb9f3a"
            ],
            [
             0.8888888888888888,
             "#fdca26"
            ],
            [
             1,
             "#f0f921"
            ]
           ]
          },
          "colorway": [
           "#636efa",
           "#EF553B",
           "#00cc96",
           "#ab63fa",
           "#FFA15A",
           "#19d3f3",
           "#FF6692",
           "#B6E880",
           "#FF97FF",
           "#FECB52"
          ],
          "font": {
           "color": "#2a3f5f"
          },
          "geo": {
           "bgcolor": "white",
           "lakecolor": "white",
           "landcolor": "#E5ECF6",
           "showlakes": true,
           "showland": true,
           "subunitcolor": "white"
          },
          "hoverlabel": {
           "align": "left"
          },
          "hovermode": "closest",
          "mapbox": {
           "style": "light"
          },
          "paper_bgcolor": "white",
          "plot_bgcolor": "#E5ECF6",
          "polar": {
           "angularaxis": {
            "gridcolor": "white",
            "linecolor": "white",
            "ticks": ""
           },
           "bgcolor": "#E5ECF6",
           "radialaxis": {
            "gridcolor": "white",
            "linecolor": "white",
            "ticks": ""
           }
          },
          "scene": {
           "xaxis": {
            "backgroundcolor": "#E5ECF6",
            "gridcolor": "white",
            "gridwidth": 2,
            "linecolor": "white",
            "showbackground": true,
            "ticks": "",
            "zerolinecolor": "white"
           },
           "yaxis": {
            "backgroundcolor": "#E5ECF6",
            "gridcolor": "white",
            "gridwidth": 2,
            "linecolor": "white",
            "showbackground": true,
            "ticks": "",
            "zerolinecolor": "white"
           },
           "zaxis": {
            "backgroundcolor": "#E5ECF6",
            "gridcolor": "white",
            "gridwidth": 2,
            "linecolor": "white",
            "showbackground": true,
            "ticks": "",
            "zerolinecolor": "white"
           }
          },
          "shapedefaults": {
           "line": {
            "color": "#2a3f5f"
           }
          },
          "ternary": {
           "aaxis": {
            "gridcolor": "white",
            "linecolor": "white",
            "ticks": ""
           },
           "baxis": {
            "gridcolor": "white",
            "linecolor": "white",
            "ticks": ""
           },
           "bgcolor": "#E5ECF6",
           "caxis": {
            "gridcolor": "white",
            "linecolor": "white",
            "ticks": ""
           }
          },
          "title": {
           "x": 0.05
          },
          "xaxis": {
           "automargin": true,
           "gridcolor": "white",
           "linecolor": "white",
           "ticks": "",
           "title": {
            "standoff": 15
           },
           "zerolinecolor": "white",
           "zerolinewidth": 2
          },
          "yaxis": {
           "automargin": true,
           "gridcolor": "white",
           "linecolor": "white",
           "ticks": "",
           "title": {
            "standoff": 15
           },
           "zerolinecolor": "white",
           "zerolinewidth": 2
          }
         }
        },
        "xaxis": {
         "anchor": "y",
         "constrain": "domain",
         "domain": [
          0,
          1
         ],
         "scaleanchor": "y",
         "side": "top",
         "title": {
          "text": "Parameters"
         }
        },
        "yaxis": {
         "anchor": "x",
         "autorange": "reversed",
         "constrain": "domain",
         "domain": [
          0,
          1
         ],
         "title": {
          "text": "Parameters"
         }
        }
       }
      }
     },
     "metadata": {},
     "output_type": "display_data"
    }
   ],
   "source": [
    "# This is how you use the api to search for the best hyperparameters for\n",
    "# the MutagDataset using the PersformerHyperparameterSearch class.\n",
    "# The search is performed using the hyperparameter\n",
    "# search space described in hpo_space file provided.\n",
    "# Please customize the file to your own dataset.\n",
    "# The results are written to the path_writer directory.\n",
    "\n",
    "dataset_name=\"MutagDataset\"  # name of the dataset - has to exist in the datacloud buckets\n",
    "download_directory = join(\"data\", \"DatasetCloud\")  # directory where the dataset is downloaded\n",
    "path_hpo_metadata = join('hpo_space', 'Mutag_hyperparameter_space.json')  # file describing the hyperparameter search space\n",
    "path_writer = join(\"run\", \"auto_ml\")  # directory where the runs are stored using the tensorboard writer\n",
    "\n",
    "# Initialize the search object with the search parameters.\n",
    "hpo = PersformerHyperparameterSearch(dataset_name=dataset_name,\n",
    "                               download_directory=download_directory,\n",
    "                               path_hpo_metadata=path_hpo_metadata,\n",
    "                               path_writer=path_writer)\n",
    "\n",
    "# Start the hyperparameter search.\n",
    "hpo.search()\n"
   ]
  },
  {
   "cell_type": "code",
   "execution_count": null,
   "metadata": {},
   "outputs": [],
   "source": []
  }
 ],
 "metadata": {
  "kernelspec": {
   "display_name": "Python 3 (ipykernel)",
   "language": "python",
   "name": "python3"
  },
  "language_info": {
   "codemirror_mode": {
    "name": "ipython",
    "version": 3
   },
   "file_extension": ".py",
   "mimetype": "text/x-python",
   "name": "python",
   "nbconvert_exporter": "python",
   "pygments_lexer": "ipython3",
   "version": "3.8.0"
  }
 },
 "nbformat": 4,
 "nbformat_minor": 4
}
