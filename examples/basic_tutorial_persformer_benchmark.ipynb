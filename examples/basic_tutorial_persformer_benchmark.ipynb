{
 "cells": [
  {
   "cell_type": "markdown",
   "metadata": {},
   "source": [
    "# Basic tutorial: Training a topological model\n",
    "### Author: Raphael Reinauer\n",
    "### Date: 2022-04-05\n",
    " This short tutorial shows how to use the GDeep framework to train topological\n",
    " models using the topological datasets provided by the GDeep dataset cloud.\n",
    " The main steps of the tutorial are the following:\n",
    " 1. Specify the dataset you want to use.\n",
    " 2. Specify the model and the hyperparameter space you want to use.\n",
    " 3. Run a large scale hyperparameter search to find the good hyperparameters."
   ]
  },
  {
   "cell_type": "code",
   "execution_count": 1,
   "metadata": {},
   "outputs": [
    {
     "name": "stdout",
     "output_type": "stream",
     "text": [
      "No TPUs...\n"
     ]
    }
   ],
   "source": [
    "# This snippet will deactivate autoreload if this file\n",
    "# is run as a script and activate it if it is run as a notebook.\n",
    "from gdeep.utility.utils import autoreload_if_notebook\n",
    "\n",
    "autoreload_if_notebook()\n",
    "# Include necessary imports\n",
    "from os.path import join\n",
    "\n",
    "# Import the GDeep hpo module\n",
    "from gdeep.search import PersformerHyperparameterSearch\n"
   ]
  },
  {
   "cell_type": "markdown",
   "metadata": {},
   "source": [
    " ## Training a topological model with the Dataset Cloud\n",
    " In this tutorial we will use the our custom datasets storage\n",
    " on [Google Cloud Datastore](https://cloud.google.com/datastore/) to\n",
    " load datasets and train a topological model.\n",
    " The dataset cloud storage contain a variety of topological datasets\n",
    " that can be easily used in GDeep.\n",
    " We will use the Mutag dataset from the\n",
    " [Mutagenicity Benchmark](https://www.ncbi.nlm.nih.gov/pmc/articles/PMC5276825/)\n",
    " to do performance benchmarking for the Persformer model.\n",
    " For this benchmark we will use the GDeep\n",
    " [Persformer](https://doi.org/10.48550/arXiv.2112.15210) model,\n",
    " the GDeep pipeline and the GDeep hyperparameter search.\n",
    " With only a few lines of code we can train multiple topological models\n",
    " with different hyperparameters and evaluate the performance of the model."
   ]
  },
  {
   "cell_type": "code",
   "execution_count": 2,
   "metadata": {},
   "outputs": [
    {
     "name": "stderr",
     "output_type": "stream",
     "text": [
      "\u001b[32m[I 2022-04-09 15:47:49,195]\u001b[0m A new study created in memory with name: 0IXGZBEFSW3WFTPADFY6\u001b[0m\n"
     ]
    },
    {
     "name": "stdout",
     "output_type": "stream",
     "text": [
      "Dataset 'MutagDataset' already downloaded\n",
      "\n",
      "\n",
      "********** Fold  1 **************\n",
      "Epoch 1\n",
      "-------------------------------\n",
      "Epoch training loss: 0.708505 \tEpoch training accuracy: 35.11%                                                          \n",
      "Time taken for this epoch: 0.00s\n",
      "Learning rate value: 0.00000000\n",
      "Validation results: \n",
      " Accuracy: 12.77%,                 Avg loss: 0.713309 \n",
      "\n",
      "Epoch 2\n",
      "-------------------------------\n",
      "Epoch training loss: 0.684511 \tEpoch training accuracy: 47.87%                                                         \n",
      "Time taken for this epoch: 0.00s\n",
      "Learning rate value: 0.00219622\n",
      "Validation results: \n",
      " Accuracy: 67.02%,                 Avg loss: 0.681674 \n",
      "\n",
      "Epoch 3\n",
      "-------------------------------\n",
      "Epoch training loss: 0.632176 \tEpoch training accuracy: 63.83%                                                         \n",
      "Time taken for this epoch: 0.00s\n",
      "Learning rate value: 0.00439243\n",
      "Validation results: \n",
      " Accuracy: 67.02%,                 Avg loss: 0.629779 \n",
      "\n",
      "Epoch 4\n",
      "-------------------------------\n",
      "Epoch training loss: 0.682295 \tEpoch training accuracy: 65.96%                                                         \n",
      "Time taken for this epoch: 0.00s\n",
      "Learning rate value: 0.00658865\n",
      "Validation results: \n",
      " Accuracy: 67.02%,                 Avg loss: 0.617700 \n",
      "\n",
      "Epoch 5\n",
      "-------------------------------\n",
      "Epoch training loss: 0.694634 \tEpoch training accuracy: 65.96%                                                         \n",
      "Time taken for this epoch: 0.00s\n",
      "Learning rate value: 0.00878486\n",
      "Validation results: \n",
      " Accuracy: 67.02%,                 Avg loss: 0.613249 \n",
      "\n",
      "\n",
      "\n",
      "********** Fold  2 **************\n",
      "Epoch 1\n",
      "-------------------------------\n",
      "Epoch training loss: 0.697723 \tEpoch training accuracy: 46.81%                                                          \n",
      "Time taken for this epoch: 0.00s\n",
      "Learning rate value: 0.00000000\n",
      "Validation results: \n",
      " Accuracy: 25.53%,                 Avg loss: 0.701585 \n",
      "\n",
      "Epoch 2\n",
      "-------------------------------\n",
      "Batch training loss:  0.7044665217399597  \tBatch training accuracy:  38.333333333333336  \t[ 2 / 4 ]                     \r"
     ]
    },
    {
     "name": "stderr",
     "output_type": "stream",
     "text": [
      "\u001b[32m[I 2022-04-09 15:47:49,507]\u001b[0m Trial 0 finished with value: 0.6648936170212766 and parameters: {'optimizer': 'AdamW', 'lr': 0.013177295296018863, 'weight_decay': 4.5681682750733654e-05, 'batch_size': 30, 'dropout_dec': 0.30000000000000004, 'dropout_enc': 0.0, 'dim_input': 6, 'n_layer_dec': 1, 'n_layer_enc': 2, 'dim_output': 2, 'activation': 'gelu', 'bias_attention': 'False', 'hidden_dim': '16', 'num_inds': '16', 'layer_norm': 'False', 'layer_norm_pooling': 'False', 'num_heads': '2', 'attention_type': 'self_attention', 'num_cycles': 1, 'num_training_steps': 5, 'num_warmup_steps': 6}. Best is trial 0 with value: 0.6648936170212766.\u001b[0m\n"
     ]
    },
    {
     "name": "stdout",
     "output_type": "stream",
     "text": [
      "Epoch training loss: 0.685360 \tEpoch training accuracy: 47.87%                                                          \n",
      "Time taken for this epoch: 0.00s\n",
      "Learning rate value: 0.00219622\n",
      "Validation results: \n",
      " Accuracy: 65.96%,                 Avg loss: 0.687396 \n",
      "\n",
      "Epoch 3\n",
      "-------------------------------\n",
      "Epoch training loss: 0.640607 \tEpoch training accuracy: 67.02%                                                         \n",
      "Time taken for this epoch: 0.00s\n",
      "Learning rate value: 0.00439243\n",
      "Validation results: \n",
      " Accuracy: 65.96%,                 Avg loss: 0.625888 \n",
      "\n",
      "Epoch 4\n",
      "-------------------------------\n",
      "Epoch training loss: 0.698771 \tEpoch training accuracy: 67.02%                                                         \n",
      "Time taken for this epoch: 0.00s\n",
      "Learning rate value: 0.00658865\n",
      "Validation results: \n",
      " Accuracy: 65.96%,                 Avg loss: 0.633365 \n",
      "\n",
      "Epoch 5\n",
      "-------------------------------\n",
      "Epoch training loss: 0.743156 \tEpoch training accuracy: 67.02%                                                         \n",
      "Time taken for this epoch: 0.00s\n",
      "Learning rate value: 0.00878486\n",
      "Validation results: \n",
      " Accuracy: 65.96%,                 Avg loss: 0.710467 \n",
      "\n",
      "******************** RESULTS ********************\n",
      " \n",
      "Model:  Persformer \n",
      "Model Hyperparameters: {'activation': 'gelu', 'bias_attention': 'False', 'hidden_dim': '16', 'num_inds': '16', 'layer_norm': 'False', 'layer_norm_pooling': 'False', 'num_heads': '2', 'attention_type': 'self_attention', 'dropout_dec': 0.30000000000000004, 'dropout_enc': 0.0, 'dim_input': 6, 'n_layer_dec': 1, 'n_layer_enc': 2, 'dim_output': 2}\n",
      "Optimizer: AdamW (\n",
      "Parameter Group 0\n",
      "    amsgrad: False\n",
      "    betas: (0.9, 0.999)\n",
      "    eps: 1e-08\n",
      "    initial_lr: 0.013177295296018863\n",
      "    lr: 0.010981079413349052\n",
      "    weight_decay: 4.5681682750733654e-05\n",
      ")\n",
      "Optimizer parameters: {'lr': 0.013177295296018863, 'weight_decay': 4.5681682750733654e-05}\n",
      "Dataloader parameters: {'batch_size': 30}\n",
      "LR-scheduler parameters: {'num_cycles': 1, 'num_training_steps': 5, 'num_warmup_steps': 6}\n",
      "Best Validation accuracy: 67.02127659574468\n",
      "\n",
      "\n",
      "********** Fold  1 **************\n",
      "Epoch 1\n",
      "-------------------------------\n",
      "Epoch training loss: 0.740798 \tEpoch training accuracy: 34.04%                                                          \n",
      "Time taken for this epoch: 0.00s\n",
      "Learning rate value: 0.00000000\n",
      "Validation results: \n",
      " Accuracy: 32.98%,                 Avg loss: 0.740132 \n",
      "\n",
      "Epoch 2\n",
      "-------------------------------\n",
      "Epoch training loss: 0.682741 \tEpoch training accuracy: 53.19%                                                          \n",
      "Time taken for this epoch: 0.00s\n",
      "Learning rate value: 0.00732202\n",
      "Validation results: \n",
      " Accuracy: 67.02%,                 Avg loss: 0.634433 \n",
      "\n",
      "Epoch 3\n",
      "-------------------------------\n",
      "Epoch training loss: 0.595312 \tEpoch training accuracy: 65.96%                                                         \n",
      "Time taken for this epoch: 0.00s\n",
      "Learning rate value: 0.01464403\n",
      "Validation results: \n",
      " Accuracy: 67.02%,                 Avg loss: 0.677915 \n",
      "\n",
      "Epoch 4\n",
      "-------------------------------\n",
      "Batch training loss:  0.6202700734138489  \tBatch training accuracy:  67.85714285714286  \t[ 1 / 4 ]                     \r"
     ]
    },
    {
     "name": "stderr",
     "output_type": "stream",
     "text": [
      "\u001b[32m[I 2022-04-09 15:47:49,794]\u001b[0m Trial 1 finished with value: 0.6648936170212766 and parameters: {'optimizer': 'AdamW', 'lr': 0.04393209252571044, 'weight_decay': 0.000359744125351368, 'batch_size': 28, 'dropout_dec': 0.1, 'dropout_enc': 0.0, 'dim_input': 6, 'n_layer_dec': 1, 'n_layer_enc': 2, 'dim_output': 2, 'activation': 'gelu', 'bias_attention': 'False', 'hidden_dim': '16', 'num_inds': '16', 'layer_norm': 'False', 'layer_norm_pooling': 'False', 'num_heads': '2', 'attention_type': 'self_attention', 'num_cycles': 1, 'num_training_steps': 5, 'num_warmup_steps': 6}. Best is trial 0 with value: 0.6648936170212766.\u001b[0m\n"
     ]
    },
    {
     "name": "stdout",
     "output_type": "stream",
     "text": [
      "Epoch training loss: 0.610481 \tEpoch training accuracy: 65.96%                                                         \n",
      "Time taken for this epoch: 0.00s\n",
      "Learning rate value: 0.02196605\n",
      "Validation results: \n",
      " Accuracy: 67.02%,                 Avg loss: 0.630797 \n",
      "\n",
      "Epoch 5\n",
      "-------------------------------\n",
      "Epoch training loss: 0.524147 \tEpoch training accuracy: 70.21%                                                         \n",
      "Time taken for this epoch: 0.00s\n",
      "Learning rate value: 0.02928806\n",
      "Validation results: \n",
      " Accuracy: 67.02%,                 Avg loss: 0.650382 \n",
      "\n",
      "\n",
      "\n",
      "********** Fold  2 **************\n",
      "Epoch 1\n",
      "-------------------------------\n",
      "Epoch training loss: 0.738910 \tEpoch training accuracy: 35.11%                                                          \n",
      "Time taken for this epoch: 0.00s\n",
      "Learning rate value: 0.00000000\n",
      "Validation results: \n",
      " Accuracy: 34.04%,                 Avg loss: 0.734908 \n",
      "\n",
      "Epoch 2\n",
      "-------------------------------\n",
      "Epoch training loss: 0.658850 \tEpoch training accuracy: 54.26%                                                          \n",
      "Time taken for this epoch: 0.00s\n",
      "Learning rate value: 0.00732202\n",
      "Validation results: \n",
      " Accuracy: 65.96%,                 Avg loss: 0.641024 \n",
      "\n",
      "Epoch 3\n",
      "-------------------------------\n",
      "Epoch training loss: 0.720757 \tEpoch training accuracy: 67.02%                                                         \n",
      "Time taken for this epoch: 0.00s\n",
      "Learning rate value: 0.01464403\n",
      "Validation results: \n",
      " Accuracy: 65.96%,                 Avg loss: 0.706736 \n",
      "\n",
      "Epoch 4\n",
      "-------------------------------\n",
      "Epoch training loss: 0.674432 \tEpoch training accuracy: 67.02%                                                          \n",
      "Time taken for this epoch: 0.00s\n",
      "Learning rate value: 0.02196605\n",
      "Validation results: \n",
      " Accuracy: 65.96%,                 Avg loss: 0.615690 \n",
      "\n",
      "Epoch 5\n",
      "-------------------------------\n",
      "Epoch training loss: 0.624030 \tEpoch training accuracy: 67.02%                                                         \n",
      "Time taken for this epoch: 0.00s\n",
      "Learning rate value: 0.02928806\n",
      "Validation results: \n",
      " Accuracy: 65.96%,                 Avg loss: 0.594004 \n",
      "\n",
      "******************** RESULTS ********************\n",
      " \n",
      "Model:  Persformer \n",
      "Model Hyperparameters: {'activation': 'gelu', 'bias_attention': 'False', 'hidden_dim': '16', 'num_inds': '16', 'layer_norm': 'False', 'layer_norm_pooling': 'False', 'num_heads': '2', 'attention_type': 'self_attention', 'dropout_dec': 0.1, 'dropout_enc': 0.0, 'dim_input': 6, 'n_layer_dec': 1, 'n_layer_enc': 2, 'dim_output': 2}\n",
      "Optimizer: AdamW (\n",
      "Parameter Group 0\n",
      "    amsgrad: False\n",
      "    betas: (0.9, 0.999)\n",
      "    eps: 1e-08\n",
      "    initial_lr: 0.04393209252571044\n",
      "    lr: 0.0366100771047587\n",
      "    weight_decay: 0.000359744125351368\n",
      ")\n",
      "Optimizer parameters: {'lr': 0.04393209252571044, 'weight_decay': 0.000359744125351368}\n",
      "Dataloader parameters: {'batch_size': 28}\n",
      "LR-scheduler parameters: {'num_cycles': 1, 'num_training_steps': 5, 'num_warmup_steps': 6}\n",
      "Best Validation accuracy: 67.02127659574468\n",
      "\n",
      "\n",
      "********** Fold  1 **************\n",
      "Epoch 1\n",
      "-------------------------------\n",
      "Epoch training loss: 0.722262 \tEpoch training accuracy: 34.04%                                                          \n",
      "Time taken for this epoch: 0.00s\n",
      "Learning rate value: 0.00000000\n",
      "Validation results: \n",
      " Accuracy: 32.98%,                 Avg loss: 0.729965 \n",
      "\n",
      "Epoch 2\n",
      "-------------------------------\n",
      "Epoch training loss: 0.721775 \tEpoch training accuracy: 34.04%                                                        \n",
      "Time taken for this epoch: 0.00s\n",
      "Learning rate value: 0.00032424\n",
      "Validation results: \n",
      " Accuracy: 32.98%,                 Avg loss: 0.716871 \n",
      "\n",
      "Epoch 3\n",
      "-------------------------------\n",
      "Epoch training loss: 0.713091 \tEpoch training accuracy: 34.04%                                                         \n",
      "Time taken for this epoch: 0.00s\n",
      "Learning rate value: 0.00064848\n",
      "Validation results: \n",
      " Accuracy: 32.98%,                 Avg loss: 0.702216 \n",
      "\n",
      "Epoch 4\n",
      "-------------------------------\n",
      "Epoch training loss: 0.692101 \tEpoch training accuracy: 53.19%                                                          \n",
      "Time taken for this epoch: 0.00s\n",
      "Learning rate value: 0.00097272\n",
      "Validation results: \n",
      " Accuracy: 67.02%,                 Avg loss: 0.681186 \n",
      "\n",
      "Epoch 5\n",
      "-------------------------------\n",
      "Epoch training loss: 0.668390 \tEpoch training accuracy: 65.96%                                                         \n",
      "Time taken for this epoch: 0.00s\n",
      "Learning rate value: 0.00129696\n",
      "Validation results: \n",
      " Accuracy: 67.02%,                 Avg loss: 0.654352 \n",
      "\n",
      "\n",
      "\n",
      "********** Fold  2 **************\n",
      "Epoch 1\n",
      "-------------------------------\n",
      "Epoch training loss: 0.729755 \tEpoch training accuracy: 32.98%                                                          \n",
      "Time taken for this epoch: 0.00s\n",
      "Learning rate value: 0.00000000\n",
      "Validation results: \n",
      " Accuracy: 34.04%,                 Avg loss: 0.724816 \n",
      "\n",
      "Epoch 2\n",
      "-------------------------------\n"
     ]
    },
    {
     "name": "stderr",
     "output_type": "stream",
     "text": [
      "\u001b[32m[I 2022-04-09 15:47:50,132]\u001b[0m Trial 2 finished with value: 0.6648936170212766 and parameters: {'optimizer': 'AdamW', 'lr': 0.0019454399041960568, 'weight_decay': 0.000549901254144583, 'batch_size': 20, 'dropout_dec': 0.05, 'dropout_enc': 0.25, 'dim_input': 6, 'n_layer_dec': 1, 'n_layer_enc': 2, 'dim_output': 2, 'activation': 'gelu', 'bias_attention': 'False', 'hidden_dim': '16', 'num_inds': '16', 'layer_norm': 'False', 'layer_norm_pooling': 'False', 'num_heads': '2', 'attention_type': 'self_attention', 'num_cycles': 1, 'num_training_steps': 5, 'num_warmup_steps': 6}. Best is trial 0 with value: 0.6648936170212766.\u001b[0m\n"
     ]
    },
    {
     "name": "stdout",
     "output_type": "stream",
     "text": [
      "Epoch training loss: 0.723574 \tEpoch training accuracy: 32.98%                                            \n",
      "Time taken for this epoch: 0.00s\n",
      "Learning rate value: 0.00032424\n",
      "Validation results: \n",
      " Accuracy: 34.04%,                 Avg loss: 0.715425 \n",
      "\n",
      "Epoch 3\n",
      "-------------------------------\n",
      "Epoch training loss: 0.712319 \tEpoch training accuracy: 32.98%                                                         \n",
      "Time taken for this epoch: 0.00s\n",
      "Learning rate value: 0.00064848\n",
      "Validation results: \n",
      " Accuracy: 34.04%,                 Avg loss: 0.701606 \n",
      "\n",
      "Epoch 4\n",
      "-------------------------------\n",
      "Epoch training loss: 0.695034 \tEpoch training accuracy: 45.74%                                                          \n",
      "Time taken for this epoch: 0.00s\n",
      "Learning rate value: 0.00097272\n",
      "Validation results: \n",
      " Accuracy: 65.96%,                 Avg loss: 0.679992 \n",
      "\n",
      "Epoch 5\n",
      "-------------------------------\n",
      "Epoch training loss: 0.670750 \tEpoch training accuracy: 67.02%                                                         \n",
      "Time taken for this epoch: 0.00s\n",
      "Learning rate value: 0.00129696\n",
      "Validation results: \n",
      " Accuracy: 65.96%,                 Avg loss: 0.659085 \n",
      "\n",
      "******************** RESULTS ********************\n",
      " \n",
      "Model:  Persformer \n",
      "Model Hyperparameters: {'activation': 'gelu', 'bias_attention': 'False', 'hidden_dim': '16', 'num_inds': '16', 'layer_norm': 'False', 'layer_norm_pooling': 'False', 'num_heads': '2', 'attention_type': 'self_attention', 'dropout_dec': 0.05, 'dropout_enc': 0.25, 'dim_input': 6, 'n_layer_dec': 1, 'n_layer_enc': 2, 'dim_output': 2}\n",
      "Optimizer: AdamW (\n",
      "Parameter Group 0\n",
      "    amsgrad: False\n",
      "    betas: (0.9, 0.999)\n",
      "    eps: 1e-08\n",
      "    initial_lr: 0.0019454399041960568\n",
      "    lr: 0.0016211999201633806\n",
      "    weight_decay: 0.000549901254144583\n",
      ")\n",
      "Optimizer parameters: {'lr': 0.0019454399041960568, 'weight_decay': 0.000549901254144583}\n",
      "Dataloader parameters: {'batch_size': 20}\n",
      "LR-scheduler parameters: {'num_cycles': 1, 'num_training_steps': 5, 'num_warmup_steps': 6}\n",
      "Best Validation accuracy: 67.02127659574468\n",
      "\n",
      "\n",
      "********** Fold  1 **************\n",
      "Epoch 1\n",
      "-------------------------------\n",
      "Epoch training loss: 0.725158 \tEpoch training accuracy: 35.11%                                                          \n",
      "Time taken for this epoch: 0.00s\n",
      "Learning rate value: 0.00000000\n",
      "Validation results: \n",
      " Accuracy: 32.98%,                 Avg loss: 0.725138 \n",
      "\n",
      "Epoch 2\n",
      "-------------------------------\n",
      "Epoch training loss: 0.728985 \tEpoch training accuracy: 30.85%                                                          \n",
      "Time taken for this epoch: 0.00s\n",
      "Learning rate value: 0.00009066\n",
      "Validation results: \n",
      " Accuracy: 32.98%,                 Avg loss: 0.722175 \n",
      "\n",
      "Epoch 3\n",
      "-------------------------------\n",
      "Epoch training loss: 0.717633 \tEpoch training accuracy: 39.36%                                                         \n",
      "Time taken for this epoch: 0.00s\n",
      "Learning rate value: 0.00018132\n",
      "Validation results: \n",
      " Accuracy: 32.98%,                 Avg loss: 0.716644 \n",
      "\n",
      "Epoch 4\n",
      "-------------------------------\n",
      "Epoch training loss: 0.710443 \tEpoch training accuracy: 38.30%                                                          \n",
      "Time taken for this epoch: 0.00s\n",
      "Learning rate value: 0.00027197\n",
      "Validation results: \n",
      " Accuracy: 32.98%,                 Avg loss: 0.707997 \n",
      "\n",
      "Epoch 5\n",
      "-------------------------------\n",
      "Epoch training loss: 0.703965 \tEpoch training accuracy: 48.94%                                                          \n",
      "Time taken for this epoch: 0.00s\n",
      "Learning rate value: 0.00036263\n",
      "Validation results: \n",
      " Accuracy: 20.21%,                 Avg loss: 0.698328 \n",
      "\n",
      "\n",
      "\n",
      "********** Fold  2 **************\n",
      "Epoch 1\n",
      "-------------------------------\n",
      "Epoch training loss: 0.728959 \tEpoch training accuracy: 31.91%                                                          \n",
      "Time taken for this epoch: 0.00s\n",
      "Learning rate value: 0.00000000\n",
      "Validation results: \n",
      " Accuracy: 34.04%,                 Avg loss: 0.724684 \n",
      "\n",
      "Epoch 2\n",
      "-------------------------------\n",
      "Epoch training loss: 0.728701 \tEpoch training accuracy: 28.72%                                                         \n",
      "Time taken for this epoch: 0.00s\n",
      "Learning rate value: 0.00009066\n",
      "Validation results: \n",
      " Accuracy: 34.04%,                 Avg loss: 0.721193 \n",
      "\n",
      "Epoch 3\n",
      "-------------------------------\n",
      "Epoch training loss: 0.719437 \tEpoch training accuracy: 36.17%                                                          \n",
      "Time taken for this epoch: 0.00s\n",
      "Learning rate value: 0.00018132\n",
      "Validation results: \n",
      " Accuracy: 34.04%,                 Avg loss: 0.715553 \n",
      "\n",
      "Epoch 4\n",
      "-------------------------------\n",
      "Epoch training loss: 0.716279 \tEpoch training accuracy: 35.11%                                                          \n",
      "Time taken for this epoch: 0.00s\n",
      "Learning rate value: 0.00027197\n",
      "Validation results: \n",
      " Accuracy: 34.04%,                 Avg loss: 0.707660 \n",
      "\n",
      "Epoch 5\n",
      "-------------------------------\n",
      "Epoch training loss: 0.707305 \tEpoch training accuracy: 40.43%                                                         \n",
      "Time taken for this epoch: 0.00s\n",
      "Learning rate value: 0.00036263\n",
      "Validation results: \n",
      " Accuracy: 21.28%,                 Avg loss: 0.698051 \n",
      "\n",
      "******************** RESULTS ********************\n",
      " \n",
      "Model:  Persformer \n",
      "Model Hyperparameters: {'activation': 'gelu', 'bias_attention': 'False', 'hidden_dim': '16', 'num_inds': '16', 'layer_norm': 'False', 'layer_norm_pooling': 'False', 'num_heads': '2', 'attention_type': 'self_attention', 'dropout_dec': 0.2, 'dropout_enc': 0.5, 'dim_input': 6, 'n_layer_dec': 1, 'n_layer_enc': 2, 'dim_output': 2}\n",
      "Optimizer: AdamW (\n",
      "Parameter Group 0\n",
      "    amsgrad: False\n",
      "    betas: (0.9, 0.999)\n",
      "    eps: 1e-08\n",
      "    initial_lr: 0.0005439482205305226\n",
      "    lr: 0.00045329018377543553\n",
      "    weight_decay: 8.985772124674708e-06\n",
      ")\n",
      "Optimizer parameters: {'lr': 0.0005439482205305226, 'weight_decay': 8.985772124674708e-06}\n",
      "Dataloader parameters: {'batch_size': 24}\n",
      "LR-scheduler parameters: {'num_cycles': 1, 'num_training_steps': 5, 'num_warmup_steps': 6}\n",
      "Best Validation accuracy: 34.04255319148936\n"
     ]
    },
    {
     "name": "stderr",
     "output_type": "stream",
     "text": [
      "\u001b[32m[I 2022-04-09 15:47:50,429]\u001b[0m Trial 3 finished with value: 0.3351063829787234 and parameters: {'optimizer': 'AdamW', 'lr': 0.0005439482205305226, 'weight_decay': 8.985772124674708e-06, 'batch_size': 24, 'dropout_dec': 0.2, 'dropout_enc': 0.5, 'dim_input': 6, 'n_layer_dec': 1, 'n_layer_enc': 2, 'dim_output': 2, 'activation': 'gelu', 'bias_attention': 'False', 'hidden_dim': '16', 'num_inds': '16', 'layer_norm': 'False', 'layer_norm_pooling': 'False', 'num_heads': '2', 'attention_type': 'self_attention', 'num_cycles': 1, 'num_training_steps': 5, 'num_warmup_steps': 6}. Best is trial 0 with value: 0.6648936170212766.\u001b[0m\n",
      "c:\\Users\\Raphael\\Documents\\GitHub\\giotto-deep-new\\venv\\lib\\site-packages\\numpy\\lib\\function_base.py:2674: RuntimeWarning:\n",
      "\n",
      "invalid value encountered in subtract\n",
      "\n",
      "c:\\Users\\Raphael\\Documents\\GitHub\\giotto-deep-new\\venv\\lib\\site-packages\\numpy\\lib\\function_base.py:2829: RuntimeWarning:\n",
      "\n",
      "invalid value encountered in true_divide\n",
      "\n",
      "c:\\Users\\Raphael\\Documents\\GitHub\\giotto-deep-new\\venv\\lib\\site-packages\\numpy\\lib\\function_base.py:2830: RuntimeWarning:\n",
      "\n",
      "invalid value encountered in true_divide\n",
      "\n"
     ]
    },
    {
     "name": "stdout",
     "output_type": "stream",
     "text": [
      "Study statistics: \n",
      "Number of pruned trials:  0\n",
      "Number of complete trials:  4\n",
      "******************** BEST TRIAL: ********************\n",
      "Metric Value for best trial:  0.6648936170212766\n",
      "Parameters Values for best trial:  {'optimizer': 'AdamW', 'lr': 0.013177295296018863, 'weight_decay': 4.5681682750733654e-05, 'batch_size': 30, 'dropout_dec': 0.30000000000000004, 'dropout_enc': 0.0, 'dim_input': 6, 'n_layer_dec': 1, 'n_layer_enc': 2, 'dim_output': 2, 'activation': 'gelu', 'bias_attention': 'False', 'hidden_dim': '16', 'num_inds': '16', 'layer_norm': 'False', 'layer_norm_pooling': 'False', 'num_heads': '2', 'attention_type': 'self_attention', 'num_cycles': 1, 'num_training_steps': 5, 'num_warmup_steps': 6}\n",
      "DateTime start of the best trial:  2022-04-09 15:47:49.196387\n"
     ]
    },
    {
     "data": {
      "application/vnd.plotly.v1+json": {
       "config": {
        "plotlyServerURL": "https://plot.ly"
       },
       "data": [
        {
         "coloraxis": "coloraxis",
         "hovertemplate": "Parameters: %{x}<br>Parameters: %{y}<br>Correlation: %{z}<extra></extra>",
         "name": "0",
         "type": "heatmap",
         "x": [
          "lr",
          "weight_decay",
          "batch_size",
          "dropout_dec",
          "dropout_enc",
          "dim_input",
          "n_layer_dec",
          "n_layer_enc",
          "dim_output",
          "num_cycles",
          "num_training_steps",
          "num_warmup_steps",
          "loss",
          "accuracy"
         ],
         "xaxis": "x",
         "y": [
          "lr",
          "weight_decay",
          "batch_size",
          "dropout_dec",
          "dropout_enc",
          "dim_input",
          "n_layer_dec",
          "n_layer_enc",
          "dim_output",
          "num_cycles",
          "num_training_steps",
          "num_warmup_steps",
          "loss",
          "accuracy"
         ],
         "yaxis": "y",
         "z": [
          [
           0.9999999999999998,
           0.19856651548096857,
           0.587528588923154,
           -0.1688404809360528,
           -0.719412433390228,
           null,
           null,
           null,
           null,
           null,
           null,
           null,
           null,
           0.47463554076434894
          ],
          [
           0.19856651548096854,
           1,
           -0.5606219189257223,
           -0.9017444649683943,
           -0.2087086630108736,
           null,
           null,
           null,
           null,
           null,
           null,
           null,
           null,
           0.5970254685167906
          ],
          [
           0.587528588923154,
           -0.5606219189257223,
           0.9999999999999998,
           0.6949152542372882,
           -0.6673083711820306,
           null,
           null,
           null,
           null,
           null,
           null,
           null,
           null,
           0.22549380840084865
          ],
          [
           -0.16884048093605278,
           -0.9017444649683943,
           0.6949152542372882,
           1,
           -0.11776030079682898,
           null,
           null,
           null,
           null,
           null,
           null,
           null,
           null,
           -0.22549380840084862
          ],
          [
           -0.719412433390228,
           -0.2087086630108736,
           -0.6673083711820306,
           -0.11776030079682898,
           1,
           null,
           null,
           null,
           null,
           null,
           null,
           null,
           null,
           -0.8703882797784891
          ],
          [
           null,
           null,
           null,
           null,
           null,
           null,
           null,
           null,
           null,
           null,
           null,
           null,
           null,
           null
          ],
          [
           null,
           null,
           null,
           null,
           null,
           null,
           null,
           null,
           null,
           null,
           null,
           null,
           null,
           null
          ],
          [
           null,
           null,
           null,
           null,
           null,
           null,
           null,
           null,
           null,
           null,
           null,
           null,
           null,
           null
          ],
          [
           null,
           null,
           null,
           null,
           null,
           null,
           null,
           null,
           null,
           null,
           null,
           null,
           null,
           null
          ],
          [
           null,
           null,
           null,
           null,
           null,
           null,
           null,
           null,
           null,
           null,
           null,
           null,
           null,
           null
          ],
          [
           null,
           null,
           null,
           null,
           null,
           null,
           null,
           null,
           null,
           null,
           null,
           null,
           null,
           null
          ],
          [
           null,
           null,
           null,
           null,
           null,
           null,
           null,
           null,
           null,
           null,
           null,
           null,
           null,
           null
          ],
          [
           null,
           null,
           null,
           null,
           null,
           null,
           null,
           null,
           null,
           null,
           null,
           null,
           null,
           null
          ],
          [
           0.474635540764349,
           0.5970254685167906,
           0.22549380840084865,
           -0.22549380840084862,
           -0.8703882797784892,
           null,
           null,
           null,
           null,
           null,
           null,
           null,
           null,
           0.9999999999999998
          ]
         ]
        }
       ],
       "layout": {
        "coloraxis": {
         "colorbar": {
          "title": {
           "text": "Correlation"
          }
         },
         "colorscale": [
          [
           0,
           "#0d0887"
          ],
          [
           0.1111111111111111,
           "#46039f"
          ],
          [
           0.2222222222222222,
           "#7201a8"
          ],
          [
           0.3333333333333333,
           "#9c179e"
          ],
          [
           0.4444444444444444,
           "#bd3786"
          ],
          [
           0.5555555555555556,
           "#d8576b"
          ],
          [
           0.6666666666666666,
           "#ed7953"
          ],
          [
           0.7777777777777778,
           "#fb9f3a"
          ],
          [
           0.8888888888888888,
           "#fdca26"
          ],
          [
           1,
           "#f0f921"
          ]
         ]
        },
        "margin": {
         "t": 60
        },
        "template": {
         "data": {
          "bar": [
           {
            "error_x": {
             "color": "#2a3f5f"
            },
            "error_y": {
             "color": "#2a3f5f"
            },
            "marker": {
             "line": {
              "color": "#E5ECF6",
              "width": 0.5
             },
             "pattern": {
              "fillmode": "overlay",
              "size": 10,
              "solidity": 0.2
             }
            },
            "type": "bar"
           }
          ],
          "barpolar": [
           {
            "marker": {
             "line": {
              "color": "#E5ECF6",
              "width": 0.5
             },
             "pattern": {
              "fillmode": "overlay",
              "size": 10,
              "solidity": 0.2
             }
            },
            "type": "barpolar"
           }
          ],
          "carpet": [
           {
            "aaxis": {
             "endlinecolor": "#2a3f5f",
             "gridcolor": "white",
             "linecolor": "white",
             "minorgridcolor": "white",
             "startlinecolor": "#2a3f5f"
            },
            "baxis": {
             "endlinecolor": "#2a3f5f",
             "gridcolor": "white",
             "linecolor": "white",
             "minorgridcolor": "white",
             "startlinecolor": "#2a3f5f"
            },
            "type": "carpet"
           }
          ],
          "choropleth": [
           {
            "colorbar": {
             "outlinewidth": 0,
             "ticks": ""
            },
            "type": "choropleth"
           }
          ],
          "contour": [
           {
            "colorbar": {
             "outlinewidth": 0,
             "ticks": ""
            },
            "colorscale": [
             [
              0,
              "#0d0887"
             ],
             [
              0.1111111111111111,
              "#46039f"
             ],
             [
              0.2222222222222222,
              "#7201a8"
             ],
             [
              0.3333333333333333,
              "#9c179e"
             ],
             [
              0.4444444444444444,
              "#bd3786"
             ],
             [
              0.5555555555555556,
              "#d8576b"
             ],
             [
              0.6666666666666666,
              "#ed7953"
             ],
             [
              0.7777777777777778,
              "#fb9f3a"
             ],
             [
              0.8888888888888888,
              "#fdca26"
             ],
             [
              1,
              "#f0f921"
             ]
            ],
            "type": "contour"
           }
          ],
          "contourcarpet": [
           {
            "colorbar": {
             "outlinewidth": 0,
             "ticks": ""
            },
            "type": "contourcarpet"
           }
          ],
          "heatmap": [
           {
            "colorbar": {
             "outlinewidth": 0,
             "ticks": ""
            },
            "colorscale": [
             [
              0,
              "#0d0887"
             ],
             [
              0.1111111111111111,
              "#46039f"
             ],
             [
              0.2222222222222222,
              "#7201a8"
             ],
             [
              0.3333333333333333,
              "#9c179e"
             ],
             [
              0.4444444444444444,
              "#bd3786"
             ],
             [
              0.5555555555555556,
              "#d8576b"
             ],
             [
              0.6666666666666666,
              "#ed7953"
             ],
             [
              0.7777777777777778,
              "#fb9f3a"
             ],
             [
              0.8888888888888888,
              "#fdca26"
             ],
             [
              1,
              "#f0f921"
             ]
            ],
            "type": "heatmap"
           }
          ],
          "heatmapgl": [
           {
            "colorbar": {
             "outlinewidth": 0,
             "ticks": ""
            },
            "colorscale": [
             [
              0,
              "#0d0887"
             ],
             [
              0.1111111111111111,
              "#46039f"
             ],
             [
              0.2222222222222222,
              "#7201a8"
             ],
             [
              0.3333333333333333,
              "#9c179e"
             ],
             [
              0.4444444444444444,
              "#bd3786"
             ],
             [
              0.5555555555555556,
              "#d8576b"
             ],
             [
              0.6666666666666666,
              "#ed7953"
             ],
             [
              0.7777777777777778,
              "#fb9f3a"
             ],
             [
              0.8888888888888888,
              "#fdca26"
             ],
             [
              1,
              "#f0f921"
             ]
            ],
            "type": "heatmapgl"
           }
          ],
          "histogram": [
           {
            "marker": {
             "pattern": {
              "fillmode": "overlay",
              "size": 10,
              "solidity": 0.2
             }
            },
            "type": "histogram"
           }
          ],
          "histogram2d": [
           {
            "colorbar": {
             "outlinewidth": 0,
             "ticks": ""
            },
            "colorscale": [
             [
              0,
              "#0d0887"
             ],
             [
              0.1111111111111111,
              "#46039f"
             ],
             [
              0.2222222222222222,
              "#7201a8"
             ],
             [
              0.3333333333333333,
              "#9c179e"
             ],
             [
              0.4444444444444444,
              "#bd3786"
             ],
             [
              0.5555555555555556,
              "#d8576b"
             ],
             [
              0.6666666666666666,
              "#ed7953"
             ],
             [
              0.7777777777777778,
              "#fb9f3a"
             ],
             [
              0.8888888888888888,
              "#fdca26"
             ],
             [
              1,
              "#f0f921"
             ]
            ],
            "type": "histogram2d"
           }
          ],
          "histogram2dcontour": [
           {
            "colorbar": {
             "outlinewidth": 0,
             "ticks": ""
            },
            "colorscale": [
             [
              0,
              "#0d0887"
             ],
             [
              0.1111111111111111,
              "#46039f"
             ],
             [
              0.2222222222222222,
              "#7201a8"
             ],
             [
              0.3333333333333333,
              "#9c179e"
             ],
             [
              0.4444444444444444,
              "#bd3786"
             ],
             [
              0.5555555555555556,
              "#d8576b"
             ],
             [
              0.6666666666666666,
              "#ed7953"
             ],
             [
              0.7777777777777778,
              "#fb9f3a"
             ],
             [
              0.8888888888888888,
              "#fdca26"
             ],
             [
              1,
              "#f0f921"
             ]
            ],
            "type": "histogram2dcontour"
           }
          ],
          "mesh3d": [
           {
            "colorbar": {
             "outlinewidth": 0,
             "ticks": ""
            },
            "type": "mesh3d"
           }
          ],
          "parcoords": [
           {
            "line": {
             "colorbar": {
              "outlinewidth": 0,
              "ticks": ""
             }
            },
            "type": "parcoords"
           }
          ],
          "pie": [
           {
            "automargin": true,
            "type": "pie"
           }
          ],
          "scatter": [
           {
            "fillpattern": {
             "fillmode": "overlay",
             "size": 10,
             "solidity": 0.2
            },
            "type": "scatter"
           }
          ],
          "scatter3d": [
           {
            "line": {
             "colorbar": {
              "outlinewidth": 0,
              "ticks": ""
             }
            },
            "marker": {
             "colorbar": {
              "outlinewidth": 0,
              "ticks": ""
             }
            },
            "type": "scatter3d"
           }
          ],
          "scattercarpet": [
           {
            "marker": {
             "colorbar": {
              "outlinewidth": 0,
              "ticks": ""
             }
            },
            "type": "scattercarpet"
           }
          ],
          "scattergeo": [
           {
            "marker": {
             "colorbar": {
              "outlinewidth": 0,
              "ticks": ""
             }
            },
            "type": "scattergeo"
           }
          ],
          "scattergl": [
           {
            "marker": {
             "colorbar": {
              "outlinewidth": 0,
              "ticks": ""
             }
            },
            "type": "scattergl"
           }
          ],
          "scattermapbox": [
           {
            "marker": {
             "colorbar": {
              "outlinewidth": 0,
              "ticks": ""
             }
            },
            "type": "scattermapbox"
           }
          ],
          "scatterpolar": [
           {
            "marker": {
             "colorbar": {
              "outlinewidth": 0,
              "ticks": ""
             }
            },
            "type": "scatterpolar"
           }
          ],
          "scatterpolargl": [
           {
            "marker": {
             "colorbar": {
              "outlinewidth": 0,
              "ticks": ""
             }
            },
            "type": "scatterpolargl"
           }
          ],
          "scatterternary": [
           {
            "marker": {
             "colorbar": {
              "outlinewidth": 0,
              "ticks": ""
             }
            },
            "type": "scatterternary"
           }
          ],
          "surface": [
           {
            "colorbar": {
             "outlinewidth": 0,
             "ticks": ""
            },
            "colorscale": [
             [
              0,
              "#0d0887"
             ],
             [
              0.1111111111111111,
              "#46039f"
             ],
             [
              0.2222222222222222,
              "#7201a8"
             ],
             [
              0.3333333333333333,
              "#9c179e"
             ],
             [
              0.4444444444444444,
              "#bd3786"
             ],
             [
              0.5555555555555556,
              "#d8576b"
             ],
             [
              0.6666666666666666,
              "#ed7953"
             ],
             [
              0.7777777777777778,
              "#fb9f3a"
             ],
             [
              0.8888888888888888,
              "#fdca26"
             ],
             [
              1,
              "#f0f921"
             ]
            ],
            "type": "surface"
           }
          ],
          "table": [
           {
            "cells": {
             "fill": {
              "color": "#EBF0F8"
             },
             "line": {
              "color": "white"
             }
            },
            "header": {
             "fill": {
              "color": "#C8D4E3"
             },
             "line": {
              "color": "white"
             }
            },
            "type": "table"
           }
          ]
         },
         "layout": {
          "annotationdefaults": {
           "arrowcolor": "#2a3f5f",
           "arrowhead": 0,
           "arrowwidth": 1
          },
          "autotypenumbers": "strict",
          "coloraxis": {
           "colorbar": {
            "outlinewidth": 0,
            "ticks": ""
           }
          },
          "colorscale": {
           "diverging": [
            [
             0,
             "#8e0152"
            ],
            [
             0.1,
             "#c51b7d"
            ],
            [
             0.2,
             "#de77ae"
            ],
            [
             0.3,
             "#f1b6da"
            ],
            [
             0.4,
             "#fde0ef"
            ],
            [
             0.5,
             "#f7f7f7"
            ],
            [
             0.6,
             "#e6f5d0"
            ],
            [
             0.7,
             "#b8e186"
            ],
            [
             0.8,
             "#7fbc41"
            ],
            [
             0.9,
             "#4d9221"
            ],
            [
             1,
             "#276419"
            ]
           ],
           "sequential": [
            [
             0,
             "#0d0887"
            ],
            [
             0.1111111111111111,
             "#46039f"
            ],
            [
             0.2222222222222222,
             "#7201a8"
            ],
            [
             0.3333333333333333,
             "#9c179e"
            ],
            [
             0.4444444444444444,
             "#bd3786"
            ],
            [
             0.5555555555555556,
             "#d8576b"
            ],
            [
             0.6666666666666666,
             "#ed7953"
            ],
            [
             0.7777777777777778,
             "#fb9f3a"
            ],
            [
             0.8888888888888888,
             "#fdca26"
            ],
            [
             1,
             "#f0f921"
            ]
           ],
           "sequentialminus": [
            [
             0,
             "#0d0887"
            ],
            [
             0.1111111111111111,
             "#46039f"
            ],
            [
             0.2222222222222222,
             "#7201a8"
            ],
            [
             0.3333333333333333,
             "#9c179e"
            ],
            [
             0.4444444444444444,
             "#bd3786"
            ],
            [
             0.5555555555555556,
             "#d8576b"
            ],
            [
             0.6666666666666666,
             "#ed7953"
            ],
            [
             0.7777777777777778,
             "#fb9f3a"
            ],
            [
             0.8888888888888888,
             "#fdca26"
            ],
            [
             1,
             "#f0f921"
            ]
           ]
          },
          "colorway": [
           "#636efa",
           "#EF553B",
           "#00cc96",
           "#ab63fa",
           "#FFA15A",
           "#19d3f3",
           "#FF6692",
           "#B6E880",
           "#FF97FF",
           "#FECB52"
          ],
          "font": {
           "color": "#2a3f5f"
          },
          "geo": {
           "bgcolor": "white",
           "lakecolor": "white",
           "landcolor": "#E5ECF6",
           "showlakes": true,
           "showland": true,
           "subunitcolor": "white"
          },
          "hoverlabel": {
           "align": "left"
          },
          "hovermode": "closest",
          "mapbox": {
           "style": "light"
          },
          "paper_bgcolor": "white",
          "plot_bgcolor": "#E5ECF6",
          "polar": {
           "angularaxis": {
            "gridcolor": "white",
            "linecolor": "white",
            "ticks": ""
           },
           "bgcolor": "#E5ECF6",
           "radialaxis": {
            "gridcolor": "white",
            "linecolor": "white",
            "ticks": ""
           }
          },
          "scene": {
           "xaxis": {
            "backgroundcolor": "#E5ECF6",
            "gridcolor": "white",
            "gridwidth": 2,
            "linecolor": "white",
            "showbackground": true,
            "ticks": "",
            "zerolinecolor": "white"
           },
           "yaxis": {
            "backgroundcolor": "#E5ECF6",
            "gridcolor": "white",
            "gridwidth": 2,
            "linecolor": "white",
            "showbackground": true,
            "ticks": "",
            "zerolinecolor": "white"
           },
           "zaxis": {
            "backgroundcolor": "#E5ECF6",
            "gridcolor": "white",
            "gridwidth": 2,
            "linecolor": "white",
            "showbackground": true,
            "ticks": "",
            "zerolinecolor": "white"
           }
          },
          "shapedefaults": {
           "line": {
            "color": "#2a3f5f"
           }
          },
          "ternary": {
           "aaxis": {
            "gridcolor": "white",
            "linecolor": "white",
            "ticks": ""
           },
           "baxis": {
            "gridcolor": "white",
            "linecolor": "white",
            "ticks": ""
           },
           "bgcolor": "#E5ECF6",
           "caxis": {
            "gridcolor": "white",
            "linecolor": "white",
            "ticks": ""
           }
          },
          "title": {
           "x": 0.05
          },
          "xaxis": {
           "automargin": true,
           "gridcolor": "white",
           "linecolor": "white",
           "ticks": "",
           "title": {
            "standoff": 15
           },
           "zerolinecolor": "white",
           "zerolinewidth": 2
          },
          "yaxis": {
           "automargin": true,
           "gridcolor": "white",
           "linecolor": "white",
           "ticks": "",
           "title": {
            "standoff": 15
           },
           "zerolinecolor": "white",
           "zerolinewidth": 2
          }
         }
        },
        "xaxis": {
         "anchor": "y",
         "constrain": "domain",
         "domain": [
          0,
          1
         ],
         "scaleanchor": "y",
         "side": "top",
         "title": {
          "text": "Parameters"
         }
        },
        "yaxis": {
         "anchor": "x",
         "autorange": "reversed",
         "constrain": "domain",
         "domain": [
          0,
          1
         ],
         "title": {
          "text": "Parameters"
         }
        }
       }
      }
     },
     "metadata": {},
     "output_type": "display_data"
    }
   ],
   "source": [
    "# This is how you use the api to search for the best hyperparameters for\n",
    "# the MutagDataset using the PersformerHyperparameterSearch class.\n",
    "# The search is performed using the hyperparameter\n",
    "# search space described in hpo_space file provided.\n",
    "# Please customize the file to your own dataset.\n",
    "# The results are written to the path_writer directory.\n",
    "\n",
    "dataset_name=\"MutagDataset\"  # name of the dataset - has to exist in the datacloud buckets\n",
    "download_directory = join(\"data\", \"DatasetCloud\")  # directory where the dataset is downloaded\n",
    "path_hpo_metadata = join('hpo_space', 'Mutag_hyperparameter_space.json')  # file describing the hyperparameter search space\n",
    "path_writer = join(\"runs\", \"auto_ml\")  # directory where the runs are stored using the tensorboard writer\n",
    "\n",
    "# Initialize the search object with the search parameters.\n",
    "hpo = PersformerHyperparameterSearch(dataset_name=dataset_name,\n",
    "                               download_directory=download_directory,\n",
    "                               path_hpo_metadata=path_hpo_metadata,\n",
    "                               path_writer=path_writer)\n",
    "\n",
    "# Start the hyperparameter search.\n",
    "hpo.search()\n"
   ]
  },
  {
   "cell_type": "code",
   "execution_count": null,
   "metadata": {},
   "outputs": [],
   "source": []
  }
 ],
 "metadata": {
  "kernelspec": {
   "display_name": "Python 3 (ipykernel)",
   "language": "python",
   "name": "python3"
  },
  "language_info": {
   "codemirror_mode": {
    "name": "ipython",
    "version": 3
   },
   "file_extension": ".py",
   "mimetype": "text/x-python",
   "name": "python",
   "nbconvert_exporter": "python",
   "pygments_lexer": "ipython3",
   "version": "3.8.0"
  }
 },
 "nbformat": 4,
 "nbformat_minor": 4
}
