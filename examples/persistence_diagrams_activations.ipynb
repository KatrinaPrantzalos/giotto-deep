{
 "cells": [
  {
   "cell_type": "markdown",
   "metadata": {},
   "source": [
    "# Persistent homology of activations\n",
    "\n",
    "In this notebook we will show how the layers of a neural network trained on a classifiction task transforms the input data cloud."
   ]
  },
  {
   "cell_type": "code",
   "execution_count": 1,
   "metadata": {},
   "outputs": [
    {
     "ename": "ModuleNotFoundError",
     "evalue": "No module named 'utility'",
     "output_type": "error",
     "traceback": [
      "\u001b[0;31m---------------------------------------------------------------------------\u001b[0m",
      "\u001b[0;31mModuleNotFoundError\u001b[0m                       Traceback (most recent call last)",
      "\u001b[0;32m<ipython-input-1-be82fef303d0>\u001b[0m in \u001b[0;36m<module>\u001b[0;34m\u001b[0m\n\u001b[1;32m      7\u001b[0m \u001b[0;32mfrom\u001b[0m \u001b[0mgdeep\u001b[0m\u001b[0;34m.\u001b[0m\u001b[0mneural_nets\u001b[0m \u001b[0;32mimport\u001b[0m \u001b[0msample_nn\u001b[0m\u001b[0;34m\u001b[0m\u001b[0;34m\u001b[0m\u001b[0m\n\u001b[1;32m      8\u001b[0m \u001b[0;32mfrom\u001b[0m \u001b[0mgdeep\u001b[0m\u001b[0;34m.\u001b[0m\u001b[0mneural_nets\u001b[0m\u001b[0;34m.\u001b[0m\u001b[0mutility\u001b[0m \u001b[0;32mimport\u001b[0m \u001b[0mtrain_classification_nn\u001b[0m\u001b[0;34m,\u001b[0m \u001b[0mLayers_list\u001b[0m\u001b[0;34m,\u001b[0m \u001b[0mget_activations\u001b[0m\u001b[0;34m\u001b[0m\u001b[0;34m\u001b[0m\u001b[0m\n\u001b[0;32m----> 9\u001b[0;31m \u001b[0;32mfrom\u001b[0m \u001b[0mgdeep\u001b[0m\u001b[0;34m.\u001b[0m\u001b[0mneural_nets\u001b[0m\u001b[0;34m.\u001b[0m\u001b[0mpersistence_activations\u001b[0m \u001b[0;32mimport\u001b[0m \u001b[0mpersistence_diagrams_of_activations\u001b[0m\u001b[0;34m,\u001b[0m \u001b[0mplot_persistence_diagrams\u001b[0m\u001b[0;34m\u001b[0m\u001b[0;34m\u001b[0m\u001b[0m\n\u001b[0m\u001b[1;32m     10\u001b[0m \u001b[0;34m\u001b[0m\u001b[0m\n\u001b[1;32m     11\u001b[0m \u001b[0;32mfrom\u001b[0m \u001b[0msklearn\u001b[0m \u001b[0;32mimport\u001b[0m \u001b[0mdatasets\u001b[0m\u001b[0;34m\u001b[0m\u001b[0;34m\u001b[0m\u001b[0m\n",
      "\u001b[0;32m~/anaconda3/lib/python3.6/site-packages/gdeep/neural_nets/persistence_activations.py\u001b[0m in \u001b[0;36m<module>\u001b[0;34m\u001b[0m\n\u001b[1;32m      3\u001b[0m \u001b[0;32mfrom\u001b[0m \u001b[0mgtda\u001b[0m\u001b[0;34m.\u001b[0m\u001b[0mplotting\u001b[0m \u001b[0;32mimport\u001b[0m \u001b[0mplot_diagram\u001b[0m\u001b[0;34m\u001b[0m\u001b[0;34m\u001b[0m\u001b[0m\n\u001b[1;32m      4\u001b[0m \u001b[0;34m\u001b[0m\u001b[0m\n\u001b[0;32m----> 5\u001b[0;31m \u001b[0;32mimport\u001b[0m \u001b[0mutility\u001b[0m\u001b[0;34m\u001b[0m\u001b[0;34m\u001b[0m\u001b[0m\n\u001b[0m\u001b[1;32m      6\u001b[0m \u001b[0;34m\u001b[0m\u001b[0m\n\u001b[1;32m      7\u001b[0m def persistence_diagrams_of_activations(model, X_tensor,\n",
      "\u001b[0;31mModuleNotFoundError\u001b[0m: No module named 'utility'"
     ]
    }
   ],
   "source": [
    "import numpy as np\n",
    "import matplotlib.pyplot as plt\n",
    "import torch\n",
    "\n",
    "import sys\n",
    "sys.path.append(\"..\")\n",
    "from gdeep.neural_nets import sample_nn\n",
    "from gdeep.neural_nets.utility import train_classification_nn, Layers_list, get_activations\n",
    "from gdeep.neural_nets.persistence_activations import persistence_diagrams_of_activations, plot_persistence_diagrams\n",
    "\n",
    "from sklearn import datasets"
   ]
  },
  {
   "cell_type": "code",
   "execution_count": null,
   "metadata": {},
   "outputs": [],
   "source": [
    "# Create labeled point cloud data\n",
    "\n",
    "n_samples = 1000\n",
    "\n",
    "noisy_circles = datasets.make_circles(n_samples=n_samples, factor=0.3,\n",
    "                                    noise=.05)\n",
    "\n",
    "\n",
    "X = noisy_circles[0]\n",
    "y = noisy_circles[1]\n",
    "\n",
    "# Tranform to torch.tensor\n",
    "\n",
    "X_tensor = torch.from_numpy(X).float()\n",
    "y_tensor = torch.from_numpy(y).long()"
   ]
  },
  {
   "cell_type": "code",
   "execution_count": null,
   "metadata": {},
   "outputs": [],
   "source": [
    "# Plot data set X, y\n",
    "\n",
    "label_color = ['#377eb8' if lab else '#ff7f00' for lab in y.tolist()]\n",
    "\n",
    "plt.scatter(X[:,0],X[:,1],\n",
    "                color=label_color)\n",
    "\n",
    "plt.title(\"Data set with two classes\")\n",
    "plt.show()"
   ]
  },
  {
   "cell_type": "code",
   "execution_count": null,
   "metadata": {},
   "outputs": [],
   "source": [
    "# Build NN\n",
    "nodes_layer_1 = 32\n",
    "dropout_p_layer_1 = 0.7\n",
    "n_epochs = 2000\n",
    "learning_rate = 0.01\n",
    "\n",
    "nn_1 = sample_nn.SimpleNN(nodes_layer_1=nodes_layer_1, dropout_p=dropout_p_layer_1)"
   ]
  },
  {
   "cell_type": "code",
   "execution_count": null,
   "metadata": {},
   "outputs": [],
   "source": [
    "# Train NN\n",
    "\n",
    "train_classification_nn(nn_1, X_tensor, y_tensor)"
   ]
  },
  {
   "cell_type": "code",
   "execution_count": null,
   "metadata": {},
   "outputs": [],
   "source": [
    "# Visualize activations\n",
    "\n",
    "# Persistence diagrams of layerwise activations for the training set\n",
    "\n",
    "persistence_diagrams = persistence_diagrams_of_activations(nn_1, X_tensor, homology_dimensions=[0,1])\n",
    "\n",
    "plot_persistence_diagrams(persistence_diagrams)"
   ]
  },
  {
   "cell_type": "code",
   "execution_count": null,
   "metadata": {},
   "outputs": [],
   "source": []
  }
 ],
 "metadata": {
  "kernelspec": {
   "display_name": "Python 3",
   "language": "python",
   "name": "python3"
  },
  "language_info": {
   "codemirror_mode": {
    "name": "ipython",
    "version": 3
   },
   "file_extension": ".py",
   "mimetype": "text/x-python",
   "name": "python",
   "nbconvert_exporter": "python",
   "pygments_lexer": "ipython3",
   "version": "3.6.8"
  }
 },
 "nbformat": 4,
 "nbformat_minor": 2
}
